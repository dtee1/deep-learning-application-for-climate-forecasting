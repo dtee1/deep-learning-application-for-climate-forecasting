{
  "cells": [
    {
      "cell_type": "markdown",
      "metadata": {
        "id": "rSRCNgYzUwaf"
      },
      "source": [
        "<a name=\"software-requirements\"></a>\n",
        "# Software Requirements"
      ]
    },
    {
      "cell_type": "code",
      "execution_count": null,
      "metadata": {
        "id": "aj4B6nixRIYp"
      },
      "outputs": [],
      "source": [
        "%%bash\n",
        "python -m pip install --upgrade pip\n",
        "pip install git+https://github.com/ProfessorGuineapig/climate-learn.git"
      ]
    },
    {
      "cell_type": "code",
      "execution_count": 2,
      "metadata": {
        "colab": {
          "base_uri": "https://localhost:8080/"
        },
        "id": "MdgpjeAUqnhd",
        "outputId": "d09eb257-d67f-4735-ed8b-23a03359cbc8"
      },
      "outputs": [
        {
          "name": "stdout",
          "output_type": "stream",
          "text": [
            "Looking in indexes: https://pypi.org/simple, https://us-python.pkg.dev/colab-wheels/public/simple/\n",
            "Collecting rich\n",
            "  Downloading rich-13.3.2-py3-none-any.whl (238 kB)\n",
            "\u001b[2K     \u001b[90m━━━━━━━━━━━━━━━━━━━━━━━━━━━━━━━━━━━━━━\u001b[0m \u001b[32m238.7/238.7 kB\u001b[0m \u001b[31m13.6 MB/s\u001b[0m eta \u001b[36m0:00:00\u001b[0m\n",
            "\u001b[?25hCollecting markdown-it-py<3.0.0,>=2.2.0\n",
            "  Downloading markdown_it_py-2.2.0-py3-none-any.whl (84 kB)\n",
            "\u001b[2K     \u001b[90m━━━━━━━━━━━━━━━━━━━━━━━━━━━━━━━━━━━━━━━━\u001b[0m \u001b[32m84.5/84.5 kB\u001b[0m \u001b[31m12.1 MB/s\u001b[0m eta \u001b[36m0:00:00\u001b[0m\n",
            "\u001b[?25hCollecting pygments<3.0.0,>=2.13.0\n",
            "  Downloading Pygments-2.14.0-py3-none-any.whl (1.1 MB)\n",
            "\u001b[2K     \u001b[90m━━━━━━━━━━━━━━━━━━━━━━━━━━━━━━━━━━━━━━━━\u001b[0m \u001b[32m1.1/1.1 MB\u001b[0m \u001b[31m70.2 MB/s\u001b[0m eta \u001b[36m0:00:00\u001b[0m\n",
            "\u001b[?25hCollecting mdurl~=0.1\n",
            "  Downloading mdurl-0.1.2-py3-none-any.whl (10.0 kB)\n",
            "Installing collected packages: pygments, mdurl, markdown-it-py, rich\n",
            "  Attempting uninstall: pygments\n",
            "    Found existing installation: Pygments 2.6.1\n",
            "    Uninstalling Pygments-2.6.1:\n",
            "      Successfully uninstalled Pygments-2.6.1\n",
            "\u001b[31mERROR: pip's dependency resolver does not currently take into account all the packages that are installed. This behaviour is the source of the following dependency conflicts.\n",
            "ipython 7.9.0 requires jedi>=0.10, which is not installed.\u001b[0m\u001b[31m\n",
            "\u001b[0mSuccessfully installed markdown-it-py-2.2.0 mdurl-0.1.2 pygments-2.14.0 rich-13.3.2\n",
            "\u001b[33mWARNING: Running pip as the 'root' user can result in broken permissions and conflicting behaviour with the system package manager. It is recommended to use a virtual environment instead: https://pip.pypa.io/warnings/venv\u001b[0m\u001b[33m\n",
            "\u001b[0m"
          ]
        }
      ],
      "source": [
        "#After installing \"rich\", it is necessary to restart your runtime in order to ensure that all of the necessary components are properly loaded and running. \n",
        "pip install -U rich"
      ]
    },
    {
      "cell_type": "code",
      "execution_count": 3,
      "metadata": {
        "colab": {
          "base_uri": "https://localhost:8080/"
        },
        "id": "db5Zg6l6RJql",
        "outputId": "dccb1fcd-3809-49b9-b06c-7e348c6f4770"
      },
      "outputs": [
        {
          "name": "stdout",
          "output_type": "stream",
          "text": [
            "Mounted at /content/drive\n"
          ]
        }
      ],
      "source": [
        "from google.colab import drive\n",
        "drive.mount('/content/drive')"
      ]
    },
    {
      "cell_type": "code",
      "execution_count": 1,
      "metadata": {
        "colab": {
          "base_uri": "https://localhost:8080/"
        },
        "id": "HfJYVFoef6ux",
        "outputId": "4e8384bc-b4be-4b7a-dedb-444b4c118b03"
      },
      "outputs": [
        {
          "name": "stdout",
          "output_type": "stream",
          "text": [
            "Downloading era5 2m_temperature data for year 1995 from copernicus to /content/drive/MyDrive/Climate/.climate_tutorial/data/copernicus/era5/0.5/2m_temperature/2m_temperature_1995_0.5deg.nc\n"
          ]
        },
        {
          "name": "stderr",
          "output_type": "stream",
          "text": []
        },
        {
          "name": "stdout",
          "output_type": "stream",
          "text": [
            "Downloading era5 2m_temperature data for year 1996 from copernicus to /content/drive/MyDrive/Climate/.climate_tutorial/data/copernicus/era5/0.5/2m_temperature/2m_temperature_1996_0.5deg.nc\n"
          ]
        },
        {
          "name": "stderr",
          "output_type": "stream",
          "text": []
        },
        {
          "name": "stdout",
          "output_type": "stream",
          "text": [
            "Downloading era5 2m_temperature data for year 1997 from copernicus to /content/drive/MyDrive/Climate/.climate_tutorial/data/copernicus/era5/0.5/2m_temperature/2m_temperature_1997_0.5deg.nc\n"
          ]
        },
        {
          "name": "stderr",
          "output_type": "stream",
          "text": []
        },
        {
          "name": "stdout",
          "output_type": "stream",
          "text": [
            "Downloading era5 2m_temperature data for year 1998 from copernicus to /content/drive/MyDrive/Climate/.climate_tutorial/data/copernicus/era5/0.5/2m_temperature/2m_temperature_1998_0.5deg.nc\n"
          ]
        },
        {
          "name": "stderr",
          "output_type": "stream",
          "text": []
        },
        {
          "name": "stdout",
          "output_type": "stream",
          "text": [
            "Downloading era5 2m_temperature data for year 1999 from copernicus to /content/drive/MyDrive/Climate/.climate_tutorial/data/copernicus/era5/0.5/2m_temperature/2m_temperature_1999_0.5deg.nc\n"
          ]
        },
        {
          "name": "stderr",
          "output_type": "stream",
          "text": []
        },
        {
          "name": "stdout",
          "output_type": "stream",
          "text": [
            "Downloading era5 2m_temperature data for year 2000 from copernicus to /content/drive/MyDrive/Climate/.climate_tutorial/data/copernicus/era5/0.5/2m_temperature/2m_temperature_2000_0.5deg.nc\n"
          ]
        },
        {
          "name": "stderr",
          "output_type": "stream",
          "text": []
        },
        {
          "name": "stdout",
          "output_type": "stream",
          "text": [
            "Downloading era5 2m_temperature data for year 2001 from copernicus to /content/drive/MyDrive/Climate/.climate_tutorial/data/copernicus/era5/0.5/2m_temperature/2m_temperature_2001_0.5deg.nc\n"
          ]
        },
        {
          "name": "stderr",
          "output_type": "stream",
          "text": []
        },
        {
          "name": "stdout",
          "output_type": "stream",
          "text": [
            "Downloading era5 2m_temperature data for year 2002 from copernicus to /content/drive/MyDrive/Climate/.climate_tutorial/data/copernicus/era5/0.5/2m_temperature/2m_temperature_2002_0.5deg.nc\n"
          ]
        },
        {
          "name": "stderr",
          "output_type": "stream",
          "text": []
        },
        {
          "name": "stdout",
          "output_type": "stream",
          "text": [
            "Downloading era5 2m_temperature data for year 2003 from copernicus to /content/drive/MyDrive/Climate/.climate_tutorial/data/copernicus/era5/0.5/2m_temperature/2m_temperature_2003_0.5deg.nc\n"
          ]
        },
        {
          "name": "stderr",
          "output_type": "stream",
          "text": []
        },
        {
          "name": "stdout",
          "output_type": "stream",
          "text": [
            "Downloading era5 2m_temperature data for year 2004 from copernicus to /content/drive/MyDrive/Climate/.climate_tutorial/data/copernicus/era5/0.5/2m_temperature/2m_temperature_2004_0.5deg.nc\n"
          ]
        },
        {
          "name": "stderr",
          "output_type": "stream",
          "text": []
        },
        {
          "name": "stdout",
          "output_type": "stream",
          "text": [
            "Downloading era5 2m_temperature data for year 2005 from copernicus to /content/drive/MyDrive/Climate/.climate_tutorial/data/copernicus/era5/0.5/2m_temperature/2m_temperature_2005_0.5deg.nc\n"
          ]
        },
        {
          "name": "stderr",
          "output_type": "stream",
          "text": []
        },
        {
          "name": "stdout",
          "output_type": "stream",
          "text": [
            "Downloading era5 2m_temperature data for year 2006 from copernicus to /content/drive/MyDrive/Climate/.climate_tutorial/data/copernicus/era5/0.5/2m_temperature/2m_temperature_2006_0.5deg.nc\n"
          ]
        },
        {
          "name": "stderr",
          "output_type": "stream",
          "text": []
        },
        {
          "name": "stdout",
          "output_type": "stream",
          "text": [
            "Downloading era5 2m_temperature data for year 2007 from copernicus to /content/drive/MyDrive/Climate/.climate_tutorial/data/copernicus/era5/0.5/2m_temperature/2m_temperature_2007_0.5deg.nc\n"
          ]
        },
        {
          "name": "stderr",
          "output_type": "stream",
          "text": []
        },
        {
          "name": "stdout",
          "output_type": "stream",
          "text": [
            "Downloading era5 2m_temperature data for year 2008 from copernicus to /content/drive/MyDrive/Climate/.climate_tutorial/data/copernicus/era5/0.5/2m_temperature/2m_temperature_2008_0.5deg.nc\n"
          ]
        },
        {
          "name": "stderr",
          "output_type": "stream",
          "text": []
        },
        {
          "name": "stdout",
          "output_type": "stream",
          "text": [
            "Downloading era5 2m_temperature data for year 2009 from copernicus to /content/drive/MyDrive/Climate/.climate_tutorial/data/copernicus/era5/0.5/2m_temperature/2m_temperature_2009_0.5deg.nc\n"
          ]
        },
        {
          "name": "stderr",
          "output_type": "stream",
          "text": []
        },
        {
          "name": "stdout",
          "output_type": "stream",
          "text": [
            "Downloading era5 2m_temperature data for year 2010 from copernicus to /content/drive/MyDrive/Climate/.climate_tutorial/data/copernicus/era5/0.5/2m_temperature/2m_temperature_2010_0.5deg.nc\n"
          ]
        },
        {
          "name": "stderr",
          "output_type": "stream",
          "text": []
        },
        {
          "name": "stdout",
          "output_type": "stream",
          "text": [
            "Downloading era5 2m_temperature data for year 2011 from copernicus to /content/drive/MyDrive/Climate/.climate_tutorial/data/copernicus/era5/0.5/2m_temperature/2m_temperature_2011_0.5deg.nc\n"
          ]
        },
        {
          "name": "stderr",
          "output_type": "stream",
          "text": []
        },
        {
          "name": "stdout",
          "output_type": "stream",
          "text": [
            "Downloading era5 2m_temperature data for year 2012 from copernicus to /content/drive/MyDrive/Climate/.climate_tutorial/data/copernicus/era5/0.5/2m_temperature/2m_temperature_2012_0.5deg.nc\n"
          ]
        },
        {
          "name": "stderr",
          "output_type": "stream",
          "text": []
        },
        {
          "name": "stdout",
          "output_type": "stream",
          "text": [
            "Downloading era5 2m_temperature data for year 2013 from copernicus to /content/drive/MyDrive/Climate/.climate_tutorial/data/copernicus/era5/0.5/2m_temperature/2m_temperature_2013_0.5deg.nc\n"
          ]
        },
        {
          "name": "stderr",
          "output_type": "stream",
          "text": []
        },
        {
          "name": "stdout",
          "output_type": "stream",
          "text": [
            "Downloading era5 2m_temperature data for year 2014 from copernicus to /content/drive/MyDrive/Climate/.climate_tutorial/data/copernicus/era5/0.5/2m_temperature/2m_temperature_2014_0.5deg.nc\n"
          ]
        },
        {
          "name": "stderr",
          "output_type": "stream",
          "text": []
        },
        {
          "name": "stdout",
          "output_type": "stream",
          "text": [
            "Downloading era5 2m_temperature data for year 2015 from copernicus to /content/drive/MyDrive/Climate/.climate_tutorial/data/copernicus/era5/0.5/2m_temperature/2m_temperature_2015_0.5deg.nc\n"
          ]
        },
        {
          "name": "stderr",
          "output_type": "stream",
          "text": []
        },
        {
          "name": "stdout",
          "output_type": "stream",
          "text": [
            "Downloading era5 2m_temperature data for year 2016 from copernicus to /content/drive/MyDrive/Climate/.climate_tutorial/data/copernicus/era5/0.5/2m_temperature/2m_temperature_2016_0.5deg.nc\n"
          ]
        },
        {
          "name": "stderr",
          "output_type": "stream",
          "text": []
        },
        {
          "name": "stdout",
          "output_type": "stream",
          "text": [
            "Downloading era5 2m_temperature data for year 2017 from copernicus to /content/drive/MyDrive/Climate/.climate_tutorial/data/copernicus/era5/0.5/2m_temperature/2m_temperature_2017_0.5deg.nc\n"
          ]
        },
        {
          "name": "stderr",
          "output_type": "stream",
          "text": []
        },
        {
          "name": "stdout",
          "output_type": "stream",
          "text": [
            "Downloading era5 2m_temperature data for year 2018 from copernicus to /content/drive/MyDrive/Climate/.climate_tutorial/data/copernicus/era5/0.5/2m_temperature/2m_temperature_2018_0.5deg.nc\n"
          ]
        },
        {
          "name": "stderr",
          "output_type": "stream",
          "text": []
        },
        {
          "name": "stdout",
          "output_type": "stream",
          "text": [
            "Downloading era5 2m_temperature data for year 2019 from copernicus to /content/drive/MyDrive/Climate/.climate_tutorial/data/copernicus/era5/0.5/2m_temperature/2m_temperature_2019_0.5deg.nc\n"
          ]
        },
        {
          "name": "stderr",
          "output_type": "stream",
          "text": []
        },
        {
          "name": "stdout",
          "output_type": "stream",
          "text": [
            "Downloading era5 2m_temperature data for year 2020 from copernicus to /content/drive/MyDrive/Climate/.climate_tutorial/data/copernicus/era5/0.5/2m_temperature/2m_temperature_2020_0.5deg.nc\n"
          ]
        },
        {
          "name": "stderr",
          "output_type": "stream",
          "text": []
        },
        {
          "name": "stdout",
          "output_type": "stream",
          "text": [
            "Downloading era5 2m_temperature data for year 2021 from copernicus to /content/drive/MyDrive/Climate/.climate_tutorial/data/copernicus/era5/0.5/2m_temperature/2m_temperature_2021_0.5deg.nc\n"
          ]
        },
        {
          "name": "stderr",
          "output_type": "stream",
          "text": []
        },
        {
          "name": "stdout",
          "output_type": "stream",
          "text": [
            "Downloading era5 2m_temperature data for year 2022 from copernicus to /content/drive/MyDrive/Climate/.climate_tutorial/data/copernicus/era5/0.5/2m_temperature/2m_temperature_2022_0.5deg.nc\n"
          ]
        },
        {
          "name": "stderr",
          "output_type": "stream",
          "text": []
        }
      ],
      "source": [
        "#@title # Loop over the years and download the data for each year  ERA5 { run: \"auto\" }\n",
        "# Define the years list\n",
        "from climate_learn.data import download1\n",
        "years = []\n",
        "for y in range(1995, 2023):\n",
        "    years.append(str(y))\n",
        "\n",
        "# Define the API key\n",
        "api_key = \"180713:7290f5d5-5abc-4f46-bd41-36c4eb380b4a\" # Change to your_api_key\n",
        "\n",
        "# Define the root directory for data downloads\n",
        "root_dir = \"/content/drive/MyDrive/Climate/.climate_tutorial\"\n",
        "\n",
        "# Define the dataset and variable to download\n",
        "\n",
        "\n",
        "\n",
        "dataset = \"era5\"\n",
        "variable = \"2m_temperature\"\n",
        "\n",
        "#This method of selecting an area of interest can be seen here.: https://youtu.be/EIe7IBMqhsw\n",
        "'''\n",
        "The area list corresponds to the latitude and longitude boundaries of the region of interest in the xarray dataset.\n",
        "\n",
        "The first and third elements of the area list correspond to the minimum and maximum latitude values of the region of interest, respectively. In this case, the minimum latitude is -5.2 and the maximum latitude is 31.\n",
        "\n",
        "The second and fourth elements of the area list correspond to the minimum and maximum longitude values of the region of interest, respectively. In this case, the minimum longitude is 34 and the maximum longitude is 45.\n",
        "\n",
        "The latitude and longitude coordinates in the xarray dataset should fall within these boundary values to be considered part of the region of interest.\n",
        "\n",
        "'''\n",
        "\n",
        "\n",
        "area = [58, -100, 42.5, -68.5]\n",
        "\n",
        "resolution = str(0.5)\n",
        "\n",
        "# Loop over the years and download the data for each year\n",
        "for i, year in enumerate(years):\n",
        "    #download_copernicus(root=root_dir, dataset=dataset, variable=variable, year=year, api_key=api_key)\n",
        "    download1(root = root_dir, source = \"copernicus\", variable = variable, dataset = dataset, year = year, resolution=resolution, area=area, api_key = api_key)"
      ]
    },
    {
      "cell_type": "code",
      "execution_count": null,
      "metadata": {
        "colab": {
          "base_uri": "https://localhost:8080/",
          "height": 392
        },
        "id": "DL_CjAt0OS-7",
        "outputId": "5bb07f83-fbbf-4ef5-918f-7204ac27c7b3"
      },
      "outputs": [],
      "source": [
        "from climate_learn.utils.data import load_dataset, view\n",
        "from climate_learn.data import download1\n",
        "\n",
        "dataset = load_dataset(\"/content/drive/MyDrive/Climate/.climate_tutorial/data/copernicus/era5/0.5/2m_temperature\")\n",
        "view(dataset)"
      ]
    },
    {
      "cell_type": "markdown",
      "metadata": {
        "id": "99jkSa_KmrDH"
      },
      "source": [
        "<a name=\"temporal-forecasting\"></a>\n",
        "# Temporal Forecasting"
      ]
    },
    {
      "attachments": {},
      "cell_type": "markdown",
      "metadata": {
        "id": "sJ6eY2dr_QXs"
      },
      "source": [
        "## Data Preparation\n"
      ]
    },
    {
      "cell_type": "code",
      "execution_count": 1,
      "metadata": {
        "colab": {
          "base_uri": "https://localhost:8080/"
        },
        "id": "mTzr2Liw-SEv",
        "outputId": "e4e899f6-ae3c-457e-edcc-27b9bbee461b"
      },
      "outputs": [
        {
          "name": "stdout",
          "output_type": "stream",
          "text": [
            "Creating train dataset\n"
          ]
        },
        {
          "name": "stderr",
          "output_type": "stream",
          "text": [
            "100%|██████████| 15/15 [00:28<00:00,  1.91s/it]\n"
          ]
        },
        {
          "name": "stdout",
          "output_type": "stream",
          "text": [
            "Creating val dataset\n"
          ]
        },
        {
          "name": "stderr",
          "output_type": "stream",
          "text": [
            "100%|██████████| 2/2 [00:02<00:00,  1.50s/it]\n"
          ]
        },
        {
          "name": "stdout",
          "output_type": "stream",
          "text": [
            "Creating test dataset\n"
          ]
        },
        {
          "name": "stderr",
          "output_type": "stream",
          "text": [
            "100%|██████████| 3/3 [00:03<00:00,  1.08s/it]\n"
          ]
        }
      ],
      "source": [
        "from climate_learn.utils.data import load_dataset, view\n",
        "from climate_learn.utils.datetime import Year, Days, Hours\n",
        "from climate_learn.data.climate_dataset.args import ERA5Args\n",
        "from climate_learn.data.tasks.args import ForecastingArgs\n",
        "from climate_learn.data import download1, DataModuleArgs, DataModule\n",
        "\n",
        "# Download data from weatherbench (~2-3 minutes)\n",
        "#download1(root = \"/content/drive/MyDrive/Climate/.climate_tutorial\", source = \"weatherbench\", variable = \"2m_temperature\", dataset = \"era5\", resolution = \"5.625\")\n",
        "\n",
        "#dataset = load_dataset(\"/content/drive/MyDrive/Climate/.climate_tutorial/era5/0.5/2m_temperature\")\n",
        "#view(dataset)\n",
        "\n",
        "data_args = ERA5Args(\n",
        "    root_dir = \"/content/drive/MyDrive/Climate/.climate_tutorial/data/copernicus/era5/0.5/\",\n",
        "    variables = [\"2m_temperature\"],\n",
        "    years = range(1975, 1994),\n",
        ")\n",
        "\n",
        "forecasting_args = ForecastingArgs(\n",
        "    dataset_args = data_args,\n",
        "    in_vars = [\"2m_temperature\"],\n",
        "    out_vars = [\"2m_temperature\"],\n",
        "    pred_range = 3*24,\n",
        "    subsample = 6,\n",
        ")\n",
        "\n",
        "data_module_args = DataModuleArgs(\n",
        "    task_args = forecasting_args,\n",
        "    train_start_year = 1975,\n",
        "    val_start_year = 1990,\n",
        "    test_start_year = 1992,\n",
        "    end_year = 1994,\n",
        ")\n",
        "\n",
        "data_module = DataModule(\n",
        "    data_module_args = data_module_args,\n",
        "    batch_size = 128,\n",
        "    num_workers = 1\n",
        ")"
      ]
    },
    {
      "cell_type": "markdown",
      "metadata": {
        "id": "yWXsiZ5freTG"
      },
      "source": [
        "## Model initialization "
      ]
    },
    {
      "cell_type": "code",
      "execution_count": 2,
      "metadata": {
        "id": "paTI33tP5R4H"
      },
      "outputs": [],
      "source": [
        "from climate_learn.models import load_model\n",
        "\n",
        "model_kwargs = {\n",
        "    \"in_channels\": len(data_module.hparams.data_module_args.train_task_args.in_vars),\n",
        "    \"out_channels\": len(data_module.hparams.data_module_args.train_task_args.out_vars),\n",
        "    \"n_blocks\": 4\n",
        "}\n",
        "\n",
        "# Only for Vit\n",
        "\"\"\"model_kwargs = {\n",
        "    \"img_size\":[32, 64],\n",
        "    \"patch_size\":4,\n",
        "    \"drop_path\":0.1,\n",
        "    \"drop_rate\":0.1,\n",
        "    \"learn_pos_emb\": False,\n",
        "    \"in_vars\":[\n",
        "        \"2m_temperature\",\n",
        "        ],\n",
        "    \"out_vars\":[\"2m_temperature\"],\n",
        "    \"embed_dim\":256,\n",
        "    \"depth\":6,\n",
        "    \"decoder_depth\":2,\n",
        "    \"num_heads\":4,\n",
        "    \"mlp_ratio\":1,\n",
        "}\"\"\"\n",
        "\n",
        "optim_kwargs = {\n",
        "    \"lr\": 1e-4,\n",
        "    \"weight_decay\": 1e-5,\n",
        "    \"warmup_epochs\": 1,\n",
        "    \"max_epochs\": 5,\n",
        "}\n",
        "\n",
        "#model_module = load_model(name = \"resnet\", task = \"forecasting\", model_kwargs = model_kwargs, optim_kwargs = optim_kwargs)\n",
        "#model_module = load_model(name = \"vit\", task = \"forecasting\", model_kwargs = model_kwargs, optim_kwargs = optim_kwargs)\n",
        "model_module = load_model(name = \"unet\", task = \"forecasting\", model_kwargs = model_kwargs, optim_kwargs = optim_kwargs)"
      ]
    },
    {
      "cell_type": "code",
      "execution_count": 3,
      "metadata": {
        "id": "BalFce--51Rh"
      },
      "outputs": [],
      "source": [
        "from climate_learn.models import set_climatology\n",
        "set_climatology(model_module, data_module)"
      ]
    },
    {
      "cell_type": "markdown",
      "metadata": {
        "id": "MLxhgSOctxo4"
      },
      "source": [
        "## Training"
      ]
    },
    {
      "cell_type": "code",
      "execution_count": 4,
      "metadata": {
        "colab": {
          "base_uri": "https://localhost:8080/"
        },
        "id": "oqh0TzP4TebP",
        "outputId": "90a4b16a-b35f-416d-cd34-4efe39757702"
      },
      "outputs": [
        {
          "name": "stderr",
          "output_type": "stream",
          "text": [
            "INFO:lightning_fabric.utilities.seed:Global seed set to 0\n"
          ]
        }
      ],
      "source": [
        "from climate_learn.training import Trainer\n",
        "\n",
        "trainer = Trainer(\n",
        "    seed = 0,\n",
        "    accelerator = \"gpu\",\n",
        "    # accelerator = \"cpu\",\n",
        "    precision = 16,\n",
        "    max_epochs = 4,\n",
        ")"
      ]
    },
    {
      "cell_type": "code",
      "execution_count": 5,
      "metadata": {
        "colab": {
          "base_uri": "https://localhost:8080/"
        },
        "id": "Ubk2qOTXd_i_",
        "outputId": "95df5da7-aefe-4ecb-ac92-0411738a8220"
      },
      "outputs": [
        {
          "name": "stderr",
          "output_type": "stream",
          "text": [
            "/usr/local/lib/python3.9/dist-packages/sklearn/linear_model/_ridge.py:216: LinAlgWarning: Ill-conditioned matrix (rcond=1.80833e-10): result may not be accurate.\n",
            "  return linalg.solve(A, Xy, assume_a=\"pos\", overwrite_a=True).T\n"
          ]
        }
      ],
      "source": [
        "from climate_learn.models import fit_lin_reg_baseline\n",
        "fit_lin_reg_baseline(model_module, data_module, reg_hparam=0.0)"
      ]
    },
    {
      "cell_type": "code",
      "execution_count": 6,
      "metadata": {
        "colab": {
          "base_uri": "https://localhost:8080/",
          "height": 1000,
          "referenced_widgets": [
            "9f83dd7662e64ba3a6ba27a387caa6bf",
            "15ba4f7ba8c4464ab91aa8e39440837b"
          ]
        },
        "id": "BwZ49aNGhhUt",
        "outputId": "09cae37b-a1df-4cd9-fa83-6ab76ba931fe"
      },
      "outputs": [
        {
          "data": {
            "text/html": [
              "<pre style=\"white-space:pre;overflow-x:auto;line-height:normal;font-family:Menlo,'DejaVu Sans Mono',consolas,'Courier New',monospace\">┏━━━━━┳━━━━━━━━━━━━━━━━━━━━━━━━━━━━━━━┳━━━━━━━━━━━━━━━━━━━┳━━━━━━━━┓\n",
              "┃<span style=\"color: #800080; text-decoration-color: #800080; font-weight: bold\">     </span>┃<span style=\"color: #800080; text-decoration-color: #800080; font-weight: bold\"> Name                          </span>┃<span style=\"color: #800080; text-decoration-color: #800080; font-weight: bold\"> Type              </span>┃<span style=\"color: #800080; text-decoration-color: #800080; font-weight: bold\"> Params </span>┃\n",
              "┡━━━━━╇━━━━━━━━━━━━━━━━━━━━━━━━━━━━━━━╇━━━━━━━━━━━━━━━━━━━╇━━━━━━━━┩\n",
              "│<span style=\"color: #7f7f7f; text-decoration-color: #7f7f7f\"> 0   </span>│ net                           │ Unet              │  250 M │\n",
              "│<span style=\"color: #7f7f7f; text-decoration-color: #7f7f7f\"> 1   </span>│ net.activation                │ LeakyReLU         │      0 │\n",
              "│<span style=\"color: #7f7f7f; text-decoration-color: #7f7f7f\"> 2   </span>│ net.image_proj                │ PeriodicConv2D    │  3.2 K │\n",
              "│<span style=\"color: #7f7f7f; text-decoration-color: #7f7f7f\"> 3   </span>│ net.image_proj.padding        │ PeriodicPadding2D │      0 │\n",
              "│<span style=\"color: #7f7f7f; text-decoration-color: #7f7f7f\"> 4   </span>│ net.image_proj.conv           │ Conv2d            │  3.2 K │\n",
              "│<span style=\"color: #7f7f7f; text-decoration-color: #7f7f7f\"> 5   </span>│ net.down                      │ ModuleList        │ 75.4 M │\n",
              "│<span style=\"color: #7f7f7f; text-decoration-color: #7f7f7f\"> 6   </span>│ net.down.0                    │ DownBlock         │ 74.1 K │\n",
              "│<span style=\"color: #7f7f7f; text-decoration-color: #7f7f7f\"> 7   </span>│ net.down.0.res                │ ResidualBlock     │ 74.1 K │\n",
              "│<span style=\"color: #7f7f7f; text-decoration-color: #7f7f7f\"> 8   </span>│ net.down.0.res.activation     │ LeakyReLU         │      0 │\n",
              "│<span style=\"color: #7f7f7f; text-decoration-color: #7f7f7f\"> 9   </span>│ net.down.0.res.conv1          │ PeriodicConv2D    │ 36.9 K │\n",
              "│<span style=\"color: #7f7f7f; text-decoration-color: #7f7f7f\"> 10  </span>│ net.down.0.res.conv1.padding  │ PeriodicPadding2D │      0 │\n",
              "│<span style=\"color: #7f7f7f; text-decoration-color: #7f7f7f\"> 11  </span>│ net.down.0.res.conv1.conv     │ Conv2d            │ 36.9 K │\n",
              "│<span style=\"color: #7f7f7f; text-decoration-color: #7f7f7f\"> 12  </span>│ net.down.0.res.conv2          │ PeriodicConv2D    │ 36.9 K │\n",
              "│<span style=\"color: #7f7f7f; text-decoration-color: #7f7f7f\"> 13  </span>│ net.down.0.res.conv2.padding  │ PeriodicPadding2D │      0 │\n",
              "│<span style=\"color: #7f7f7f; text-decoration-color: #7f7f7f\"> 14  </span>│ net.down.0.res.conv2.conv     │ Conv2d            │ 36.9 K │\n",
              "│<span style=\"color: #7f7f7f; text-decoration-color: #7f7f7f\"> 15  </span>│ net.down.0.res.shortcut       │ Identity          │      0 │\n",
              "│<span style=\"color: #7f7f7f; text-decoration-color: #7f7f7f\"> 16  </span>│ net.down.0.res.norm1          │ BatchNorm2d       │    128 │\n",
              "│<span style=\"color: #7f7f7f; text-decoration-color: #7f7f7f\"> 17  </span>│ net.down.0.res.norm2          │ BatchNorm2d       │    128 │\n",
              "│<span style=\"color: #7f7f7f; text-decoration-color: #7f7f7f\"> 18  </span>│ net.down.0.res.drop           │ Dropout           │      0 │\n",
              "│<span style=\"color: #7f7f7f; text-decoration-color: #7f7f7f\"> 19  </span>│ net.down.0.attn               │ Identity          │      0 │\n",
              "│<span style=\"color: #7f7f7f; text-decoration-color: #7f7f7f\"> 20  </span>│ net.down.1                    │ DownBlock         │ 74.1 K │\n",
              "│<span style=\"color: #7f7f7f; text-decoration-color: #7f7f7f\"> 21  </span>│ net.down.1.res                │ ResidualBlock     │ 74.1 K │\n",
              "│<span style=\"color: #7f7f7f; text-decoration-color: #7f7f7f\"> 22  </span>│ net.down.1.res.activation     │ LeakyReLU         │      0 │\n",
              "│<span style=\"color: #7f7f7f; text-decoration-color: #7f7f7f\"> 23  </span>│ net.down.1.res.conv1          │ PeriodicConv2D    │ 36.9 K │\n",
              "│<span style=\"color: #7f7f7f; text-decoration-color: #7f7f7f\"> 24  </span>│ net.down.1.res.conv1.padding  │ PeriodicPadding2D │      0 │\n",
              "│<span style=\"color: #7f7f7f; text-decoration-color: #7f7f7f\"> 25  </span>│ net.down.1.res.conv1.conv     │ Conv2d            │ 36.9 K │\n",
              "│<span style=\"color: #7f7f7f; text-decoration-color: #7f7f7f\"> 26  </span>│ net.down.1.res.conv2          │ PeriodicConv2D    │ 36.9 K │\n",
              "│<span style=\"color: #7f7f7f; text-decoration-color: #7f7f7f\"> 27  </span>│ net.down.1.res.conv2.padding  │ PeriodicPadding2D │      0 │\n",
              "│<span style=\"color: #7f7f7f; text-decoration-color: #7f7f7f\"> 28  </span>│ net.down.1.res.conv2.conv     │ Conv2d            │ 36.9 K │\n",
              "│<span style=\"color: #7f7f7f; text-decoration-color: #7f7f7f\"> 29  </span>│ net.down.1.res.shortcut       │ Identity          │      0 │\n",
              "│<span style=\"color: #7f7f7f; text-decoration-color: #7f7f7f\"> 30  </span>│ net.down.1.res.norm1          │ BatchNorm2d       │    128 │\n",
              "│<span style=\"color: #7f7f7f; text-decoration-color: #7f7f7f\"> 31  </span>│ net.down.1.res.norm2          │ BatchNorm2d       │    128 │\n",
              "│<span style=\"color: #7f7f7f; text-decoration-color: #7f7f7f\"> 32  </span>│ net.down.1.res.drop           │ Dropout           │      0 │\n",
              "│<span style=\"color: #7f7f7f; text-decoration-color: #7f7f7f\"> 33  </span>│ net.down.1.attn               │ Identity          │      0 │\n",
              "│<span style=\"color: #7f7f7f; text-decoration-color: #7f7f7f\"> 34  </span>│ net.down.2                    │ DownBlock         │ 74.1 K │\n",
              "│<span style=\"color: #7f7f7f; text-decoration-color: #7f7f7f\"> 35  </span>│ net.down.2.res                │ ResidualBlock     │ 74.1 K │\n",
              "│<span style=\"color: #7f7f7f; text-decoration-color: #7f7f7f\"> 36  </span>│ net.down.2.res.activation     │ LeakyReLU         │      0 │\n",
              "│<span style=\"color: #7f7f7f; text-decoration-color: #7f7f7f\"> 37  </span>│ net.down.2.res.conv1          │ PeriodicConv2D    │ 36.9 K │\n",
              "│<span style=\"color: #7f7f7f; text-decoration-color: #7f7f7f\"> 38  </span>│ net.down.2.res.conv1.padding  │ PeriodicPadding2D │      0 │\n",
              "│<span style=\"color: #7f7f7f; text-decoration-color: #7f7f7f\"> 39  </span>│ net.down.2.res.conv1.conv     │ Conv2d            │ 36.9 K │\n",
              "│<span style=\"color: #7f7f7f; text-decoration-color: #7f7f7f\"> 40  </span>│ net.down.2.res.conv2          │ PeriodicConv2D    │ 36.9 K │\n",
              "│<span style=\"color: #7f7f7f; text-decoration-color: #7f7f7f\"> 41  </span>│ net.down.2.res.conv2.padding  │ PeriodicPadding2D │      0 │\n",
              "│<span style=\"color: #7f7f7f; text-decoration-color: #7f7f7f\"> 42  </span>│ net.down.2.res.conv2.conv     │ Conv2d            │ 36.9 K │\n",
              "│<span style=\"color: #7f7f7f; text-decoration-color: #7f7f7f\"> 43  </span>│ net.down.2.res.shortcut       │ Identity          │      0 │\n",
              "│<span style=\"color: #7f7f7f; text-decoration-color: #7f7f7f\"> 44  </span>│ net.down.2.res.norm1          │ BatchNorm2d       │    128 │\n",
              "│<span style=\"color: #7f7f7f; text-decoration-color: #7f7f7f\"> 45  </span>│ net.down.2.res.norm2          │ BatchNorm2d       │    128 │\n",
              "│<span style=\"color: #7f7f7f; text-decoration-color: #7f7f7f\"> 46  </span>│ net.down.2.res.drop           │ Dropout           │      0 │\n",
              "│<span style=\"color: #7f7f7f; text-decoration-color: #7f7f7f\"> 47  </span>│ net.down.2.attn               │ Identity          │      0 │\n",
              "│<span style=\"color: #7f7f7f; text-decoration-color: #7f7f7f\"> 48  </span>│ net.down.3                    │ DownBlock         │ 74.1 K │\n",
              "│<span style=\"color: #7f7f7f; text-decoration-color: #7f7f7f\"> 49  </span>│ net.down.3.res                │ ResidualBlock     │ 74.1 K │\n",
              "│<span style=\"color: #7f7f7f; text-decoration-color: #7f7f7f\"> 50  </span>│ net.down.3.res.activation     │ LeakyReLU         │      0 │\n",
              "│<span style=\"color: #7f7f7f; text-decoration-color: #7f7f7f\"> 51  </span>│ net.down.3.res.conv1          │ PeriodicConv2D    │ 36.9 K │\n",
              "│<span style=\"color: #7f7f7f; text-decoration-color: #7f7f7f\"> 52  </span>│ net.down.3.res.conv1.padding  │ PeriodicPadding2D │      0 │\n",
              "│<span style=\"color: #7f7f7f; text-decoration-color: #7f7f7f\"> 53  </span>│ net.down.3.res.conv1.conv     │ Conv2d            │ 36.9 K │\n",
              "│<span style=\"color: #7f7f7f; text-decoration-color: #7f7f7f\"> 54  </span>│ net.down.3.res.conv2          │ PeriodicConv2D    │ 36.9 K │\n",
              "│<span style=\"color: #7f7f7f; text-decoration-color: #7f7f7f\"> 55  </span>│ net.down.3.res.conv2.padding  │ PeriodicPadding2D │      0 │\n",
              "│<span style=\"color: #7f7f7f; text-decoration-color: #7f7f7f\"> 56  </span>│ net.down.3.res.conv2.conv     │ Conv2d            │ 36.9 K │\n",
              "│<span style=\"color: #7f7f7f; text-decoration-color: #7f7f7f\"> 57  </span>│ net.down.3.res.shortcut       │ Identity          │      0 │\n",
              "│<span style=\"color: #7f7f7f; text-decoration-color: #7f7f7f\"> 58  </span>│ net.down.3.res.norm1          │ BatchNorm2d       │    128 │\n",
              "│<span style=\"color: #7f7f7f; text-decoration-color: #7f7f7f\"> 59  </span>│ net.down.3.res.norm2          │ BatchNorm2d       │    128 │\n",
              "│<span style=\"color: #7f7f7f; text-decoration-color: #7f7f7f\"> 60  </span>│ net.down.3.res.drop           │ Dropout           │      0 │\n",
              "│<span style=\"color: #7f7f7f; text-decoration-color: #7f7f7f\"> 61  </span>│ net.down.3.attn               │ Identity          │      0 │\n",
              "│<span style=\"color: #7f7f7f; text-decoration-color: #7f7f7f\"> 62  </span>│ net.down.4                    │ Downsample        │ 36.9 K │\n",
              "│<span style=\"color: #7f7f7f; text-decoration-color: #7f7f7f\"> 63  </span>│ net.down.4.conv               │ Conv2d            │ 36.9 K │\n",
              "│<span style=\"color: #7f7f7f; text-decoration-color: #7f7f7f\"> 64  </span>│ net.down.5                    │ DownBlock         │  230 K │\n",
              "│<span style=\"color: #7f7f7f; text-decoration-color: #7f7f7f\"> 65  </span>│ net.down.5.res                │ ResidualBlock     │  230 K │\n",
              "│<span style=\"color: #7f7f7f; text-decoration-color: #7f7f7f\"> 66  </span>│ net.down.5.res.activation     │ LeakyReLU         │      0 │\n",
              "│<span style=\"color: #7f7f7f; text-decoration-color: #7f7f7f\"> 67  </span>│ net.down.5.res.conv1          │ PeriodicConv2D    │ 73.9 K │\n",
              "│<span style=\"color: #7f7f7f; text-decoration-color: #7f7f7f\"> 68  </span>│ net.down.5.res.conv1.padding  │ PeriodicPadding2D │      0 │\n",
              "│<span style=\"color: #7f7f7f; text-decoration-color: #7f7f7f\"> 69  </span>│ net.down.5.res.conv1.conv     │ Conv2d            │ 73.9 K │\n",
              "│<span style=\"color: #7f7f7f; text-decoration-color: #7f7f7f\"> 70  </span>│ net.down.5.res.conv2          │ PeriodicConv2D    │  147 K │\n",
              "│<span style=\"color: #7f7f7f; text-decoration-color: #7f7f7f\"> 71  </span>│ net.down.5.res.conv2.padding  │ PeriodicPadding2D │      0 │\n",
              "│<span style=\"color: #7f7f7f; text-decoration-color: #7f7f7f\"> 72  </span>│ net.down.5.res.conv2.conv     │ Conv2d            │  147 K │\n",
              "│<span style=\"color: #7f7f7f; text-decoration-color: #7f7f7f\"> 73  </span>│ net.down.5.res.shortcut       │ Conv2d            │  8.3 K │\n",
              "│<span style=\"color: #7f7f7f; text-decoration-color: #7f7f7f\"> 74  </span>│ net.down.5.res.norm1          │ BatchNorm2d       │    256 │\n",
              "│<span style=\"color: #7f7f7f; text-decoration-color: #7f7f7f\"> 75  </span>│ net.down.5.res.norm2          │ BatchNorm2d       │    256 │\n",
              "│<span style=\"color: #7f7f7f; text-decoration-color: #7f7f7f\"> 76  </span>│ net.down.5.res.drop           │ Dropout           │      0 │\n",
              "│<span style=\"color: #7f7f7f; text-decoration-color: #7f7f7f\"> 77  </span>│ net.down.5.attn               │ Identity          │      0 │\n",
              "│<span style=\"color: #7f7f7f; text-decoration-color: #7f7f7f\"> 78  </span>│ net.down.6                    │ DownBlock         │  295 K │\n",
              "│<span style=\"color: #7f7f7f; text-decoration-color: #7f7f7f\"> 79  </span>│ net.down.6.res                │ ResidualBlock     │  295 K │\n",
              "│<span style=\"color: #7f7f7f; text-decoration-color: #7f7f7f\"> 80  </span>│ net.down.6.res.activation     │ LeakyReLU         │      0 │\n",
              "│<span style=\"color: #7f7f7f; text-decoration-color: #7f7f7f\"> 81  </span>│ net.down.6.res.conv1          │ PeriodicConv2D    │  147 K │\n",
              "│<span style=\"color: #7f7f7f; text-decoration-color: #7f7f7f\"> 82  </span>│ net.down.6.res.conv1.padding  │ PeriodicPadding2D │      0 │\n",
              "│<span style=\"color: #7f7f7f; text-decoration-color: #7f7f7f\"> 83  </span>│ net.down.6.res.conv1.conv     │ Conv2d            │  147 K │\n",
              "│<span style=\"color: #7f7f7f; text-decoration-color: #7f7f7f\"> 84  </span>│ net.down.6.res.conv2          │ PeriodicConv2D    │  147 K │\n",
              "│<span style=\"color: #7f7f7f; text-decoration-color: #7f7f7f\"> 85  </span>│ net.down.6.res.conv2.padding  │ PeriodicPadding2D │      0 │\n",
              "│<span style=\"color: #7f7f7f; text-decoration-color: #7f7f7f\"> 86  </span>│ net.down.6.res.conv2.conv     │ Conv2d            │  147 K │\n",
              "│<span style=\"color: #7f7f7f; text-decoration-color: #7f7f7f\"> 87  </span>│ net.down.6.res.shortcut       │ Identity          │      0 │\n",
              "│<span style=\"color: #7f7f7f; text-decoration-color: #7f7f7f\"> 88  </span>│ net.down.6.res.norm1          │ BatchNorm2d       │    256 │\n",
              "│<span style=\"color: #7f7f7f; text-decoration-color: #7f7f7f\"> 89  </span>│ net.down.6.res.norm2          │ BatchNorm2d       │    256 │\n",
              "│<span style=\"color: #7f7f7f; text-decoration-color: #7f7f7f\"> 90  </span>│ net.down.6.res.drop           │ Dropout           │      0 │\n",
              "│<span style=\"color: #7f7f7f; text-decoration-color: #7f7f7f\"> 91  </span>│ net.down.6.attn               │ Identity          │      0 │\n",
              "│<span style=\"color: #7f7f7f; text-decoration-color: #7f7f7f\"> 92  </span>│ net.down.7                    │ DownBlock         │  295 K │\n",
              "│<span style=\"color: #7f7f7f; text-decoration-color: #7f7f7f\"> 93  </span>│ net.down.7.res                │ ResidualBlock     │  295 K │\n",
              "│<span style=\"color: #7f7f7f; text-decoration-color: #7f7f7f\"> 94  </span>│ net.down.7.res.activation     │ LeakyReLU         │      0 │\n",
              "│<span style=\"color: #7f7f7f; text-decoration-color: #7f7f7f\"> 95  </span>│ net.down.7.res.conv1          │ PeriodicConv2D    │  147 K │\n",
              "│<span style=\"color: #7f7f7f; text-decoration-color: #7f7f7f\"> 96  </span>│ net.down.7.res.conv1.padding  │ PeriodicPadding2D │      0 │\n",
              "│<span style=\"color: #7f7f7f; text-decoration-color: #7f7f7f\"> 97  </span>│ net.down.7.res.conv1.conv     │ Conv2d            │  147 K │\n",
              "│<span style=\"color: #7f7f7f; text-decoration-color: #7f7f7f\"> 98  </span>│ net.down.7.res.conv2          │ PeriodicConv2D    │  147 K │\n",
              "│<span style=\"color: #7f7f7f; text-decoration-color: #7f7f7f\"> 99  </span>│ net.down.7.res.conv2.padding  │ PeriodicPadding2D │      0 │\n",
              "│<span style=\"color: #7f7f7f; text-decoration-color: #7f7f7f\"> 100 </span>│ net.down.7.res.conv2.conv     │ Conv2d            │  147 K │\n",
              "│<span style=\"color: #7f7f7f; text-decoration-color: #7f7f7f\"> 101 </span>│ net.down.7.res.shortcut       │ Identity          │      0 │\n",
              "│<span style=\"color: #7f7f7f; text-decoration-color: #7f7f7f\"> 102 </span>│ net.down.7.res.norm1          │ BatchNorm2d       │    256 │\n",
              "│<span style=\"color: #7f7f7f; text-decoration-color: #7f7f7f\"> 103 </span>│ net.down.7.res.norm2          │ BatchNorm2d       │    256 │\n",
              "│<span style=\"color: #7f7f7f; text-decoration-color: #7f7f7f\"> 104 </span>│ net.down.7.res.drop           │ Dropout           │      0 │\n",
              "│<span style=\"color: #7f7f7f; text-decoration-color: #7f7f7f\"> 105 </span>│ net.down.7.attn               │ Identity          │      0 │\n",
              "│<span style=\"color: #7f7f7f; text-decoration-color: #7f7f7f\"> 106 </span>│ net.down.8                    │ DownBlock         │  295 K │\n",
              "│<span style=\"color: #7f7f7f; text-decoration-color: #7f7f7f\"> 107 </span>│ net.down.8.res                │ ResidualBlock     │  295 K │\n",
              "│<span style=\"color: #7f7f7f; text-decoration-color: #7f7f7f\"> 108 </span>│ net.down.8.res.activation     │ LeakyReLU         │      0 │\n",
              "│<span style=\"color: #7f7f7f; text-decoration-color: #7f7f7f\"> 109 </span>│ net.down.8.res.conv1          │ PeriodicConv2D    │  147 K │\n",
              "│<span style=\"color: #7f7f7f; text-decoration-color: #7f7f7f\"> 110 </span>│ net.down.8.res.conv1.padding  │ PeriodicPadding2D │      0 │\n",
              "│<span style=\"color: #7f7f7f; text-decoration-color: #7f7f7f\"> 111 </span>│ net.down.8.res.conv1.conv     │ Conv2d            │  147 K │\n",
              "│<span style=\"color: #7f7f7f; text-decoration-color: #7f7f7f\"> 112 </span>│ net.down.8.res.conv2          │ PeriodicConv2D    │  147 K │\n",
              "│<span style=\"color: #7f7f7f; text-decoration-color: #7f7f7f\"> 113 </span>│ net.down.8.res.conv2.padding  │ PeriodicPadding2D │      0 │\n",
              "│<span style=\"color: #7f7f7f; text-decoration-color: #7f7f7f\"> 114 </span>│ net.down.8.res.conv2.conv     │ Conv2d            │  147 K │\n",
              "│<span style=\"color: #7f7f7f; text-decoration-color: #7f7f7f\"> 115 </span>│ net.down.8.res.shortcut       │ Identity          │      0 │\n",
              "│<span style=\"color: #7f7f7f; text-decoration-color: #7f7f7f\"> 116 </span>│ net.down.8.res.norm1          │ BatchNorm2d       │    256 │\n",
              "│<span style=\"color: #7f7f7f; text-decoration-color: #7f7f7f\"> 117 </span>│ net.down.8.res.norm2          │ BatchNorm2d       │    256 │\n",
              "│<span style=\"color: #7f7f7f; text-decoration-color: #7f7f7f\"> 118 </span>│ net.down.8.res.drop           │ Dropout           │      0 │\n",
              "│<span style=\"color: #7f7f7f; text-decoration-color: #7f7f7f\"> 119 </span>│ net.down.8.attn               │ Identity          │      0 │\n",
              "│<span style=\"color: #7f7f7f; text-decoration-color: #7f7f7f\"> 120 </span>│ net.down.9                    │ Downsample        │  147 K │\n",
              "│<span style=\"color: #7f7f7f; text-decoration-color: #7f7f7f\"> 121 </span>│ net.down.9.conv               │ Conv2d            │  147 K │\n",
              "│<span style=\"color: #7f7f7f; text-decoration-color: #7f7f7f\"> 122 </span>│ net.down.10                   │ DownBlock         │  919 K │\n",
              "│<span style=\"color: #7f7f7f; text-decoration-color: #7f7f7f\"> 123 </span>│ net.down.10.res               │ ResidualBlock     │  919 K │\n",
              "│<span style=\"color: #7f7f7f; text-decoration-color: #7f7f7f\"> 124 </span>│ net.down.10.res.activation    │ LeakyReLU         │      0 │\n",
              "│<span style=\"color: #7f7f7f; text-decoration-color: #7f7f7f\"> 125 </span>│ net.down.10.res.conv1         │ PeriodicConv2D    │  295 K │\n",
              "│<span style=\"color: #7f7f7f; text-decoration-color: #7f7f7f\"> 126 </span>│ net.down.10.res.conv1.padding │ PeriodicPadding2D │      0 │\n",
              "│<span style=\"color: #7f7f7f; text-decoration-color: #7f7f7f\"> 127 </span>│ net.down.10.res.conv1.conv    │ Conv2d            │  295 K │\n",
              "│<span style=\"color: #7f7f7f; text-decoration-color: #7f7f7f\"> 128 </span>│ net.down.10.res.conv2         │ PeriodicConv2D    │  590 K │\n",
              "│<span style=\"color: #7f7f7f; text-decoration-color: #7f7f7f\"> 129 </span>│ net.down.10.res.conv2.padding │ PeriodicPadding2D │      0 │\n",
              "│<span style=\"color: #7f7f7f; text-decoration-color: #7f7f7f\"> 130 </span>│ net.down.10.res.conv2.conv    │ Conv2d            │  590 K │\n",
              "│<span style=\"color: #7f7f7f; text-decoration-color: #7f7f7f\"> 131 </span>│ net.down.10.res.shortcut      │ Conv2d            │ 33.0 K │\n",
              "│<span style=\"color: #7f7f7f; text-decoration-color: #7f7f7f\"> 132 </span>│ net.down.10.res.norm1         │ BatchNorm2d       │    512 │\n",
              "│<span style=\"color: #7f7f7f; text-decoration-color: #7f7f7f\"> 133 </span>│ net.down.10.res.norm2         │ BatchNorm2d       │    512 │\n",
              "│<span style=\"color: #7f7f7f; text-decoration-color: #7f7f7f\"> 134 </span>│ net.down.10.res.drop          │ Dropout           │      0 │\n",
              "│<span style=\"color: #7f7f7f; text-decoration-color: #7f7f7f\"> 135 </span>│ net.down.10.attn              │ Identity          │      0 │\n",
              "│<span style=\"color: #7f7f7f; text-decoration-color: #7f7f7f\"> 136 </span>│ net.down.11                   │ DownBlock         │  1.2 M │\n",
              "│<span style=\"color: #7f7f7f; text-decoration-color: #7f7f7f\"> 137 </span>│ net.down.11.res               │ ResidualBlock     │  1.2 M │\n",
              "│<span style=\"color: #7f7f7f; text-decoration-color: #7f7f7f\"> 138 </span>│ net.down.11.res.activation    │ LeakyReLU         │      0 │\n",
              "│<span style=\"color: #7f7f7f; text-decoration-color: #7f7f7f\"> 139 </span>│ net.down.11.res.conv1         │ PeriodicConv2D    │  590 K │\n",
              "│<span style=\"color: #7f7f7f; text-decoration-color: #7f7f7f\"> 140 </span>│ net.down.11.res.conv1.padding │ PeriodicPadding2D │      0 │\n",
              "│<span style=\"color: #7f7f7f; text-decoration-color: #7f7f7f\"> 141 </span>│ net.down.11.res.conv1.conv    │ Conv2d            │  590 K │\n",
              "│<span style=\"color: #7f7f7f; text-decoration-color: #7f7f7f\"> 142 </span>│ net.down.11.res.conv2         │ PeriodicConv2D    │  590 K │\n",
              "│<span style=\"color: #7f7f7f; text-decoration-color: #7f7f7f\"> 143 </span>│ net.down.11.res.conv2.padding │ PeriodicPadding2D │      0 │\n",
              "│<span style=\"color: #7f7f7f; text-decoration-color: #7f7f7f\"> 144 </span>│ net.down.11.res.conv2.conv    │ Conv2d            │  590 K │\n",
              "│<span style=\"color: #7f7f7f; text-decoration-color: #7f7f7f\"> 145 </span>│ net.down.11.res.shortcut      │ Identity          │      0 │\n",
              "│<span style=\"color: #7f7f7f; text-decoration-color: #7f7f7f\"> 146 </span>│ net.down.11.res.norm1         │ BatchNorm2d       │    512 │\n",
              "│<span style=\"color: #7f7f7f; text-decoration-color: #7f7f7f\"> 147 </span>│ net.down.11.res.norm2         │ BatchNorm2d       │    512 │\n",
              "│<span style=\"color: #7f7f7f; text-decoration-color: #7f7f7f\"> 148 </span>│ net.down.11.res.drop          │ Dropout           │      0 │\n",
              "│<span style=\"color: #7f7f7f; text-decoration-color: #7f7f7f\"> 149 </span>│ net.down.11.attn              │ Identity          │      0 │\n",
              "│<span style=\"color: #7f7f7f; text-decoration-color: #7f7f7f\"> 150 </span>│ net.down.12                   │ DownBlock         │  1.2 M │\n",
              "│<span style=\"color: #7f7f7f; text-decoration-color: #7f7f7f\"> 151 </span>│ net.down.12.res               │ ResidualBlock     │  1.2 M │\n",
              "│<span style=\"color: #7f7f7f; text-decoration-color: #7f7f7f\"> 152 </span>│ net.down.12.res.activation    │ LeakyReLU         │      0 │\n",
              "│<span style=\"color: #7f7f7f; text-decoration-color: #7f7f7f\"> 153 </span>│ net.down.12.res.conv1         │ PeriodicConv2D    │  590 K │\n",
              "│<span style=\"color: #7f7f7f; text-decoration-color: #7f7f7f\"> 154 </span>│ net.down.12.res.conv1.padding │ PeriodicPadding2D │      0 │\n",
              "│<span style=\"color: #7f7f7f; text-decoration-color: #7f7f7f\"> 155 </span>│ net.down.12.res.conv1.conv    │ Conv2d            │  590 K │\n",
              "│<span style=\"color: #7f7f7f; text-decoration-color: #7f7f7f\"> 156 </span>│ net.down.12.res.conv2         │ PeriodicConv2D    │  590 K │\n",
              "│<span style=\"color: #7f7f7f; text-decoration-color: #7f7f7f\"> 157 </span>│ net.down.12.res.conv2.padding │ PeriodicPadding2D │      0 │\n",
              "│<span style=\"color: #7f7f7f; text-decoration-color: #7f7f7f\"> 158 </span>│ net.down.12.res.conv2.conv    │ Conv2d            │  590 K │\n",
              "│<span style=\"color: #7f7f7f; text-decoration-color: #7f7f7f\"> 159 </span>│ net.down.12.res.shortcut      │ Identity          │      0 │\n",
              "│<span style=\"color: #7f7f7f; text-decoration-color: #7f7f7f\"> 160 </span>│ net.down.12.res.norm1         │ BatchNorm2d       │    512 │\n",
              "│<span style=\"color: #7f7f7f; text-decoration-color: #7f7f7f\"> 161 </span>│ net.down.12.res.norm2         │ BatchNorm2d       │    512 │\n",
              "│<span style=\"color: #7f7f7f; text-decoration-color: #7f7f7f\"> 162 </span>│ net.down.12.res.drop          │ Dropout           │      0 │\n",
              "│<span style=\"color: #7f7f7f; text-decoration-color: #7f7f7f\"> 163 </span>│ net.down.12.attn              │ Identity          │      0 │\n",
              "│<span style=\"color: #7f7f7f; text-decoration-color: #7f7f7f\"> 164 </span>│ net.down.13                   │ DownBlock         │  1.2 M │\n",
              "│<span style=\"color: #7f7f7f; text-decoration-color: #7f7f7f\"> 165 </span>│ net.down.13.res               │ ResidualBlock     │  1.2 M │\n",
              "│<span style=\"color: #7f7f7f; text-decoration-color: #7f7f7f\"> 166 </span>│ net.down.13.res.activation    │ LeakyReLU         │      0 │\n",
              "│<span style=\"color: #7f7f7f; text-decoration-color: #7f7f7f\"> 167 </span>│ net.down.13.res.conv1         │ PeriodicConv2D    │  590 K │\n",
              "│<span style=\"color: #7f7f7f; text-decoration-color: #7f7f7f\"> 168 </span>│ net.down.13.res.conv1.padding │ PeriodicPadding2D │      0 │\n",
              "│<span style=\"color: #7f7f7f; text-decoration-color: #7f7f7f\"> 169 </span>│ net.down.13.res.conv1.conv    │ Conv2d            │  590 K │\n",
              "│<span style=\"color: #7f7f7f; text-decoration-color: #7f7f7f\"> 170 </span>│ net.down.13.res.conv2         │ PeriodicConv2D    │  590 K │\n",
              "│<span style=\"color: #7f7f7f; text-decoration-color: #7f7f7f\"> 171 </span>│ net.down.13.res.conv2.padding │ PeriodicPadding2D │      0 │\n",
              "│<span style=\"color: #7f7f7f; text-decoration-color: #7f7f7f\"> 172 </span>│ net.down.13.res.conv2.conv    │ Conv2d            │  590 K │\n",
              "│<span style=\"color: #7f7f7f; text-decoration-color: #7f7f7f\"> 173 </span>│ net.down.13.res.shortcut      │ Identity          │      0 │\n",
              "│<span style=\"color: #7f7f7f; text-decoration-color: #7f7f7f\"> 174 </span>│ net.down.13.res.norm1         │ BatchNorm2d       │    512 │\n",
              "│<span style=\"color: #7f7f7f; text-decoration-color: #7f7f7f\"> 175 </span>│ net.down.13.res.norm2         │ BatchNorm2d       │    512 │\n",
              "│<span style=\"color: #7f7f7f; text-decoration-color: #7f7f7f\"> 176 </span>│ net.down.13.res.drop          │ Dropout           │      0 │\n",
              "│<span style=\"color: #7f7f7f; text-decoration-color: #7f7f7f\"> 177 </span>│ net.down.13.attn              │ Identity          │      0 │\n",
              "│<span style=\"color: #7f7f7f; text-decoration-color: #7f7f7f\"> 178 </span>│ net.down.14                   │ Downsample        │  590 K │\n",
              "│<span style=\"color: #7f7f7f; text-decoration-color: #7f7f7f\"> 179 </span>│ net.down.14.conv              │ Conv2d            │  590 K │\n",
              "│<span style=\"color: #7f7f7f; text-decoration-color: #7f7f7f\"> 180 </span>│ net.down.15                   │ DownBlock         │ 12.1 M │\n",
              "│<span style=\"color: #7f7f7f; text-decoration-color: #7f7f7f\"> 181 </span>│ net.down.15.res               │ ResidualBlock     │ 12.1 M │\n",
              "│<span style=\"color: #7f7f7f; text-decoration-color: #7f7f7f\"> 182 </span>│ net.down.15.res.activation    │ LeakyReLU         │      0 │\n",
              "│<span style=\"color: #7f7f7f; text-decoration-color: #7f7f7f\"> 183 </span>│ net.down.15.res.conv1         │ PeriodicConv2D    │  2.4 M │\n",
              "│<span style=\"color: #7f7f7f; text-decoration-color: #7f7f7f\"> 184 </span>│ net.down.15.res.conv1.padding │ PeriodicPadding2D │      0 │\n",
              "│<span style=\"color: #7f7f7f; text-decoration-color: #7f7f7f\"> 185 </span>│ net.down.15.res.conv1.conv    │ Conv2d            │  2.4 M │\n",
              "│<span style=\"color: #7f7f7f; text-decoration-color: #7f7f7f\"> 186 </span>│ net.down.15.res.conv2         │ PeriodicConv2D    │  9.4 M │\n",
              "│<span style=\"color: #7f7f7f; text-decoration-color: #7f7f7f\"> 187 </span>│ net.down.15.res.conv2.padding │ PeriodicPadding2D │      0 │\n",
              "│<span style=\"color: #7f7f7f; text-decoration-color: #7f7f7f\"> 188 </span>│ net.down.15.res.conv2.conv    │ Conv2d            │  9.4 M │\n",
              "│<span style=\"color: #7f7f7f; text-decoration-color: #7f7f7f\"> 189 </span>│ net.down.15.res.shortcut      │ Conv2d            │  263 K │\n",
              "│<span style=\"color: #7f7f7f; text-decoration-color: #7f7f7f\"> 190 </span>│ net.down.15.res.norm1         │ BatchNorm2d       │  2.0 K │\n",
              "│<span style=\"color: #7f7f7f; text-decoration-color: #7f7f7f\"> 191 </span>│ net.down.15.res.norm2         │ BatchNorm2d       │  2.0 K │\n",
              "│<span style=\"color: #7f7f7f; text-decoration-color: #7f7f7f\"> 192 </span>│ net.down.15.res.drop          │ Dropout           │      0 │\n",
              "│<span style=\"color: #7f7f7f; text-decoration-color: #7f7f7f\"> 193 </span>│ net.down.15.attn              │ Identity          │      0 │\n",
              "│<span style=\"color: #7f7f7f; text-decoration-color: #7f7f7f\"> 194 </span>│ net.down.16                   │ DownBlock         │ 18.9 M │\n",
              "│<span style=\"color: #7f7f7f; text-decoration-color: #7f7f7f\"> 195 </span>│ net.down.16.res               │ ResidualBlock     │ 18.9 M │\n",
              "│<span style=\"color: #7f7f7f; text-decoration-color: #7f7f7f\"> 196 </span>│ net.down.16.res.activation    │ LeakyReLU         │      0 │\n",
              "│<span style=\"color: #7f7f7f; text-decoration-color: #7f7f7f\"> 197 </span>│ net.down.16.res.conv1         │ PeriodicConv2D    │  9.4 M │\n",
              "│<span style=\"color: #7f7f7f; text-decoration-color: #7f7f7f\"> 198 </span>│ net.down.16.res.conv1.padding │ PeriodicPadding2D │      0 │\n",
              "│<span style=\"color: #7f7f7f; text-decoration-color: #7f7f7f\"> 199 </span>│ net.down.16.res.conv1.conv    │ Conv2d            │  9.4 M │\n",
              "│<span style=\"color: #7f7f7f; text-decoration-color: #7f7f7f\"> 200 </span>│ net.down.16.res.conv2         │ PeriodicConv2D    │  9.4 M │\n",
              "│<span style=\"color: #7f7f7f; text-decoration-color: #7f7f7f\"> 201 </span>│ net.down.16.res.conv2.padding │ PeriodicPadding2D │      0 │\n",
              "│<span style=\"color: #7f7f7f; text-decoration-color: #7f7f7f\"> 202 </span>│ net.down.16.res.conv2.conv    │ Conv2d            │  9.4 M │\n",
              "│<span style=\"color: #7f7f7f; text-decoration-color: #7f7f7f\"> 203 </span>│ net.down.16.res.shortcut      │ Identity          │      0 │\n",
              "│<span style=\"color: #7f7f7f; text-decoration-color: #7f7f7f\"> 204 </span>│ net.down.16.res.norm1         │ BatchNorm2d       │  2.0 K │\n",
              "│<span style=\"color: #7f7f7f; text-decoration-color: #7f7f7f\"> 205 </span>│ net.down.16.res.norm2         │ BatchNorm2d       │  2.0 K │\n",
              "│<span style=\"color: #7f7f7f; text-decoration-color: #7f7f7f\"> 206 </span>│ net.down.16.res.drop          │ Dropout           │      0 │\n",
              "│<span style=\"color: #7f7f7f; text-decoration-color: #7f7f7f\"> 207 </span>│ net.down.16.attn              │ Identity          │      0 │\n",
              "│<span style=\"color: #7f7f7f; text-decoration-color: #7f7f7f\"> 208 </span>│ net.down.17                   │ DownBlock         │ 18.9 M │\n",
              "│<span style=\"color: #7f7f7f; text-decoration-color: #7f7f7f\"> 209 </span>│ net.down.17.res               │ ResidualBlock     │ 18.9 M │\n",
              "│<span style=\"color: #7f7f7f; text-decoration-color: #7f7f7f\"> 210 </span>│ net.down.17.res.activation    │ LeakyReLU         │      0 │\n",
              "│<span style=\"color: #7f7f7f; text-decoration-color: #7f7f7f\"> 211 </span>│ net.down.17.res.conv1         │ PeriodicConv2D    │  9.4 M │\n",
              "│<span style=\"color: #7f7f7f; text-decoration-color: #7f7f7f\"> 212 </span>│ net.down.17.res.conv1.padding │ PeriodicPadding2D │      0 │\n",
              "│<span style=\"color: #7f7f7f; text-decoration-color: #7f7f7f\"> 213 </span>│ net.down.17.res.conv1.conv    │ Conv2d            │  9.4 M │\n",
              "│<span style=\"color: #7f7f7f; text-decoration-color: #7f7f7f\"> 214 </span>│ net.down.17.res.conv2         │ PeriodicConv2D    │  9.4 M │\n",
              "│<span style=\"color: #7f7f7f; text-decoration-color: #7f7f7f\"> 215 </span>│ net.down.17.res.conv2.padding │ PeriodicPadding2D │      0 │\n",
              "│<span style=\"color: #7f7f7f; text-decoration-color: #7f7f7f\"> 216 </span>│ net.down.17.res.conv2.conv    │ Conv2d            │  9.4 M │\n",
              "│<span style=\"color: #7f7f7f; text-decoration-color: #7f7f7f\"> 217 </span>│ net.down.17.res.shortcut      │ Identity          │      0 │\n",
              "│<span style=\"color: #7f7f7f; text-decoration-color: #7f7f7f\"> 218 </span>│ net.down.17.res.norm1         │ BatchNorm2d       │  2.0 K │\n",
              "│<span style=\"color: #7f7f7f; text-decoration-color: #7f7f7f\"> 219 </span>│ net.down.17.res.norm2         │ BatchNorm2d       │  2.0 K │\n",
              "│<span style=\"color: #7f7f7f; text-decoration-color: #7f7f7f\"> 220 </span>│ net.down.17.res.drop          │ Dropout           │      0 │\n",
              "│<span style=\"color: #7f7f7f; text-decoration-color: #7f7f7f\"> 221 </span>│ net.down.17.attn              │ Identity          │      0 │\n",
              "│<span style=\"color: #7f7f7f; text-decoration-color: #7f7f7f\"> 222 </span>│ net.down.18                   │ DownBlock         │ 18.9 M │\n",
              "│<span style=\"color: #7f7f7f; text-decoration-color: #7f7f7f\"> 223 </span>│ net.down.18.res               │ ResidualBlock     │ 18.9 M │\n",
              "│<span style=\"color: #7f7f7f; text-decoration-color: #7f7f7f\"> 224 </span>│ net.down.18.res.activation    │ LeakyReLU         │      0 │\n",
              "│<span style=\"color: #7f7f7f; text-decoration-color: #7f7f7f\"> 225 </span>│ net.down.18.res.conv1         │ PeriodicConv2D    │  9.4 M │\n",
              "│<span style=\"color: #7f7f7f; text-decoration-color: #7f7f7f\"> 226 </span>│ net.down.18.res.conv1.padding │ PeriodicPadding2D │      0 │\n",
              "│<span style=\"color: #7f7f7f; text-decoration-color: #7f7f7f\"> 227 </span>│ net.down.18.res.conv1.conv    │ Conv2d            │  9.4 M │\n",
              "│<span style=\"color: #7f7f7f; text-decoration-color: #7f7f7f\"> 228 </span>│ net.down.18.res.conv2         │ PeriodicConv2D    │  9.4 M │\n",
              "│<span style=\"color: #7f7f7f; text-decoration-color: #7f7f7f\"> 229 </span>│ net.down.18.res.conv2.padding │ PeriodicPadding2D │      0 │\n",
              "│<span style=\"color: #7f7f7f; text-decoration-color: #7f7f7f\"> 230 </span>│ net.down.18.res.conv2.conv    │ Conv2d            │  9.4 M │\n",
              "│<span style=\"color: #7f7f7f; text-decoration-color: #7f7f7f\"> 231 </span>│ net.down.18.res.shortcut      │ Identity          │      0 │\n",
              "│<span style=\"color: #7f7f7f; text-decoration-color: #7f7f7f\"> 232 </span>│ net.down.18.res.norm1         │ BatchNorm2d       │  2.0 K │\n",
              "│<span style=\"color: #7f7f7f; text-decoration-color: #7f7f7f\"> 233 </span>│ net.down.18.res.norm2         │ BatchNorm2d       │  2.0 K │\n",
              "│<span style=\"color: #7f7f7f; text-decoration-color: #7f7f7f\"> 234 </span>│ net.down.18.res.drop          │ Dropout           │      0 │\n",
              "│<span style=\"color: #7f7f7f; text-decoration-color: #7f7f7f\"> 235 </span>│ net.down.18.attn              │ Identity          │      0 │\n",
              "│<span style=\"color: #7f7f7f; text-decoration-color: #7f7f7f\"> 236 </span>│ net.middle                    │ MiddleBlock       │ 37.8 M │\n",
              "│<span style=\"color: #7f7f7f; text-decoration-color: #7f7f7f\"> 237 </span>│ net.middle.res1               │ ResidualBlock     │ 18.9 M │\n",
              "│<span style=\"color: #7f7f7f; text-decoration-color: #7f7f7f\"> 238 </span>│ net.middle.res1.activation    │ LeakyReLU         │      0 │\n",
              "│<span style=\"color: #7f7f7f; text-decoration-color: #7f7f7f\"> 239 </span>│ net.middle.res1.conv1         │ PeriodicConv2D    │  9.4 M │\n",
              "│<span style=\"color: #7f7f7f; text-decoration-color: #7f7f7f\"> 240 </span>│ net.middle.res1.conv1.padding │ PeriodicPadding2D │      0 │\n",
              "│<span style=\"color: #7f7f7f; text-decoration-color: #7f7f7f\"> 241 </span>│ net.middle.res1.conv1.conv    │ Conv2d            │  9.4 M │\n",
              "│<span style=\"color: #7f7f7f; text-decoration-color: #7f7f7f\"> 242 </span>│ net.middle.res1.conv2         │ PeriodicConv2D    │  9.4 M │\n",
              "│<span style=\"color: #7f7f7f; text-decoration-color: #7f7f7f\"> 243 </span>│ net.middle.res1.conv2.padding │ PeriodicPadding2D │      0 │\n",
              "│<span style=\"color: #7f7f7f; text-decoration-color: #7f7f7f\"> 244 </span>│ net.middle.res1.conv2.conv    │ Conv2d            │  9.4 M │\n",
              "│<span style=\"color: #7f7f7f; text-decoration-color: #7f7f7f\"> 245 </span>│ net.middle.res1.shortcut      │ Identity          │      0 │\n",
              "│<span style=\"color: #7f7f7f; text-decoration-color: #7f7f7f\"> 246 </span>│ net.middle.res1.norm1         │ BatchNorm2d       │  2.0 K │\n",
              "│<span style=\"color: #7f7f7f; text-decoration-color: #7f7f7f\"> 247 </span>│ net.middle.res1.norm2         │ BatchNorm2d       │  2.0 K │\n",
              "│<span style=\"color: #7f7f7f; text-decoration-color: #7f7f7f\"> 248 </span>│ net.middle.res1.drop          │ Dropout           │      0 │\n",
              "│<span style=\"color: #7f7f7f; text-decoration-color: #7f7f7f\"> 249 </span>│ net.middle.attn               │ Identity          │      0 │\n",
              "│<span style=\"color: #7f7f7f; text-decoration-color: #7f7f7f\"> 250 </span>│ net.middle.res2               │ ResidualBlock     │ 18.9 M │\n",
              "│<span style=\"color: #7f7f7f; text-decoration-color: #7f7f7f\"> 251 </span>│ net.middle.res2.activation    │ LeakyReLU         │      0 │\n",
              "│<span style=\"color: #7f7f7f; text-decoration-color: #7f7f7f\"> 252 </span>│ net.middle.res2.conv1         │ PeriodicConv2D    │  9.4 M │\n",
              "│<span style=\"color: #7f7f7f; text-decoration-color: #7f7f7f\"> 253 </span>│ net.middle.res2.conv1.padding │ PeriodicPadding2D │      0 │\n",
              "│<span style=\"color: #7f7f7f; text-decoration-color: #7f7f7f\"> 254 </span>│ net.middle.res2.conv1.conv    │ Conv2d            │  9.4 M │\n",
              "│<span style=\"color: #7f7f7f; text-decoration-color: #7f7f7f\"> 255 </span>│ net.middle.res2.conv2         │ PeriodicConv2D    │  9.4 M │\n",
              "│<span style=\"color: #7f7f7f; text-decoration-color: #7f7f7f\"> 256 </span>│ net.middle.res2.conv2.padding │ PeriodicPadding2D │      0 │\n",
              "│<span style=\"color: #7f7f7f; text-decoration-color: #7f7f7f\"> 257 </span>│ net.middle.res2.conv2.conv    │ Conv2d            │  9.4 M │\n",
              "│<span style=\"color: #7f7f7f; text-decoration-color: #7f7f7f\"> 258 </span>│ net.middle.res2.shortcut      │ Identity          │      0 │\n",
              "│<span style=\"color: #7f7f7f; text-decoration-color: #7f7f7f\"> 259 </span>│ net.middle.res2.norm1         │ BatchNorm2d       │  2.0 K │\n",
              "│<span style=\"color: #7f7f7f; text-decoration-color: #7f7f7f\"> 260 </span>│ net.middle.res2.norm2         │ BatchNorm2d       │  2.0 K │\n",
              "│<span style=\"color: #7f7f7f; text-decoration-color: #7f7f7f\"> 261 </span>│ net.middle.res2.drop          │ Dropout           │      0 │\n",
              "│<span style=\"color: #7f7f7f; text-decoration-color: #7f7f7f\"> 262 </span>│ net.up                        │ ModuleList        │  137 M │\n",
              "│<span style=\"color: #7f7f7f; text-decoration-color: #7f7f7f\"> 263 </span>│ net.up.0                      │ UpBlock           │ 30.4 M │\n",
              "│<span style=\"color: #7f7f7f; text-decoration-color: #7f7f7f\"> 264 </span>│ net.up.0.res                  │ ResidualBlock     │ 30.4 M │\n",
              "│<span style=\"color: #7f7f7f; text-decoration-color: #7f7f7f\"> 265 </span>│ net.up.0.res.activation       │ LeakyReLU         │      0 │\n",
              "│<span style=\"color: #7f7f7f; text-decoration-color: #7f7f7f\"> 266 </span>│ net.up.0.res.conv1            │ PeriodicConv2D    │ 18.9 M │\n",
              "│<span style=\"color: #7f7f7f; text-decoration-color: #7f7f7f\"> 267 </span>│ net.up.0.res.conv1.padding    │ PeriodicPadding2D │      0 │\n",
              "│<span style=\"color: #7f7f7f; text-decoration-color: #7f7f7f\"> 268 </span>│ net.up.0.res.conv1.conv       │ Conv2d            │ 18.9 M │\n",
              "│<span style=\"color: #7f7f7f; text-decoration-color: #7f7f7f\"> 269 </span>│ net.up.0.res.conv2            │ PeriodicConv2D    │  9.4 M │\n",
              "│<span style=\"color: #7f7f7f; text-decoration-color: #7f7f7f\"> 270 </span>│ net.up.0.res.conv2.padding    │ PeriodicPadding2D │      0 │\n",
              "│<span style=\"color: #7f7f7f; text-decoration-color: #7f7f7f\"> 271 </span>│ net.up.0.res.conv2.conv       │ Conv2d            │  9.4 M │\n",
              "│<span style=\"color: #7f7f7f; text-decoration-color: #7f7f7f\"> 272 </span>│ net.up.0.res.shortcut         │ Conv2d            │  2.1 M │\n",
              "│<span style=\"color: #7f7f7f; text-decoration-color: #7f7f7f\"> 273 </span>│ net.up.0.res.norm1            │ BatchNorm2d       │  2.0 K │\n",
              "│<span style=\"color: #7f7f7f; text-decoration-color: #7f7f7f\"> 274 </span>│ net.up.0.res.norm2            │ BatchNorm2d       │  2.0 K │\n",
              "│<span style=\"color: #7f7f7f; text-decoration-color: #7f7f7f\"> 275 </span>│ net.up.0.res.drop             │ Dropout           │      0 │\n",
              "│<span style=\"color: #7f7f7f; text-decoration-color: #7f7f7f\"> 276 </span>│ net.up.0.attn                 │ Identity          │      0 │\n",
              "│<span style=\"color: #7f7f7f; text-decoration-color: #7f7f7f\"> 277 </span>│ net.up.1                      │ UpBlock           │ 30.4 M │\n",
              "│<span style=\"color: #7f7f7f; text-decoration-color: #7f7f7f\"> 278 </span>│ net.up.1.res                  │ ResidualBlock     │ 30.4 M │\n",
              "│<span style=\"color: #7f7f7f; text-decoration-color: #7f7f7f\"> 279 </span>│ net.up.1.res.activation       │ LeakyReLU         │      0 │\n",
              "│<span style=\"color: #7f7f7f; text-decoration-color: #7f7f7f\"> 280 </span>│ net.up.1.res.conv1            │ PeriodicConv2D    │ 18.9 M │\n",
              "│<span style=\"color: #7f7f7f; text-decoration-color: #7f7f7f\"> 281 </span>│ net.up.1.res.conv1.padding    │ PeriodicPadding2D │      0 │\n",
              "│<span style=\"color: #7f7f7f; text-decoration-color: #7f7f7f\"> 282 </span>│ net.up.1.res.conv1.conv       │ Conv2d            │ 18.9 M │\n",
              "│<span style=\"color: #7f7f7f; text-decoration-color: #7f7f7f\"> 283 </span>│ net.up.1.res.conv2            │ PeriodicConv2D    │  9.4 M │\n",
              "│<span style=\"color: #7f7f7f; text-decoration-color: #7f7f7f\"> 284 </span>│ net.up.1.res.conv2.padding    │ PeriodicPadding2D │      0 │\n",
              "│<span style=\"color: #7f7f7f; text-decoration-color: #7f7f7f\"> 285 </span>│ net.up.1.res.conv2.conv       │ Conv2d            │  9.4 M │\n",
              "│<span style=\"color: #7f7f7f; text-decoration-color: #7f7f7f\"> 286 </span>│ net.up.1.res.shortcut         │ Conv2d            │  2.1 M │\n",
              "│<span style=\"color: #7f7f7f; text-decoration-color: #7f7f7f\"> 287 </span>│ net.up.1.res.norm1            │ BatchNorm2d       │  2.0 K │\n",
              "│<span style=\"color: #7f7f7f; text-decoration-color: #7f7f7f\"> 288 </span>│ net.up.1.res.norm2            │ BatchNorm2d       │  2.0 K │\n",
              "│<span style=\"color: #7f7f7f; text-decoration-color: #7f7f7f\"> 289 </span>│ net.up.1.res.drop             │ Dropout           │      0 │\n",
              "│<span style=\"color: #7f7f7f; text-decoration-color: #7f7f7f\"> 290 </span>│ net.up.1.attn                 │ Identity          │      0 │\n",
              "│<span style=\"color: #7f7f7f; text-decoration-color: #7f7f7f\"> 291 </span>│ net.up.2                      │ UpBlock           │ 30.4 M │\n",
              "│<span style=\"color: #7f7f7f; text-decoration-color: #7f7f7f\"> 292 </span>│ net.up.2.res                  │ ResidualBlock     │ 30.4 M │\n",
              "│<span style=\"color: #7f7f7f; text-decoration-color: #7f7f7f\"> 293 </span>│ net.up.2.res.activation       │ LeakyReLU         │      0 │\n",
              "│<span style=\"color: #7f7f7f; text-decoration-color: #7f7f7f\"> 294 </span>│ net.up.2.res.conv1            │ PeriodicConv2D    │ 18.9 M │\n",
              "│<span style=\"color: #7f7f7f; text-decoration-color: #7f7f7f\"> 295 </span>│ net.up.2.res.conv1.padding    │ PeriodicPadding2D │      0 │\n",
              "│<span style=\"color: #7f7f7f; text-decoration-color: #7f7f7f\"> 296 </span>│ net.up.2.res.conv1.conv       │ Conv2d            │ 18.9 M │\n",
              "│<span style=\"color: #7f7f7f; text-decoration-color: #7f7f7f\"> 297 </span>│ net.up.2.res.conv2            │ PeriodicConv2D    │  9.4 M │\n",
              "│<span style=\"color: #7f7f7f; text-decoration-color: #7f7f7f\"> 298 </span>│ net.up.2.res.conv2.padding    │ PeriodicPadding2D │      0 │\n",
              "│<span style=\"color: #7f7f7f; text-decoration-color: #7f7f7f\"> 299 </span>│ net.up.2.res.conv2.conv       │ Conv2d            │  9.4 M │\n",
              "│<span style=\"color: #7f7f7f; text-decoration-color: #7f7f7f\"> 300 </span>│ net.up.2.res.shortcut         │ Conv2d            │  2.1 M │\n",
              "│<span style=\"color: #7f7f7f; text-decoration-color: #7f7f7f\"> 301 </span>│ net.up.2.res.norm1            │ BatchNorm2d       │  2.0 K │\n",
              "│<span style=\"color: #7f7f7f; text-decoration-color: #7f7f7f\"> 302 </span>│ net.up.2.res.norm2            │ BatchNorm2d       │  2.0 K │\n",
              "│<span style=\"color: #7f7f7f; text-decoration-color: #7f7f7f\"> 303 </span>│ net.up.2.res.drop             │ Dropout           │      0 │\n",
              "│<span style=\"color: #7f7f7f; text-decoration-color: #7f7f7f\"> 304 </span>│ net.up.2.attn                 │ Identity          │      0 │\n",
              "│<span style=\"color: #7f7f7f; text-decoration-color: #7f7f7f\"> 305 </span>│ net.up.3                      │ UpBlock           │ 30.4 M │\n",
              "│<span style=\"color: #7f7f7f; text-decoration-color: #7f7f7f\"> 306 </span>│ net.up.3.res                  │ ResidualBlock     │ 30.4 M │\n",
              "│<span style=\"color: #7f7f7f; text-decoration-color: #7f7f7f\"> 307 </span>│ net.up.3.res.activation       │ LeakyReLU         │      0 │\n",
              "│<span style=\"color: #7f7f7f; text-decoration-color: #7f7f7f\"> 308 </span>│ net.up.3.res.conv1            │ PeriodicConv2D    │ 18.9 M │\n",
              "│<span style=\"color: #7f7f7f; text-decoration-color: #7f7f7f\"> 309 </span>│ net.up.3.res.conv1.padding    │ PeriodicPadding2D │      0 │\n",
              "│<span style=\"color: #7f7f7f; text-decoration-color: #7f7f7f\"> 310 </span>│ net.up.3.res.conv1.conv       │ Conv2d            │ 18.9 M │\n",
              "│<span style=\"color: #7f7f7f; text-decoration-color: #7f7f7f\"> 311 </span>│ net.up.3.res.conv2            │ PeriodicConv2D    │  9.4 M │\n",
              "│<span style=\"color: #7f7f7f; text-decoration-color: #7f7f7f\"> 312 </span>│ net.up.3.res.conv2.padding    │ PeriodicPadding2D │      0 │\n",
              "│<span style=\"color: #7f7f7f; text-decoration-color: #7f7f7f\"> 313 </span>│ net.up.3.res.conv2.conv       │ Conv2d            │  9.4 M │\n",
              "│<span style=\"color: #7f7f7f; text-decoration-color: #7f7f7f\"> 314 </span>│ net.up.3.res.shortcut         │ Conv2d            │  2.1 M │\n",
              "│<span style=\"color: #7f7f7f; text-decoration-color: #7f7f7f\"> 315 </span>│ net.up.3.res.norm1            │ BatchNorm2d       │  2.0 K │\n",
              "│<span style=\"color: #7f7f7f; text-decoration-color: #7f7f7f\"> 316 </span>│ net.up.3.res.norm2            │ BatchNorm2d       │  2.0 K │\n",
              "│<span style=\"color: #7f7f7f; text-decoration-color: #7f7f7f\"> 317 </span>│ net.up.3.res.drop             │ Dropout           │      0 │\n",
              "│<span style=\"color: #7f7f7f; text-decoration-color: #7f7f7f\"> 318 </span>│ net.up.3.attn                 │ Identity          │      0 │\n",
              "│<span style=\"color: #7f7f7f; text-decoration-color: #7f7f7f\"> 319 </span>│ net.up.4                      │ UpBlock           │  3.9 M │\n",
              "│<span style=\"color: #7f7f7f; text-decoration-color: #7f7f7f\"> 320 </span>│ net.up.4.res                  │ ResidualBlock     │  3.9 M │\n",
              "│<span style=\"color: #7f7f7f; text-decoration-color: #7f7f7f\"> 321 </span>│ net.up.4.res.activation       │ LeakyReLU         │      0 │\n",
              "│<span style=\"color: #7f7f7f; text-decoration-color: #7f7f7f\"> 322 </span>│ net.up.4.res.conv1            │ PeriodicConv2D    │  2.9 M │\n",
              "│<span style=\"color: #7f7f7f; text-decoration-color: #7f7f7f\"> 323 </span>│ net.up.4.res.conv1.padding    │ PeriodicPadding2D │      0 │\n",
              "│<span style=\"color: #7f7f7f; text-decoration-color: #7f7f7f\"> 324 </span>│ net.up.4.res.conv1.conv       │ Conv2d            │  2.9 M │\n",
              "│<span style=\"color: #7f7f7f; text-decoration-color: #7f7f7f\"> 325 </span>│ net.up.4.res.conv2            │ PeriodicConv2D    │  590 K │\n",
              "│<span style=\"color: #7f7f7f; text-decoration-color: #7f7f7f\"> 326 </span>│ net.up.4.res.conv2.padding    │ PeriodicPadding2D │      0 │\n",
              "│<span style=\"color: #7f7f7f; text-decoration-color: #7f7f7f\"> 327 </span>│ net.up.4.res.conv2.conv       │ Conv2d            │  590 K │\n",
              "│<span style=\"color: #7f7f7f; text-decoration-color: #7f7f7f\"> 328 </span>│ net.up.4.res.shortcut         │ Conv2d            │  327 K │\n",
              "│<span style=\"color: #7f7f7f; text-decoration-color: #7f7f7f\"> 329 </span>│ net.up.4.res.norm1            │ BatchNorm2d       │    512 │\n",
              "│<span style=\"color: #7f7f7f; text-decoration-color: #7f7f7f\"> 330 </span>│ net.up.4.res.norm2            │ BatchNorm2d       │    512 │\n",
              "│<span style=\"color: #7f7f7f; text-decoration-color: #7f7f7f\"> 331 </span>│ net.up.4.res.drop             │ Dropout           │      0 │\n",
              "│<span style=\"color: #7f7f7f; text-decoration-color: #7f7f7f\"> 332 </span>│ net.up.4.attn                 │ Identity          │      0 │\n",
              "│<span style=\"color: #7f7f7f; text-decoration-color: #7f7f7f\"> 333 </span>│ net.up.5                      │ Upsample          │  1.0 M │\n",
              "│<span style=\"color: #7f7f7f; text-decoration-color: #7f7f7f\"> 334 </span>│ net.up.5.conv                 │ ConvTranspose2d   │  1.0 M │\n",
              "│<span style=\"color: #7f7f7f; text-decoration-color: #7f7f7f\"> 335 </span>│ net.up.6                      │ UpBlock           │  1.9 M │\n",
              "│<span style=\"color: #7f7f7f; text-decoration-color: #7f7f7f\"> 336 </span>│ net.up.6.res                  │ ResidualBlock     │  1.9 M │\n",
              "│<span style=\"color: #7f7f7f; text-decoration-color: #7f7f7f\"> 337 </span>│ net.up.6.res.activation       │ LeakyReLU         │      0 │\n",
              "│<span style=\"color: #7f7f7f; text-decoration-color: #7f7f7f\"> 338 </span>│ net.up.6.res.conv1            │ PeriodicConv2D    │  1.2 M │\n",
              "│<span style=\"color: #7f7f7f; text-decoration-color: #7f7f7f\"> 339 </span>│ net.up.6.res.conv1.padding    │ PeriodicPadding2D │      0 │\n",
              "│<span style=\"color: #7f7f7f; text-decoration-color: #7f7f7f\"> 340 </span>│ net.up.6.res.conv1.conv       │ Conv2d            │  1.2 M │\n",
              "│<span style=\"color: #7f7f7f; text-decoration-color: #7f7f7f\"> 341 </span>│ net.up.6.res.conv2            │ PeriodicConv2D    │  590 K │\n",
              "│<span style=\"color: #7f7f7f; text-decoration-color: #7f7f7f\"> 342 </span>│ net.up.6.res.conv2.padding    │ PeriodicPadding2D │      0 │\n",
              "│<span style=\"color: #7f7f7f; text-decoration-color: #7f7f7f\"> 343 </span>│ net.up.6.res.conv2.conv       │ Conv2d            │  590 K │\n",
              "│<span style=\"color: #7f7f7f; text-decoration-color: #7f7f7f\"> 344 </span>│ net.up.6.res.shortcut         │ Conv2d            │  131 K │\n",
              "│<span style=\"color: #7f7f7f; text-decoration-color: #7f7f7f\"> 345 </span>│ net.up.6.res.norm1            │ BatchNorm2d       │    512 │\n",
              "│<span style=\"color: #7f7f7f; text-decoration-color: #7f7f7f\"> 346 </span>│ net.up.6.res.norm2            │ BatchNorm2d       │    512 │\n",
              "│<span style=\"color: #7f7f7f; text-decoration-color: #7f7f7f\"> 347 </span>│ net.up.6.res.drop             │ Dropout           │      0 │\n",
              "│<span style=\"color: #7f7f7f; text-decoration-color: #7f7f7f\"> 348 </span>│ net.up.6.attn                 │ Identity          │      0 │\n",
              "│<span style=\"color: #7f7f7f; text-decoration-color: #7f7f7f\"> 349 </span>│ net.up.7                      │ UpBlock           │  1.9 M │\n",
              "│<span style=\"color: #7f7f7f; text-decoration-color: #7f7f7f\"> 350 </span>│ net.up.7.res                  │ ResidualBlock     │  1.9 M │\n",
              "│<span style=\"color: #7f7f7f; text-decoration-color: #7f7f7f\"> 351 </span>│ net.up.7.res.activation       │ LeakyReLU         │      0 │\n",
              "│<span style=\"color: #7f7f7f; text-decoration-color: #7f7f7f\"> 352 </span>│ net.up.7.res.conv1            │ PeriodicConv2D    │  1.2 M │\n",
              "│<span style=\"color: #7f7f7f; text-decoration-color: #7f7f7f\"> 353 </span>│ net.up.7.res.conv1.padding    │ PeriodicPadding2D │      0 │\n",
              "│<span style=\"color: #7f7f7f; text-decoration-color: #7f7f7f\"> 354 </span>│ net.up.7.res.conv1.conv       │ Conv2d            │  1.2 M │\n",
              "│<span style=\"color: #7f7f7f; text-decoration-color: #7f7f7f\"> 355 </span>│ net.up.7.res.conv2            │ PeriodicConv2D    │  590 K │\n",
              "│<span style=\"color: #7f7f7f; text-decoration-color: #7f7f7f\"> 356 </span>│ net.up.7.res.conv2.padding    │ PeriodicPadding2D │      0 │\n",
              "│<span style=\"color: #7f7f7f; text-decoration-color: #7f7f7f\"> 357 </span>│ net.up.7.res.conv2.conv       │ Conv2d            │  590 K │\n",
              "│<span style=\"color: #7f7f7f; text-decoration-color: #7f7f7f\"> 358 </span>│ net.up.7.res.shortcut         │ Conv2d            │  131 K │\n",
              "│<span style=\"color: #7f7f7f; text-decoration-color: #7f7f7f\"> 359 </span>│ net.up.7.res.norm1            │ BatchNorm2d       │    512 │\n",
              "│<span style=\"color: #7f7f7f; text-decoration-color: #7f7f7f\"> 360 </span>│ net.up.7.res.norm2            │ BatchNorm2d       │    512 │\n",
              "│<span style=\"color: #7f7f7f; text-decoration-color: #7f7f7f\"> 361 </span>│ net.up.7.res.drop             │ Dropout           │      0 │\n",
              "│<span style=\"color: #7f7f7f; text-decoration-color: #7f7f7f\"> 362 </span>│ net.up.7.attn                 │ Identity          │      0 │\n",
              "│<span style=\"color: #7f7f7f; text-decoration-color: #7f7f7f\"> 363 </span>│ net.up.8                      │ UpBlock           │  1.9 M │\n",
              "│<span style=\"color: #7f7f7f; text-decoration-color: #7f7f7f\"> 364 </span>│ net.up.8.res                  │ ResidualBlock     │  1.9 M │\n",
              "│<span style=\"color: #7f7f7f; text-decoration-color: #7f7f7f\"> 365 </span>│ net.up.8.res.activation       │ LeakyReLU         │      0 │\n",
              "│<span style=\"color: #7f7f7f; text-decoration-color: #7f7f7f\"> 366 </span>│ net.up.8.res.conv1            │ PeriodicConv2D    │  1.2 M │\n",
              "│<span style=\"color: #7f7f7f; text-decoration-color: #7f7f7f\"> 367 </span>│ net.up.8.res.conv1.padding    │ PeriodicPadding2D │      0 │\n",
              "│<span style=\"color: #7f7f7f; text-decoration-color: #7f7f7f\"> 368 </span>│ net.up.8.res.conv1.conv       │ Conv2d            │  1.2 M │\n",
              "│<span style=\"color: #7f7f7f; text-decoration-color: #7f7f7f\"> 369 </span>│ net.up.8.res.conv2            │ PeriodicConv2D    │  590 K │\n",
              "│<span style=\"color: #7f7f7f; text-decoration-color: #7f7f7f\"> 370 </span>│ net.up.8.res.conv2.padding    │ PeriodicPadding2D │      0 │\n",
              "│<span style=\"color: #7f7f7f; text-decoration-color: #7f7f7f\"> 371 </span>│ net.up.8.res.conv2.conv       │ Conv2d            │  590 K │\n",
              "│<span style=\"color: #7f7f7f; text-decoration-color: #7f7f7f\"> 372 </span>│ net.up.8.res.shortcut         │ Conv2d            │  131 K │\n",
              "│<span style=\"color: #7f7f7f; text-decoration-color: #7f7f7f\"> 373 </span>│ net.up.8.res.norm1            │ BatchNorm2d       │    512 │\n",
              "│<span style=\"color: #7f7f7f; text-decoration-color: #7f7f7f\"> 374 </span>│ net.up.8.res.norm2            │ BatchNorm2d       │    512 │\n",
              "│<span style=\"color: #7f7f7f; text-decoration-color: #7f7f7f\"> 375 </span>│ net.up.8.res.drop             │ Dropout           │      0 │\n",
              "│<span style=\"color: #7f7f7f; text-decoration-color: #7f7f7f\"> 376 </span>│ net.up.8.attn                 │ Identity          │      0 │\n",
              "│<span style=\"color: #7f7f7f; text-decoration-color: #7f7f7f\"> 377 </span>│ net.up.9                      │ UpBlock           │  1.9 M │\n",
              "│<span style=\"color: #7f7f7f; text-decoration-color: #7f7f7f\"> 378 </span>│ net.up.9.res                  │ ResidualBlock     │  1.9 M │\n",
              "│<span style=\"color: #7f7f7f; text-decoration-color: #7f7f7f\"> 379 </span>│ net.up.9.res.activation       │ LeakyReLU         │      0 │\n",
              "│<span style=\"color: #7f7f7f; text-decoration-color: #7f7f7f\"> 380 </span>│ net.up.9.res.conv1            │ PeriodicConv2D    │  1.2 M │\n",
              "│<span style=\"color: #7f7f7f; text-decoration-color: #7f7f7f\"> 381 </span>│ net.up.9.res.conv1.padding    │ PeriodicPadding2D │      0 │\n",
              "│<span style=\"color: #7f7f7f; text-decoration-color: #7f7f7f\"> 382 </span>│ net.up.9.res.conv1.conv       │ Conv2d            │  1.2 M │\n",
              "│<span style=\"color: #7f7f7f; text-decoration-color: #7f7f7f\"> 383 </span>│ net.up.9.res.conv2            │ PeriodicConv2D    │  590 K │\n",
              "│<span style=\"color: #7f7f7f; text-decoration-color: #7f7f7f\"> 384 </span>│ net.up.9.res.conv2.padding    │ PeriodicPadding2D │      0 │\n",
              "│<span style=\"color: #7f7f7f; text-decoration-color: #7f7f7f\"> 385 </span>│ net.up.9.res.conv2.conv       │ Conv2d            │  590 K │\n",
              "│<span style=\"color: #7f7f7f; text-decoration-color: #7f7f7f\"> 386 </span>│ net.up.9.res.shortcut         │ Conv2d            │  131 K │\n",
              "│<span style=\"color: #7f7f7f; text-decoration-color: #7f7f7f\"> 387 </span>│ net.up.9.res.norm1            │ BatchNorm2d       │    512 │\n",
              "│<span style=\"color: #7f7f7f; text-decoration-color: #7f7f7f\"> 388 </span>│ net.up.9.res.norm2            │ BatchNorm2d       │    512 │\n",
              "│<span style=\"color: #7f7f7f; text-decoration-color: #7f7f7f\"> 389 </span>│ net.up.9.res.drop             │ Dropout           │      0 │\n",
              "│<span style=\"color: #7f7f7f; text-decoration-color: #7f7f7f\"> 390 </span>│ net.up.9.attn                 │ Identity          │      0 │\n",
              "│<span style=\"color: #7f7f7f; text-decoration-color: #7f7f7f\"> 391 </span>│ net.up.10                     │ UpBlock           │  639 K │\n",
              "│<span style=\"color: #7f7f7f; text-decoration-color: #7f7f7f\"> 392 </span>│ net.up.10.res                 │ ResidualBlock     │  639 K │\n",
              "│<span style=\"color: #7f7f7f; text-decoration-color: #7f7f7f\"> 393 </span>│ net.up.10.res.activation      │ LeakyReLU         │      0 │\n",
              "│<span style=\"color: #7f7f7f; text-decoration-color: #7f7f7f\"> 394 </span>│ net.up.10.res.conv1           │ PeriodicConv2D    │  442 K │\n",
              "│<span style=\"color: #7f7f7f; text-decoration-color: #7f7f7f\"> 395 </span>│ net.up.10.res.conv1.padding   │ PeriodicPadding2D │      0 │\n",
              "│<span style=\"color: #7f7f7f; text-decoration-color: #7f7f7f\"> 396 </span>│ net.up.10.res.conv1.conv      │ Conv2d            │  442 K │\n",
              "│<span style=\"color: #7f7f7f; text-decoration-color: #7f7f7f\"> 397 </span>│ net.up.10.res.conv2           │ PeriodicConv2D    │  147 K │\n",
              "│<span style=\"color: #7f7f7f; text-decoration-color: #7f7f7f\"> 398 </span>│ net.up.10.res.conv2.padding   │ PeriodicPadding2D │      0 │\n",
              "│<span style=\"color: #7f7f7f; text-decoration-color: #7f7f7f\"> 399 </span>│ net.up.10.res.conv2.conv      │ Conv2d            │  147 K │\n",
              "│<span style=\"color: #7f7f7f; text-decoration-color: #7f7f7f\"> 400 </span>│ net.up.10.res.shortcut        │ Conv2d            │ 49.3 K │\n",
              "│<span style=\"color: #7f7f7f; text-decoration-color: #7f7f7f\"> 401 </span>│ net.up.10.res.norm1           │ BatchNorm2d       │    256 │\n",
              "│<span style=\"color: #7f7f7f; text-decoration-color: #7f7f7f\"> 402 </span>│ net.up.10.res.norm2           │ BatchNorm2d       │    256 │\n",
              "│<span style=\"color: #7f7f7f; text-decoration-color: #7f7f7f\"> 403 </span>│ net.up.10.res.drop            │ Dropout           │      0 │\n",
              "│<span style=\"color: #7f7f7f; text-decoration-color: #7f7f7f\"> 404 </span>│ net.up.10.attn                │ Identity          │      0 │\n",
              "│<span style=\"color: #7f7f7f; text-decoration-color: #7f7f7f\"> 405 </span>│ net.up.11                     │ Upsample          │  262 K │\n",
              "│<span style=\"color: #7f7f7f; text-decoration-color: #7f7f7f\"> 406 </span>│ net.up.11.conv                │ ConvTranspose2d   │  262 K │\n",
              "│<span style=\"color: #7f7f7f; text-decoration-color: #7f7f7f\"> 407 </span>│ net.up.12                     │ UpBlock           │  476 K │\n",
              "│<span style=\"color: #7f7f7f; text-decoration-color: #7f7f7f\"> 408 </span>│ net.up.12.res                 │ ResidualBlock     │  476 K │\n",
              "│<span style=\"color: #7f7f7f; text-decoration-color: #7f7f7f\"> 409 </span>│ net.up.12.res.activation      │ LeakyReLU         │      0 │\n",
              "│<span style=\"color: #7f7f7f; text-decoration-color: #7f7f7f\"> 410 </span>│ net.up.12.res.conv1           │ PeriodicConv2D    │  295 K │\n",
              "│<span style=\"color: #7f7f7f; text-decoration-color: #7f7f7f\"> 411 </span>│ net.up.12.res.conv1.padding   │ PeriodicPadding2D │      0 │\n",
              "│<span style=\"color: #7f7f7f; text-decoration-color: #7f7f7f\"> 412 </span>│ net.up.12.res.conv1.conv      │ Conv2d            │  295 K │\n",
              "│<span style=\"color: #7f7f7f; text-decoration-color: #7f7f7f\"> 413 </span>│ net.up.12.res.conv2           │ PeriodicConv2D    │  147 K │\n",
              "│<span style=\"color: #7f7f7f; text-decoration-color: #7f7f7f\"> 414 </span>│ net.up.12.res.conv2.padding   │ PeriodicPadding2D │      0 │\n",
              "│<span style=\"color: #7f7f7f; text-decoration-color: #7f7f7f\"> 415 </span>│ net.up.12.res.conv2.conv      │ Conv2d            │  147 K │\n",
              "│<span style=\"color: #7f7f7f; text-decoration-color: #7f7f7f\"> 416 </span>│ net.up.12.res.shortcut        │ Conv2d            │ 32.9 K │\n",
              "│<span style=\"color: #7f7f7f; text-decoration-color: #7f7f7f\"> 417 </span>│ net.up.12.res.norm1           │ BatchNorm2d       │    256 │\n",
              "│<span style=\"color: #7f7f7f; text-decoration-color: #7f7f7f\"> 418 </span>│ net.up.12.res.norm2           │ BatchNorm2d       │    256 │\n",
              "│<span style=\"color: #7f7f7f; text-decoration-color: #7f7f7f\"> 419 </span>│ net.up.12.res.drop            │ Dropout           │      0 │\n",
              "│<span style=\"color: #7f7f7f; text-decoration-color: #7f7f7f\"> 420 </span>│ net.up.12.attn                │ Identity          │      0 │\n",
              "│<span style=\"color: #7f7f7f; text-decoration-color: #7f7f7f\"> 421 </span>│ net.up.13                     │ UpBlock           │  476 K │\n",
              "│<span style=\"color: #7f7f7f; text-decoration-color: #7f7f7f\"> 422 </span>│ net.up.13.res                 │ ResidualBlock     │  476 K │\n",
              "│<span style=\"color: #7f7f7f; text-decoration-color: #7f7f7f\"> 423 </span>│ net.up.13.res.activation      │ LeakyReLU         │      0 │\n",
              "│<span style=\"color: #7f7f7f; text-decoration-color: #7f7f7f\"> 424 </span>│ net.up.13.res.conv1           │ PeriodicConv2D    │  295 K │\n",
              "│<span style=\"color: #7f7f7f; text-decoration-color: #7f7f7f\"> 425 </span>│ net.up.13.res.conv1.padding   │ PeriodicPadding2D │      0 │\n",
              "│<span style=\"color: #7f7f7f; text-decoration-color: #7f7f7f\"> 426 </span>│ net.up.13.res.conv1.conv      │ Conv2d            │  295 K │\n",
              "│<span style=\"color: #7f7f7f; text-decoration-color: #7f7f7f\"> 427 </span>│ net.up.13.res.conv2           │ PeriodicConv2D    │  147 K │\n",
              "│<span style=\"color: #7f7f7f; text-decoration-color: #7f7f7f\"> 428 </span>│ net.up.13.res.conv2.padding   │ PeriodicPadding2D │      0 │\n",
              "│<span style=\"color: #7f7f7f; text-decoration-color: #7f7f7f\"> 429 </span>│ net.up.13.res.conv2.conv      │ Conv2d            │  147 K │\n",
              "│<span style=\"color: #7f7f7f; text-decoration-color: #7f7f7f\"> 430 </span>│ net.up.13.res.shortcut        │ Conv2d            │ 32.9 K │\n",
              "│<span style=\"color: #7f7f7f; text-decoration-color: #7f7f7f\"> 431 </span>│ net.up.13.res.norm1           │ BatchNorm2d       │    256 │\n",
              "│<span style=\"color: #7f7f7f; text-decoration-color: #7f7f7f\"> 432 </span>│ net.up.13.res.norm2           │ BatchNorm2d       │    256 │\n",
              "│<span style=\"color: #7f7f7f; text-decoration-color: #7f7f7f\"> 433 </span>│ net.up.13.res.drop            │ Dropout           │      0 │\n",
              "│<span style=\"color: #7f7f7f; text-decoration-color: #7f7f7f\"> 434 </span>│ net.up.13.attn                │ Identity          │      0 │\n",
              "│<span style=\"color: #7f7f7f; text-decoration-color: #7f7f7f\"> 435 </span>│ net.up.14                     │ UpBlock           │  476 K │\n",
              "│<span style=\"color: #7f7f7f; text-decoration-color: #7f7f7f\"> 436 </span>│ net.up.14.res                 │ ResidualBlock     │  476 K │\n",
              "│<span style=\"color: #7f7f7f; text-decoration-color: #7f7f7f\"> 437 </span>│ net.up.14.res.activation      │ LeakyReLU         │      0 │\n",
              "│<span style=\"color: #7f7f7f; text-decoration-color: #7f7f7f\"> 438 </span>│ net.up.14.res.conv1           │ PeriodicConv2D    │  295 K │\n",
              "│<span style=\"color: #7f7f7f; text-decoration-color: #7f7f7f\"> 439 </span>│ net.up.14.res.conv1.padding   │ PeriodicPadding2D │      0 │\n",
              "│<span style=\"color: #7f7f7f; text-decoration-color: #7f7f7f\"> 440 </span>│ net.up.14.res.conv1.conv      │ Conv2d            │  295 K │\n",
              "│<span style=\"color: #7f7f7f; text-decoration-color: #7f7f7f\"> 441 </span>│ net.up.14.res.conv2           │ PeriodicConv2D    │  147 K │\n",
              "│<span style=\"color: #7f7f7f; text-decoration-color: #7f7f7f\"> 442 </span>│ net.up.14.res.conv2.padding   │ PeriodicPadding2D │      0 │\n",
              "│<span style=\"color: #7f7f7f; text-decoration-color: #7f7f7f\"> 443 </span>│ net.up.14.res.conv2.conv      │ Conv2d            │  147 K │\n",
              "│<span style=\"color: #7f7f7f; text-decoration-color: #7f7f7f\"> 444 </span>│ net.up.14.res.shortcut        │ Conv2d            │ 32.9 K │\n",
              "│<span style=\"color: #7f7f7f; text-decoration-color: #7f7f7f\"> 445 </span>│ net.up.14.res.norm1           │ BatchNorm2d       │    256 │\n",
              "│<span style=\"color: #7f7f7f; text-decoration-color: #7f7f7f\"> 446 </span>│ net.up.14.res.norm2           │ BatchNorm2d       │    256 │\n",
              "│<span style=\"color: #7f7f7f; text-decoration-color: #7f7f7f\"> 447 </span>│ net.up.14.res.drop            │ Dropout           │      0 │\n",
              "│<span style=\"color: #7f7f7f; text-decoration-color: #7f7f7f\"> 448 </span>│ net.up.14.attn                │ Identity          │      0 │\n",
              "│<span style=\"color: #7f7f7f; text-decoration-color: #7f7f7f\"> 449 </span>│ net.up.15                     │ UpBlock           │  476 K │\n",
              "│<span style=\"color: #7f7f7f; text-decoration-color: #7f7f7f\"> 450 </span>│ net.up.15.res                 │ ResidualBlock     │  476 K │\n",
              "│<span style=\"color: #7f7f7f; text-decoration-color: #7f7f7f\"> 451 </span>│ net.up.15.res.activation      │ LeakyReLU         │      0 │\n",
              "│<span style=\"color: #7f7f7f; text-decoration-color: #7f7f7f\"> 452 </span>│ net.up.15.res.conv1           │ PeriodicConv2D    │  295 K │\n",
              "│<span style=\"color: #7f7f7f; text-decoration-color: #7f7f7f\"> 453 </span>│ net.up.15.res.conv1.padding   │ PeriodicPadding2D │      0 │\n",
              "│<span style=\"color: #7f7f7f; text-decoration-color: #7f7f7f\"> 454 </span>│ net.up.15.res.conv1.conv      │ Conv2d            │  295 K │\n",
              "│<span style=\"color: #7f7f7f; text-decoration-color: #7f7f7f\"> 455 </span>│ net.up.15.res.conv2           │ PeriodicConv2D    │  147 K │\n",
              "│<span style=\"color: #7f7f7f; text-decoration-color: #7f7f7f\"> 456 </span>│ net.up.15.res.conv2.padding   │ PeriodicPadding2D │      0 │\n",
              "│<span style=\"color: #7f7f7f; text-decoration-color: #7f7f7f\"> 457 </span>│ net.up.15.res.conv2.conv      │ Conv2d            │  147 K │\n",
              "│<span style=\"color: #7f7f7f; text-decoration-color: #7f7f7f\"> 458 </span>│ net.up.15.res.shortcut        │ Conv2d            │ 32.9 K │\n",
              "│<span style=\"color: #7f7f7f; text-decoration-color: #7f7f7f\"> 459 </span>│ net.up.15.res.norm1           │ BatchNorm2d       │    256 │\n",
              "│<span style=\"color: #7f7f7f; text-decoration-color: #7f7f7f\"> 460 </span>│ net.up.15.res.norm2           │ BatchNorm2d       │    256 │\n",
              "│<span style=\"color: #7f7f7f; text-decoration-color: #7f7f7f\"> 461 </span>│ net.up.15.res.drop            │ Dropout           │      0 │\n",
              "│<span style=\"color: #7f7f7f; text-decoration-color: #7f7f7f\"> 462 </span>│ net.up.15.attn                │ Identity          │      0 │\n",
              "│<span style=\"color: #7f7f7f; text-decoration-color: #7f7f7f\"> 463 </span>│ net.up.16                     │ UpBlock           │  160 K │\n",
              "│<span style=\"color: #7f7f7f; text-decoration-color: #7f7f7f\"> 464 </span>│ net.up.16.res                 │ ResidualBlock     │  160 K │\n",
              "│<span style=\"color: #7f7f7f; text-decoration-color: #7f7f7f\"> 465 </span>│ net.up.16.res.activation      │ LeakyReLU         │      0 │\n",
              "│<span style=\"color: #7f7f7f; text-decoration-color: #7f7f7f\"> 466 </span>│ net.up.16.res.conv1           │ PeriodicConv2D    │  110 K │\n",
              "│<span style=\"color: #7f7f7f; text-decoration-color: #7f7f7f\"> 467 </span>│ net.up.16.res.conv1.padding   │ PeriodicPadding2D │      0 │\n",
              "│<span style=\"color: #7f7f7f; text-decoration-color: #7f7f7f\"> 468 </span>│ net.up.16.res.conv1.conv      │ Conv2d            │  110 K │\n",
              "│<span style=\"color: #7f7f7f; text-decoration-color: #7f7f7f\"> 469 </span>│ net.up.16.res.conv2           │ PeriodicConv2D    │ 36.9 K │\n",
              "│<span style=\"color: #7f7f7f; text-decoration-color: #7f7f7f\"> 470 </span>│ net.up.16.res.conv2.padding   │ PeriodicPadding2D │      0 │\n",
              "│<span style=\"color: #7f7f7f; text-decoration-color: #7f7f7f\"> 471 </span>│ net.up.16.res.conv2.conv      │ Conv2d            │ 36.9 K │\n",
              "│<span style=\"color: #7f7f7f; text-decoration-color: #7f7f7f\"> 472 </span>│ net.up.16.res.shortcut        │ Conv2d            │ 12.4 K │\n",
              "│<span style=\"color: #7f7f7f; text-decoration-color: #7f7f7f\"> 473 </span>│ net.up.16.res.norm1           │ BatchNorm2d       │    128 │\n",
              "│<span style=\"color: #7f7f7f; text-decoration-color: #7f7f7f\"> 474 </span>│ net.up.16.res.norm2           │ BatchNorm2d       │    128 │\n",
              "│<span style=\"color: #7f7f7f; text-decoration-color: #7f7f7f\"> 475 </span>│ net.up.16.res.drop            │ Dropout           │      0 │\n",
              "│<span style=\"color: #7f7f7f; text-decoration-color: #7f7f7f\"> 476 </span>│ net.up.16.attn                │ Identity          │      0 │\n",
              "│<span style=\"color: #7f7f7f; text-decoration-color: #7f7f7f\"> 477 </span>│ net.up.17                     │ Upsample          │ 65.6 K │\n",
              "│<span style=\"color: #7f7f7f; text-decoration-color: #7f7f7f\"> 478 </span>│ net.up.17.conv                │ ConvTranspose2d   │ 65.6 K │\n",
              "│<span style=\"color: #7f7f7f; text-decoration-color: #7f7f7f\"> 479 </span>│ net.up.18                     │ UpBlock           │  119 K │\n",
              "│<span style=\"color: #7f7f7f; text-decoration-color: #7f7f7f\"> 480 </span>│ net.up.18.res                 │ ResidualBlock     │  119 K │\n",
              "│<span style=\"color: #7f7f7f; text-decoration-color: #7f7f7f\"> 481 </span>│ net.up.18.res.activation      │ LeakyReLU         │      0 │\n",
              "│<span style=\"color: #7f7f7f; text-decoration-color: #7f7f7f\"> 482 </span>│ net.up.18.res.conv1           │ PeriodicConv2D    │ 73.8 K │\n",
              "│<span style=\"color: #7f7f7f; text-decoration-color: #7f7f7f\"> 483 </span>│ net.up.18.res.conv1.padding   │ PeriodicPadding2D │      0 │\n",
              "│<span style=\"color: #7f7f7f; text-decoration-color: #7f7f7f\"> 484 </span>│ net.up.18.res.conv1.conv      │ Conv2d            │ 73.8 K │\n",
              "│<span style=\"color: #7f7f7f; text-decoration-color: #7f7f7f\"> 485 </span>│ net.up.18.res.conv2           │ PeriodicConv2D    │ 36.9 K │\n",
              "│<span style=\"color: #7f7f7f; text-decoration-color: #7f7f7f\"> 486 </span>│ net.up.18.res.conv2.padding   │ PeriodicPadding2D │      0 │\n",
              "│<span style=\"color: #7f7f7f; text-decoration-color: #7f7f7f\"> 487 </span>│ net.up.18.res.conv2.conv      │ Conv2d            │ 36.9 K │\n",
              "│<span style=\"color: #7f7f7f; text-decoration-color: #7f7f7f\"> 488 </span>│ net.up.18.res.shortcut        │ Conv2d            │  8.3 K │\n",
              "│<span style=\"color: #7f7f7f; text-decoration-color: #7f7f7f\"> 489 </span>│ net.up.18.res.norm1           │ BatchNorm2d       │    128 │\n",
              "│<span style=\"color: #7f7f7f; text-decoration-color: #7f7f7f\"> 490 </span>│ net.up.18.res.norm2           │ BatchNorm2d       │    128 │\n",
              "│<span style=\"color: #7f7f7f; text-decoration-color: #7f7f7f\"> 491 </span>│ net.up.18.res.drop            │ Dropout           │      0 │\n",
              "│<span style=\"color: #7f7f7f; text-decoration-color: #7f7f7f\"> 492 </span>│ net.up.18.attn                │ Identity          │      0 │\n",
              "│<span style=\"color: #7f7f7f; text-decoration-color: #7f7f7f\"> 493 </span>│ net.up.19                     │ UpBlock           │  119 K │\n",
              "│<span style=\"color: #7f7f7f; text-decoration-color: #7f7f7f\"> 494 </span>│ net.up.19.res                 │ ResidualBlock     │  119 K │\n",
              "│<span style=\"color: #7f7f7f; text-decoration-color: #7f7f7f\"> 495 </span>│ net.up.19.res.activation      │ LeakyReLU         │      0 │\n",
              "│<span style=\"color: #7f7f7f; text-decoration-color: #7f7f7f\"> 496 </span>│ net.up.19.res.conv1           │ PeriodicConv2D    │ 73.8 K │\n",
              "│<span style=\"color: #7f7f7f; text-decoration-color: #7f7f7f\"> 497 </span>│ net.up.19.res.conv1.padding   │ PeriodicPadding2D │      0 │\n",
              "│<span style=\"color: #7f7f7f; text-decoration-color: #7f7f7f\"> 498 </span>│ net.up.19.res.conv1.conv      │ Conv2d            │ 73.8 K │\n",
              "│<span style=\"color: #7f7f7f; text-decoration-color: #7f7f7f\"> 499 </span>│ net.up.19.res.conv2           │ PeriodicConv2D    │ 36.9 K │\n",
              "│<span style=\"color: #7f7f7f; text-decoration-color: #7f7f7f\"> 500 </span>│ net.up.19.res.conv2.padding   │ PeriodicPadding2D │      0 │\n",
              "│<span style=\"color: #7f7f7f; text-decoration-color: #7f7f7f\"> 501 </span>│ net.up.19.res.conv2.conv      │ Conv2d            │ 36.9 K │\n",
              "│<span style=\"color: #7f7f7f; text-decoration-color: #7f7f7f\"> 502 </span>│ net.up.19.res.shortcut        │ Conv2d            │  8.3 K │\n",
              "│<span style=\"color: #7f7f7f; text-decoration-color: #7f7f7f\"> 503 </span>│ net.up.19.res.norm1           │ BatchNorm2d       │    128 │\n",
              "│<span style=\"color: #7f7f7f; text-decoration-color: #7f7f7f\"> 504 </span>│ net.up.19.res.norm2           │ BatchNorm2d       │    128 │\n",
              "│<span style=\"color: #7f7f7f; text-decoration-color: #7f7f7f\"> 505 </span>│ net.up.19.res.drop            │ Dropout           │      0 │\n",
              "│<span style=\"color: #7f7f7f; text-decoration-color: #7f7f7f\"> 506 </span>│ net.up.19.attn                │ Identity          │      0 │\n",
              "│<span style=\"color: #7f7f7f; text-decoration-color: #7f7f7f\"> 507 </span>│ net.up.20                     │ UpBlock           │  119 K │\n",
              "│<span style=\"color: #7f7f7f; text-decoration-color: #7f7f7f\"> 508 </span>│ net.up.20.res                 │ ResidualBlock     │  119 K │\n",
              "│<span style=\"color: #7f7f7f; text-decoration-color: #7f7f7f\"> 509 </span>│ net.up.20.res.activation      │ LeakyReLU         │      0 │\n",
              "│<span style=\"color: #7f7f7f; text-decoration-color: #7f7f7f\"> 510 </span>│ net.up.20.res.conv1           │ PeriodicConv2D    │ 73.8 K │\n",
              "│<span style=\"color: #7f7f7f; text-decoration-color: #7f7f7f\"> 511 </span>│ net.up.20.res.conv1.padding   │ PeriodicPadding2D │      0 │\n",
              "│<span style=\"color: #7f7f7f; text-decoration-color: #7f7f7f\"> 512 </span>│ net.up.20.res.conv1.conv      │ Conv2d            │ 73.8 K │\n",
              "│<span style=\"color: #7f7f7f; text-decoration-color: #7f7f7f\"> 513 </span>│ net.up.20.res.conv2           │ PeriodicConv2D    │ 36.9 K │\n",
              "│<span style=\"color: #7f7f7f; text-decoration-color: #7f7f7f\"> 514 </span>│ net.up.20.res.conv2.padding   │ PeriodicPadding2D │      0 │\n",
              "│<span style=\"color: #7f7f7f; text-decoration-color: #7f7f7f\"> 515 </span>│ net.up.20.res.conv2.conv      │ Conv2d            │ 36.9 K │\n",
              "│<span style=\"color: #7f7f7f; text-decoration-color: #7f7f7f\"> 516 </span>│ net.up.20.res.shortcut        │ Conv2d            │  8.3 K │\n",
              "│<span style=\"color: #7f7f7f; text-decoration-color: #7f7f7f\"> 517 </span>│ net.up.20.res.norm1           │ BatchNorm2d       │    128 │\n",
              "│<span style=\"color: #7f7f7f; text-decoration-color: #7f7f7f\"> 518 </span>│ net.up.20.res.norm2           │ BatchNorm2d       │    128 │\n",
              "│<span style=\"color: #7f7f7f; text-decoration-color: #7f7f7f\"> 519 </span>│ net.up.20.res.drop            │ Dropout           │      0 │\n",
              "│<span style=\"color: #7f7f7f; text-decoration-color: #7f7f7f\"> 520 </span>│ net.up.20.attn                │ Identity          │      0 │\n",
              "│<span style=\"color: #7f7f7f; text-decoration-color: #7f7f7f\"> 521 </span>│ net.up.21                     │ UpBlock           │  119 K │\n",
              "│<span style=\"color: #7f7f7f; text-decoration-color: #7f7f7f\"> 522 </span>│ net.up.21.res                 │ ResidualBlock     │  119 K │\n",
              "│<span style=\"color: #7f7f7f; text-decoration-color: #7f7f7f\"> 523 </span>│ net.up.21.res.activation      │ LeakyReLU         │      0 │\n",
              "│<span style=\"color: #7f7f7f; text-decoration-color: #7f7f7f\"> 524 </span>│ net.up.21.res.conv1           │ PeriodicConv2D    │ 73.8 K │\n",
              "│<span style=\"color: #7f7f7f; text-decoration-color: #7f7f7f\"> 525 </span>│ net.up.21.res.conv1.padding   │ PeriodicPadding2D │      0 │\n",
              "│<span style=\"color: #7f7f7f; text-decoration-color: #7f7f7f\"> 526 </span>│ net.up.21.res.conv1.conv      │ Conv2d            │ 73.8 K │\n",
              "│<span style=\"color: #7f7f7f; text-decoration-color: #7f7f7f\"> 527 </span>│ net.up.21.res.conv2           │ PeriodicConv2D    │ 36.9 K │\n",
              "│<span style=\"color: #7f7f7f; text-decoration-color: #7f7f7f\"> 528 </span>│ net.up.21.res.conv2.padding   │ PeriodicPadding2D │      0 │\n",
              "│<span style=\"color: #7f7f7f; text-decoration-color: #7f7f7f\"> 529 </span>│ net.up.21.res.conv2.conv      │ Conv2d            │ 36.9 K │\n",
              "│<span style=\"color: #7f7f7f; text-decoration-color: #7f7f7f\"> 530 </span>│ net.up.21.res.shortcut        │ Conv2d            │  8.3 K │\n",
              "│<span style=\"color: #7f7f7f; text-decoration-color: #7f7f7f\"> 531 </span>│ net.up.21.res.norm1           │ BatchNorm2d       │    128 │\n",
              "│<span style=\"color: #7f7f7f; text-decoration-color: #7f7f7f\"> 532 </span>│ net.up.21.res.norm2           │ BatchNorm2d       │    128 │\n",
              "│<span style=\"color: #7f7f7f; text-decoration-color: #7f7f7f\"> 533 </span>│ net.up.21.res.drop            │ Dropout           │      0 │\n",
              "│<span style=\"color: #7f7f7f; text-decoration-color: #7f7f7f\"> 534 </span>│ net.up.21.attn                │ Identity          │      0 │\n",
              "│<span style=\"color: #7f7f7f; text-decoration-color: #7f7f7f\"> 535 </span>│ net.up.22                     │ UpBlock           │  119 K │\n",
              "│<span style=\"color: #7f7f7f; text-decoration-color: #7f7f7f\"> 536 </span>│ net.up.22.res                 │ ResidualBlock     │  119 K │\n",
              "│<span style=\"color: #7f7f7f; text-decoration-color: #7f7f7f\"> 537 </span>│ net.up.22.res.activation      │ LeakyReLU         │      0 │\n",
              "│<span style=\"color: #7f7f7f; text-decoration-color: #7f7f7f\"> 538 </span>│ net.up.22.res.conv1           │ PeriodicConv2D    │ 73.8 K │\n",
              "│<span style=\"color: #7f7f7f; text-decoration-color: #7f7f7f\"> 539 </span>│ net.up.22.res.conv1.padding   │ PeriodicPadding2D │      0 │\n",
              "│<span style=\"color: #7f7f7f; text-decoration-color: #7f7f7f\"> 540 </span>│ net.up.22.res.conv1.conv      │ Conv2d            │ 73.8 K │\n",
              "│<span style=\"color: #7f7f7f; text-decoration-color: #7f7f7f\"> 541 </span>│ net.up.22.res.conv2           │ PeriodicConv2D    │ 36.9 K │\n",
              "│<span style=\"color: #7f7f7f; text-decoration-color: #7f7f7f\"> 542 </span>│ net.up.22.res.conv2.padding   │ PeriodicPadding2D │      0 │\n",
              "│<span style=\"color: #7f7f7f; text-decoration-color: #7f7f7f\"> 543 </span>│ net.up.22.res.conv2.conv      │ Conv2d            │ 36.9 K │\n",
              "│<span style=\"color: #7f7f7f; text-decoration-color: #7f7f7f\"> 544 </span>│ net.up.22.res.shortcut        │ Conv2d            │  8.3 K │\n",
              "│<span style=\"color: #7f7f7f; text-decoration-color: #7f7f7f\"> 545 </span>│ net.up.22.res.norm1           │ BatchNorm2d       │    128 │\n",
              "│<span style=\"color: #7f7f7f; text-decoration-color: #7f7f7f\"> 546 </span>│ net.up.22.res.norm2           │ BatchNorm2d       │    128 │\n",
              "│<span style=\"color: #7f7f7f; text-decoration-color: #7f7f7f\"> 547 </span>│ net.up.22.res.drop            │ Dropout           │      0 │\n",
              "│<span style=\"color: #7f7f7f; text-decoration-color: #7f7f7f\"> 548 </span>│ net.up.22.attn                │ Identity          │      0 │\n",
              "│<span style=\"color: #7f7f7f; text-decoration-color: #7f7f7f\"> 549 </span>│ net.norm                      │ BatchNorm2d       │    128 │\n",
              "│<span style=\"color: #7f7f7f; text-decoration-color: #7f7f7f\"> 550 </span>│ net.final                     │ PeriodicConv2D    │  3.1 K │\n",
              "│<span style=\"color: #7f7f7f; text-decoration-color: #7f7f7f\"> 551 </span>│ net.final.padding             │ PeriodicPadding2D │      0 │\n",
              "│<span style=\"color: #7f7f7f; text-decoration-color: #7f7f7f\"> 552 </span>│ net.final.conv                │ Conv2d            │  3.1 K │\n",
              "│<span style=\"color: #7f7f7f; text-decoration-color: #7f7f7f\"> 553 </span>│ denormalization               │ Normalize         │      0 │\n",
              "└─────┴───────────────────────────────┴───────────────────┴────────┘\n",
              "</pre>\n"
            ],
            "text/plain": [
              "┏━━━━━┳━━━━━━━━━━━━━━━━━━━━━━━━━━━━━━━┳━━━━━━━━━━━━━━━━━━━┳━━━━━━━━┓\n",
              "┃\u001b[1;35m \u001b[0m\u001b[1;35m   \u001b[0m\u001b[1;35m \u001b[0m┃\u001b[1;35m \u001b[0m\u001b[1;35mName                         \u001b[0m\u001b[1;35m \u001b[0m┃\u001b[1;35m \u001b[0m\u001b[1;35mType             \u001b[0m\u001b[1;35m \u001b[0m┃\u001b[1;35m \u001b[0m\u001b[1;35mParams\u001b[0m\u001b[1;35m \u001b[0m┃\n",
              "┡━━━━━╇━━━━━━━━━━━━━━━━━━━━━━━━━━━━━━━╇━━━━━━━━━━━━━━━━━━━╇━━━━━━━━┩\n",
              "│\u001b[2m \u001b[0m\u001b[2m0  \u001b[0m\u001b[2m \u001b[0m│ net                           │ Unet              │  250 M │\n",
              "│\u001b[2m \u001b[0m\u001b[2m1  \u001b[0m\u001b[2m \u001b[0m│ net.activation                │ LeakyReLU         │      0 │\n",
              "│\u001b[2m \u001b[0m\u001b[2m2  \u001b[0m\u001b[2m \u001b[0m│ net.image_proj                │ PeriodicConv2D    │  3.2 K │\n",
              "│\u001b[2m \u001b[0m\u001b[2m3  \u001b[0m\u001b[2m \u001b[0m│ net.image_proj.padding        │ PeriodicPadding2D │      0 │\n",
              "│\u001b[2m \u001b[0m\u001b[2m4  \u001b[0m\u001b[2m \u001b[0m│ net.image_proj.conv           │ Conv2d            │  3.2 K │\n",
              "│\u001b[2m \u001b[0m\u001b[2m5  \u001b[0m\u001b[2m \u001b[0m│ net.down                      │ ModuleList        │ 75.4 M │\n",
              "│\u001b[2m \u001b[0m\u001b[2m6  \u001b[0m\u001b[2m \u001b[0m│ net.down.0                    │ DownBlock         │ 74.1 K │\n",
              "│\u001b[2m \u001b[0m\u001b[2m7  \u001b[0m\u001b[2m \u001b[0m│ net.down.0.res                │ ResidualBlock     │ 74.1 K │\n",
              "│\u001b[2m \u001b[0m\u001b[2m8  \u001b[0m\u001b[2m \u001b[0m│ net.down.0.res.activation     │ LeakyReLU         │      0 │\n",
              "│\u001b[2m \u001b[0m\u001b[2m9  \u001b[0m\u001b[2m \u001b[0m│ net.down.0.res.conv1          │ PeriodicConv2D    │ 36.9 K │\n",
              "│\u001b[2m \u001b[0m\u001b[2m10 \u001b[0m\u001b[2m \u001b[0m│ net.down.0.res.conv1.padding  │ PeriodicPadding2D │      0 │\n",
              "│\u001b[2m \u001b[0m\u001b[2m11 \u001b[0m\u001b[2m \u001b[0m│ net.down.0.res.conv1.conv     │ Conv2d            │ 36.9 K │\n",
              "│\u001b[2m \u001b[0m\u001b[2m12 \u001b[0m\u001b[2m \u001b[0m│ net.down.0.res.conv2          │ PeriodicConv2D    │ 36.9 K │\n",
              "│\u001b[2m \u001b[0m\u001b[2m13 \u001b[0m\u001b[2m \u001b[0m│ net.down.0.res.conv2.padding  │ PeriodicPadding2D │      0 │\n",
              "│\u001b[2m \u001b[0m\u001b[2m14 \u001b[0m\u001b[2m \u001b[0m│ net.down.0.res.conv2.conv     │ Conv2d            │ 36.9 K │\n",
              "│\u001b[2m \u001b[0m\u001b[2m15 \u001b[0m\u001b[2m \u001b[0m│ net.down.0.res.shortcut       │ Identity          │      0 │\n",
              "│\u001b[2m \u001b[0m\u001b[2m16 \u001b[0m\u001b[2m \u001b[0m│ net.down.0.res.norm1          │ BatchNorm2d       │    128 │\n",
              "│\u001b[2m \u001b[0m\u001b[2m17 \u001b[0m\u001b[2m \u001b[0m│ net.down.0.res.norm2          │ BatchNorm2d       │    128 │\n",
              "│\u001b[2m \u001b[0m\u001b[2m18 \u001b[0m\u001b[2m \u001b[0m│ net.down.0.res.drop           │ Dropout           │      0 │\n",
              "│\u001b[2m \u001b[0m\u001b[2m19 \u001b[0m\u001b[2m \u001b[0m│ net.down.0.attn               │ Identity          │      0 │\n",
              "│\u001b[2m \u001b[0m\u001b[2m20 \u001b[0m\u001b[2m \u001b[0m│ net.down.1                    │ DownBlock         │ 74.1 K │\n",
              "│\u001b[2m \u001b[0m\u001b[2m21 \u001b[0m\u001b[2m \u001b[0m│ net.down.1.res                │ ResidualBlock     │ 74.1 K │\n",
              "│\u001b[2m \u001b[0m\u001b[2m22 \u001b[0m\u001b[2m \u001b[0m│ net.down.1.res.activation     │ LeakyReLU         │      0 │\n",
              "│\u001b[2m \u001b[0m\u001b[2m23 \u001b[0m\u001b[2m \u001b[0m│ net.down.1.res.conv1          │ PeriodicConv2D    │ 36.9 K │\n",
              "│\u001b[2m \u001b[0m\u001b[2m24 \u001b[0m\u001b[2m \u001b[0m│ net.down.1.res.conv1.padding  │ PeriodicPadding2D │      0 │\n",
              "│\u001b[2m \u001b[0m\u001b[2m25 \u001b[0m\u001b[2m \u001b[0m│ net.down.1.res.conv1.conv     │ Conv2d            │ 36.9 K │\n",
              "│\u001b[2m \u001b[0m\u001b[2m26 \u001b[0m\u001b[2m \u001b[0m│ net.down.1.res.conv2          │ PeriodicConv2D    │ 36.9 K │\n",
              "│\u001b[2m \u001b[0m\u001b[2m27 \u001b[0m\u001b[2m \u001b[0m│ net.down.1.res.conv2.padding  │ PeriodicPadding2D │      0 │\n",
              "│\u001b[2m \u001b[0m\u001b[2m28 \u001b[0m\u001b[2m \u001b[0m│ net.down.1.res.conv2.conv     │ Conv2d            │ 36.9 K │\n",
              "│\u001b[2m \u001b[0m\u001b[2m29 \u001b[0m\u001b[2m \u001b[0m│ net.down.1.res.shortcut       │ Identity          │      0 │\n",
              "│\u001b[2m \u001b[0m\u001b[2m30 \u001b[0m\u001b[2m \u001b[0m│ net.down.1.res.norm1          │ BatchNorm2d       │    128 │\n",
              "│\u001b[2m \u001b[0m\u001b[2m31 \u001b[0m\u001b[2m \u001b[0m│ net.down.1.res.norm2          │ BatchNorm2d       │    128 │\n",
              "│\u001b[2m \u001b[0m\u001b[2m32 \u001b[0m\u001b[2m \u001b[0m│ net.down.1.res.drop           │ Dropout           │      0 │\n",
              "│\u001b[2m \u001b[0m\u001b[2m33 \u001b[0m\u001b[2m \u001b[0m│ net.down.1.attn               │ Identity          │      0 │\n",
              "│\u001b[2m \u001b[0m\u001b[2m34 \u001b[0m\u001b[2m \u001b[0m│ net.down.2                    │ DownBlock         │ 74.1 K │\n",
              "│\u001b[2m \u001b[0m\u001b[2m35 \u001b[0m\u001b[2m \u001b[0m│ net.down.2.res                │ ResidualBlock     │ 74.1 K │\n",
              "│\u001b[2m \u001b[0m\u001b[2m36 \u001b[0m\u001b[2m \u001b[0m│ net.down.2.res.activation     │ LeakyReLU         │      0 │\n",
              "│\u001b[2m \u001b[0m\u001b[2m37 \u001b[0m\u001b[2m \u001b[0m│ net.down.2.res.conv1          │ PeriodicConv2D    │ 36.9 K │\n",
              "│\u001b[2m \u001b[0m\u001b[2m38 \u001b[0m\u001b[2m \u001b[0m│ net.down.2.res.conv1.padding  │ PeriodicPadding2D │      0 │\n",
              "│\u001b[2m \u001b[0m\u001b[2m39 \u001b[0m\u001b[2m \u001b[0m│ net.down.2.res.conv1.conv     │ Conv2d            │ 36.9 K │\n",
              "│\u001b[2m \u001b[0m\u001b[2m40 \u001b[0m\u001b[2m \u001b[0m│ net.down.2.res.conv2          │ PeriodicConv2D    │ 36.9 K │\n",
              "│\u001b[2m \u001b[0m\u001b[2m41 \u001b[0m\u001b[2m \u001b[0m│ net.down.2.res.conv2.padding  │ PeriodicPadding2D │      0 │\n",
              "│\u001b[2m \u001b[0m\u001b[2m42 \u001b[0m\u001b[2m \u001b[0m│ net.down.2.res.conv2.conv     │ Conv2d            │ 36.9 K │\n",
              "│\u001b[2m \u001b[0m\u001b[2m43 \u001b[0m\u001b[2m \u001b[0m│ net.down.2.res.shortcut       │ Identity          │      0 │\n",
              "│\u001b[2m \u001b[0m\u001b[2m44 \u001b[0m\u001b[2m \u001b[0m│ net.down.2.res.norm1          │ BatchNorm2d       │    128 │\n",
              "│\u001b[2m \u001b[0m\u001b[2m45 \u001b[0m\u001b[2m \u001b[0m│ net.down.2.res.norm2          │ BatchNorm2d       │    128 │\n",
              "│\u001b[2m \u001b[0m\u001b[2m46 \u001b[0m\u001b[2m \u001b[0m│ net.down.2.res.drop           │ Dropout           │      0 │\n",
              "│\u001b[2m \u001b[0m\u001b[2m47 \u001b[0m\u001b[2m \u001b[0m│ net.down.2.attn               │ Identity          │      0 │\n",
              "│\u001b[2m \u001b[0m\u001b[2m48 \u001b[0m\u001b[2m \u001b[0m│ net.down.3                    │ DownBlock         │ 74.1 K │\n",
              "│\u001b[2m \u001b[0m\u001b[2m49 \u001b[0m\u001b[2m \u001b[0m│ net.down.3.res                │ ResidualBlock     │ 74.1 K │\n",
              "│\u001b[2m \u001b[0m\u001b[2m50 \u001b[0m\u001b[2m \u001b[0m│ net.down.3.res.activation     │ LeakyReLU         │      0 │\n",
              "│\u001b[2m \u001b[0m\u001b[2m51 \u001b[0m\u001b[2m \u001b[0m│ net.down.3.res.conv1          │ PeriodicConv2D    │ 36.9 K │\n",
              "│\u001b[2m \u001b[0m\u001b[2m52 \u001b[0m\u001b[2m \u001b[0m│ net.down.3.res.conv1.padding  │ PeriodicPadding2D │      0 │\n",
              "│\u001b[2m \u001b[0m\u001b[2m53 \u001b[0m\u001b[2m \u001b[0m│ net.down.3.res.conv1.conv     │ Conv2d            │ 36.9 K │\n",
              "│\u001b[2m \u001b[0m\u001b[2m54 \u001b[0m\u001b[2m \u001b[0m│ net.down.3.res.conv2          │ PeriodicConv2D    │ 36.9 K │\n",
              "│\u001b[2m \u001b[0m\u001b[2m55 \u001b[0m\u001b[2m \u001b[0m│ net.down.3.res.conv2.padding  │ PeriodicPadding2D │      0 │\n",
              "│\u001b[2m \u001b[0m\u001b[2m56 \u001b[0m\u001b[2m \u001b[0m│ net.down.3.res.conv2.conv     │ Conv2d            │ 36.9 K │\n",
              "│\u001b[2m \u001b[0m\u001b[2m57 \u001b[0m\u001b[2m \u001b[0m│ net.down.3.res.shortcut       │ Identity          │      0 │\n",
              "│\u001b[2m \u001b[0m\u001b[2m58 \u001b[0m\u001b[2m \u001b[0m│ net.down.3.res.norm1          │ BatchNorm2d       │    128 │\n",
              "│\u001b[2m \u001b[0m\u001b[2m59 \u001b[0m\u001b[2m \u001b[0m│ net.down.3.res.norm2          │ BatchNorm2d       │    128 │\n",
              "│\u001b[2m \u001b[0m\u001b[2m60 \u001b[0m\u001b[2m \u001b[0m│ net.down.3.res.drop           │ Dropout           │      0 │\n",
              "│\u001b[2m \u001b[0m\u001b[2m61 \u001b[0m\u001b[2m \u001b[0m│ net.down.3.attn               │ Identity          │      0 │\n",
              "│\u001b[2m \u001b[0m\u001b[2m62 \u001b[0m\u001b[2m \u001b[0m│ net.down.4                    │ Downsample        │ 36.9 K │\n",
              "│\u001b[2m \u001b[0m\u001b[2m63 \u001b[0m\u001b[2m \u001b[0m│ net.down.4.conv               │ Conv2d            │ 36.9 K │\n",
              "│\u001b[2m \u001b[0m\u001b[2m64 \u001b[0m\u001b[2m \u001b[0m│ net.down.5                    │ DownBlock         │  230 K │\n",
              "│\u001b[2m \u001b[0m\u001b[2m65 \u001b[0m\u001b[2m \u001b[0m│ net.down.5.res                │ ResidualBlock     │  230 K │\n",
              "│\u001b[2m \u001b[0m\u001b[2m66 \u001b[0m\u001b[2m \u001b[0m│ net.down.5.res.activation     │ LeakyReLU         │      0 │\n",
              "│\u001b[2m \u001b[0m\u001b[2m67 \u001b[0m\u001b[2m \u001b[0m│ net.down.5.res.conv1          │ PeriodicConv2D    │ 73.9 K │\n",
              "│\u001b[2m \u001b[0m\u001b[2m68 \u001b[0m\u001b[2m \u001b[0m│ net.down.5.res.conv1.padding  │ PeriodicPadding2D │      0 │\n",
              "│\u001b[2m \u001b[0m\u001b[2m69 \u001b[0m\u001b[2m \u001b[0m│ net.down.5.res.conv1.conv     │ Conv2d            │ 73.9 K │\n",
              "│\u001b[2m \u001b[0m\u001b[2m70 \u001b[0m\u001b[2m \u001b[0m│ net.down.5.res.conv2          │ PeriodicConv2D    │  147 K │\n",
              "│\u001b[2m \u001b[0m\u001b[2m71 \u001b[0m\u001b[2m \u001b[0m│ net.down.5.res.conv2.padding  │ PeriodicPadding2D │      0 │\n",
              "│\u001b[2m \u001b[0m\u001b[2m72 \u001b[0m\u001b[2m \u001b[0m│ net.down.5.res.conv2.conv     │ Conv2d            │  147 K │\n",
              "│\u001b[2m \u001b[0m\u001b[2m73 \u001b[0m\u001b[2m \u001b[0m│ net.down.5.res.shortcut       │ Conv2d            │  8.3 K │\n",
              "│\u001b[2m \u001b[0m\u001b[2m74 \u001b[0m\u001b[2m \u001b[0m│ net.down.5.res.norm1          │ BatchNorm2d       │    256 │\n",
              "│\u001b[2m \u001b[0m\u001b[2m75 \u001b[0m\u001b[2m \u001b[0m│ net.down.5.res.norm2          │ BatchNorm2d       │    256 │\n",
              "│\u001b[2m \u001b[0m\u001b[2m76 \u001b[0m\u001b[2m \u001b[0m│ net.down.5.res.drop           │ Dropout           │      0 │\n",
              "│\u001b[2m \u001b[0m\u001b[2m77 \u001b[0m\u001b[2m \u001b[0m│ net.down.5.attn               │ Identity          │      0 │\n",
              "│\u001b[2m \u001b[0m\u001b[2m78 \u001b[0m\u001b[2m \u001b[0m│ net.down.6                    │ DownBlock         │  295 K │\n",
              "│\u001b[2m \u001b[0m\u001b[2m79 \u001b[0m\u001b[2m \u001b[0m│ net.down.6.res                │ ResidualBlock     │  295 K │\n",
              "│\u001b[2m \u001b[0m\u001b[2m80 \u001b[0m\u001b[2m \u001b[0m│ net.down.6.res.activation     │ LeakyReLU         │      0 │\n",
              "│\u001b[2m \u001b[0m\u001b[2m81 \u001b[0m\u001b[2m \u001b[0m│ net.down.6.res.conv1          │ PeriodicConv2D    │  147 K │\n",
              "│\u001b[2m \u001b[0m\u001b[2m82 \u001b[0m\u001b[2m \u001b[0m│ net.down.6.res.conv1.padding  │ PeriodicPadding2D │      0 │\n",
              "│\u001b[2m \u001b[0m\u001b[2m83 \u001b[0m\u001b[2m \u001b[0m│ net.down.6.res.conv1.conv     │ Conv2d            │  147 K │\n",
              "│\u001b[2m \u001b[0m\u001b[2m84 \u001b[0m\u001b[2m \u001b[0m│ net.down.6.res.conv2          │ PeriodicConv2D    │  147 K │\n",
              "│\u001b[2m \u001b[0m\u001b[2m85 \u001b[0m\u001b[2m \u001b[0m│ net.down.6.res.conv2.padding  │ PeriodicPadding2D │      0 │\n",
              "│\u001b[2m \u001b[0m\u001b[2m86 \u001b[0m\u001b[2m \u001b[0m│ net.down.6.res.conv2.conv     │ Conv2d            │  147 K │\n",
              "│\u001b[2m \u001b[0m\u001b[2m87 \u001b[0m\u001b[2m \u001b[0m│ net.down.6.res.shortcut       │ Identity          │      0 │\n",
              "│\u001b[2m \u001b[0m\u001b[2m88 \u001b[0m\u001b[2m \u001b[0m│ net.down.6.res.norm1          │ BatchNorm2d       │    256 │\n",
              "│\u001b[2m \u001b[0m\u001b[2m89 \u001b[0m\u001b[2m \u001b[0m│ net.down.6.res.norm2          │ BatchNorm2d       │    256 │\n",
              "│\u001b[2m \u001b[0m\u001b[2m90 \u001b[0m\u001b[2m \u001b[0m│ net.down.6.res.drop           │ Dropout           │      0 │\n",
              "│\u001b[2m \u001b[0m\u001b[2m91 \u001b[0m\u001b[2m \u001b[0m│ net.down.6.attn               │ Identity          │      0 │\n",
              "│\u001b[2m \u001b[0m\u001b[2m92 \u001b[0m\u001b[2m \u001b[0m│ net.down.7                    │ DownBlock         │  295 K │\n",
              "│\u001b[2m \u001b[0m\u001b[2m93 \u001b[0m\u001b[2m \u001b[0m│ net.down.7.res                │ ResidualBlock     │  295 K │\n",
              "│\u001b[2m \u001b[0m\u001b[2m94 \u001b[0m\u001b[2m \u001b[0m│ net.down.7.res.activation     │ LeakyReLU         │      0 │\n",
              "│\u001b[2m \u001b[0m\u001b[2m95 \u001b[0m\u001b[2m \u001b[0m│ net.down.7.res.conv1          │ PeriodicConv2D    │  147 K │\n",
              "│\u001b[2m \u001b[0m\u001b[2m96 \u001b[0m\u001b[2m \u001b[0m│ net.down.7.res.conv1.padding  │ PeriodicPadding2D │      0 │\n",
              "│\u001b[2m \u001b[0m\u001b[2m97 \u001b[0m\u001b[2m \u001b[0m│ net.down.7.res.conv1.conv     │ Conv2d            │  147 K │\n",
              "│\u001b[2m \u001b[0m\u001b[2m98 \u001b[0m\u001b[2m \u001b[0m│ net.down.7.res.conv2          │ PeriodicConv2D    │  147 K │\n",
              "│\u001b[2m \u001b[0m\u001b[2m99 \u001b[0m\u001b[2m \u001b[0m│ net.down.7.res.conv2.padding  │ PeriodicPadding2D │      0 │\n",
              "│\u001b[2m \u001b[0m\u001b[2m100\u001b[0m\u001b[2m \u001b[0m│ net.down.7.res.conv2.conv     │ Conv2d            │  147 K │\n",
              "│\u001b[2m \u001b[0m\u001b[2m101\u001b[0m\u001b[2m \u001b[0m│ net.down.7.res.shortcut       │ Identity          │      0 │\n",
              "│\u001b[2m \u001b[0m\u001b[2m102\u001b[0m\u001b[2m \u001b[0m│ net.down.7.res.norm1          │ BatchNorm2d       │    256 │\n",
              "│\u001b[2m \u001b[0m\u001b[2m103\u001b[0m\u001b[2m \u001b[0m│ net.down.7.res.norm2          │ BatchNorm2d       │    256 │\n",
              "│\u001b[2m \u001b[0m\u001b[2m104\u001b[0m\u001b[2m \u001b[0m│ net.down.7.res.drop           │ Dropout           │      0 │\n",
              "│\u001b[2m \u001b[0m\u001b[2m105\u001b[0m\u001b[2m \u001b[0m│ net.down.7.attn               │ Identity          │      0 │\n",
              "│\u001b[2m \u001b[0m\u001b[2m106\u001b[0m\u001b[2m \u001b[0m│ net.down.8                    │ DownBlock         │  295 K │\n",
              "│\u001b[2m \u001b[0m\u001b[2m107\u001b[0m\u001b[2m \u001b[0m│ net.down.8.res                │ ResidualBlock     │  295 K │\n",
              "│\u001b[2m \u001b[0m\u001b[2m108\u001b[0m\u001b[2m \u001b[0m│ net.down.8.res.activation     │ LeakyReLU         │      0 │\n",
              "│\u001b[2m \u001b[0m\u001b[2m109\u001b[0m\u001b[2m \u001b[0m│ net.down.8.res.conv1          │ PeriodicConv2D    │  147 K │\n",
              "│\u001b[2m \u001b[0m\u001b[2m110\u001b[0m\u001b[2m \u001b[0m│ net.down.8.res.conv1.padding  │ PeriodicPadding2D │      0 │\n",
              "│\u001b[2m \u001b[0m\u001b[2m111\u001b[0m\u001b[2m \u001b[0m│ net.down.8.res.conv1.conv     │ Conv2d            │  147 K │\n",
              "│\u001b[2m \u001b[0m\u001b[2m112\u001b[0m\u001b[2m \u001b[0m│ net.down.8.res.conv2          │ PeriodicConv2D    │  147 K │\n",
              "│\u001b[2m \u001b[0m\u001b[2m113\u001b[0m\u001b[2m \u001b[0m│ net.down.8.res.conv2.padding  │ PeriodicPadding2D │      0 │\n",
              "│\u001b[2m \u001b[0m\u001b[2m114\u001b[0m\u001b[2m \u001b[0m│ net.down.8.res.conv2.conv     │ Conv2d            │  147 K │\n",
              "│\u001b[2m \u001b[0m\u001b[2m115\u001b[0m\u001b[2m \u001b[0m│ net.down.8.res.shortcut       │ Identity          │      0 │\n",
              "│\u001b[2m \u001b[0m\u001b[2m116\u001b[0m\u001b[2m \u001b[0m│ net.down.8.res.norm1          │ BatchNorm2d       │    256 │\n",
              "│\u001b[2m \u001b[0m\u001b[2m117\u001b[0m\u001b[2m \u001b[0m│ net.down.8.res.norm2          │ BatchNorm2d       │    256 │\n",
              "│\u001b[2m \u001b[0m\u001b[2m118\u001b[0m\u001b[2m \u001b[0m│ net.down.8.res.drop           │ Dropout           │      0 │\n",
              "│\u001b[2m \u001b[0m\u001b[2m119\u001b[0m\u001b[2m \u001b[0m│ net.down.8.attn               │ Identity          │      0 │\n",
              "│\u001b[2m \u001b[0m\u001b[2m120\u001b[0m\u001b[2m \u001b[0m│ net.down.9                    │ Downsample        │  147 K │\n",
              "│\u001b[2m \u001b[0m\u001b[2m121\u001b[0m\u001b[2m \u001b[0m│ net.down.9.conv               │ Conv2d            │  147 K │\n",
              "│\u001b[2m \u001b[0m\u001b[2m122\u001b[0m\u001b[2m \u001b[0m│ net.down.10                   │ DownBlock         │  919 K │\n",
              "│\u001b[2m \u001b[0m\u001b[2m123\u001b[0m\u001b[2m \u001b[0m│ net.down.10.res               │ ResidualBlock     │  919 K │\n",
              "│\u001b[2m \u001b[0m\u001b[2m124\u001b[0m\u001b[2m \u001b[0m│ net.down.10.res.activation    │ LeakyReLU         │      0 │\n",
              "│\u001b[2m \u001b[0m\u001b[2m125\u001b[0m\u001b[2m \u001b[0m│ net.down.10.res.conv1         │ PeriodicConv2D    │  295 K │\n",
              "│\u001b[2m \u001b[0m\u001b[2m126\u001b[0m\u001b[2m \u001b[0m│ net.down.10.res.conv1.padding │ PeriodicPadding2D │      0 │\n",
              "│\u001b[2m \u001b[0m\u001b[2m127\u001b[0m\u001b[2m \u001b[0m│ net.down.10.res.conv1.conv    │ Conv2d            │  295 K │\n",
              "│\u001b[2m \u001b[0m\u001b[2m128\u001b[0m\u001b[2m \u001b[0m│ net.down.10.res.conv2         │ PeriodicConv2D    │  590 K │\n",
              "│\u001b[2m \u001b[0m\u001b[2m129\u001b[0m\u001b[2m \u001b[0m│ net.down.10.res.conv2.padding │ PeriodicPadding2D │      0 │\n",
              "│\u001b[2m \u001b[0m\u001b[2m130\u001b[0m\u001b[2m \u001b[0m│ net.down.10.res.conv2.conv    │ Conv2d            │  590 K │\n",
              "│\u001b[2m \u001b[0m\u001b[2m131\u001b[0m\u001b[2m \u001b[0m│ net.down.10.res.shortcut      │ Conv2d            │ 33.0 K │\n",
              "│\u001b[2m \u001b[0m\u001b[2m132\u001b[0m\u001b[2m \u001b[0m│ net.down.10.res.norm1         │ BatchNorm2d       │    512 │\n",
              "│\u001b[2m \u001b[0m\u001b[2m133\u001b[0m\u001b[2m \u001b[0m│ net.down.10.res.norm2         │ BatchNorm2d       │    512 │\n",
              "│\u001b[2m \u001b[0m\u001b[2m134\u001b[0m\u001b[2m \u001b[0m│ net.down.10.res.drop          │ Dropout           │      0 │\n",
              "│\u001b[2m \u001b[0m\u001b[2m135\u001b[0m\u001b[2m \u001b[0m│ net.down.10.attn              │ Identity          │      0 │\n",
              "│\u001b[2m \u001b[0m\u001b[2m136\u001b[0m\u001b[2m \u001b[0m│ net.down.11                   │ DownBlock         │  1.2 M │\n",
              "│\u001b[2m \u001b[0m\u001b[2m137\u001b[0m\u001b[2m \u001b[0m│ net.down.11.res               │ ResidualBlock     │  1.2 M │\n",
              "│\u001b[2m \u001b[0m\u001b[2m138\u001b[0m\u001b[2m \u001b[0m│ net.down.11.res.activation    │ LeakyReLU         │      0 │\n",
              "│\u001b[2m \u001b[0m\u001b[2m139\u001b[0m\u001b[2m \u001b[0m│ net.down.11.res.conv1         │ PeriodicConv2D    │  590 K │\n",
              "│\u001b[2m \u001b[0m\u001b[2m140\u001b[0m\u001b[2m \u001b[0m│ net.down.11.res.conv1.padding │ PeriodicPadding2D │      0 │\n",
              "│\u001b[2m \u001b[0m\u001b[2m141\u001b[0m\u001b[2m \u001b[0m│ net.down.11.res.conv1.conv    │ Conv2d            │  590 K │\n",
              "│\u001b[2m \u001b[0m\u001b[2m142\u001b[0m\u001b[2m \u001b[0m│ net.down.11.res.conv2         │ PeriodicConv2D    │  590 K │\n",
              "│\u001b[2m \u001b[0m\u001b[2m143\u001b[0m\u001b[2m \u001b[0m│ net.down.11.res.conv2.padding │ PeriodicPadding2D │      0 │\n",
              "│\u001b[2m \u001b[0m\u001b[2m144\u001b[0m\u001b[2m \u001b[0m│ net.down.11.res.conv2.conv    │ Conv2d            │  590 K │\n",
              "│\u001b[2m \u001b[0m\u001b[2m145\u001b[0m\u001b[2m \u001b[0m│ net.down.11.res.shortcut      │ Identity          │      0 │\n",
              "│\u001b[2m \u001b[0m\u001b[2m146\u001b[0m\u001b[2m \u001b[0m│ net.down.11.res.norm1         │ BatchNorm2d       │    512 │\n",
              "│\u001b[2m \u001b[0m\u001b[2m147\u001b[0m\u001b[2m \u001b[0m│ net.down.11.res.norm2         │ BatchNorm2d       │    512 │\n",
              "│\u001b[2m \u001b[0m\u001b[2m148\u001b[0m\u001b[2m \u001b[0m│ net.down.11.res.drop          │ Dropout           │      0 │\n",
              "│\u001b[2m \u001b[0m\u001b[2m149\u001b[0m\u001b[2m \u001b[0m│ net.down.11.attn              │ Identity          │      0 │\n",
              "│\u001b[2m \u001b[0m\u001b[2m150\u001b[0m\u001b[2m \u001b[0m│ net.down.12                   │ DownBlock         │  1.2 M │\n",
              "│\u001b[2m \u001b[0m\u001b[2m151\u001b[0m\u001b[2m \u001b[0m│ net.down.12.res               │ ResidualBlock     │  1.2 M │\n",
              "│\u001b[2m \u001b[0m\u001b[2m152\u001b[0m\u001b[2m \u001b[0m│ net.down.12.res.activation    │ LeakyReLU         │      0 │\n",
              "│\u001b[2m \u001b[0m\u001b[2m153\u001b[0m\u001b[2m \u001b[0m│ net.down.12.res.conv1         │ PeriodicConv2D    │  590 K │\n",
              "│\u001b[2m \u001b[0m\u001b[2m154\u001b[0m\u001b[2m \u001b[0m│ net.down.12.res.conv1.padding │ PeriodicPadding2D │      0 │\n",
              "│\u001b[2m \u001b[0m\u001b[2m155\u001b[0m\u001b[2m \u001b[0m│ net.down.12.res.conv1.conv    │ Conv2d            │  590 K │\n",
              "│\u001b[2m \u001b[0m\u001b[2m156\u001b[0m\u001b[2m \u001b[0m│ net.down.12.res.conv2         │ PeriodicConv2D    │  590 K │\n",
              "│\u001b[2m \u001b[0m\u001b[2m157\u001b[0m\u001b[2m \u001b[0m│ net.down.12.res.conv2.padding │ PeriodicPadding2D │      0 │\n",
              "│\u001b[2m \u001b[0m\u001b[2m158\u001b[0m\u001b[2m \u001b[0m│ net.down.12.res.conv2.conv    │ Conv2d            │  590 K │\n",
              "│\u001b[2m \u001b[0m\u001b[2m159\u001b[0m\u001b[2m \u001b[0m│ net.down.12.res.shortcut      │ Identity          │      0 │\n",
              "│\u001b[2m \u001b[0m\u001b[2m160\u001b[0m\u001b[2m \u001b[0m│ net.down.12.res.norm1         │ BatchNorm2d       │    512 │\n",
              "│\u001b[2m \u001b[0m\u001b[2m161\u001b[0m\u001b[2m \u001b[0m│ net.down.12.res.norm2         │ BatchNorm2d       │    512 │\n",
              "│\u001b[2m \u001b[0m\u001b[2m162\u001b[0m\u001b[2m \u001b[0m│ net.down.12.res.drop          │ Dropout           │      0 │\n",
              "│\u001b[2m \u001b[0m\u001b[2m163\u001b[0m\u001b[2m \u001b[0m│ net.down.12.attn              │ Identity          │      0 │\n",
              "│\u001b[2m \u001b[0m\u001b[2m164\u001b[0m\u001b[2m \u001b[0m│ net.down.13                   │ DownBlock         │  1.2 M │\n",
              "│\u001b[2m \u001b[0m\u001b[2m165\u001b[0m\u001b[2m \u001b[0m│ net.down.13.res               │ ResidualBlock     │  1.2 M │\n",
              "│\u001b[2m \u001b[0m\u001b[2m166\u001b[0m\u001b[2m \u001b[0m│ net.down.13.res.activation    │ LeakyReLU         │      0 │\n",
              "│\u001b[2m \u001b[0m\u001b[2m167\u001b[0m\u001b[2m \u001b[0m│ net.down.13.res.conv1         │ PeriodicConv2D    │  590 K │\n",
              "│\u001b[2m \u001b[0m\u001b[2m168\u001b[0m\u001b[2m \u001b[0m│ net.down.13.res.conv1.padding │ PeriodicPadding2D │      0 │\n",
              "│\u001b[2m \u001b[0m\u001b[2m169\u001b[0m\u001b[2m \u001b[0m│ net.down.13.res.conv1.conv    │ Conv2d            │  590 K │\n",
              "│\u001b[2m \u001b[0m\u001b[2m170\u001b[0m\u001b[2m \u001b[0m│ net.down.13.res.conv2         │ PeriodicConv2D    │  590 K │\n",
              "│\u001b[2m \u001b[0m\u001b[2m171\u001b[0m\u001b[2m \u001b[0m│ net.down.13.res.conv2.padding │ PeriodicPadding2D │      0 │\n",
              "│\u001b[2m \u001b[0m\u001b[2m172\u001b[0m\u001b[2m \u001b[0m│ net.down.13.res.conv2.conv    │ Conv2d            │  590 K │\n",
              "│\u001b[2m \u001b[0m\u001b[2m173\u001b[0m\u001b[2m \u001b[0m│ net.down.13.res.shortcut      │ Identity          │      0 │\n",
              "│\u001b[2m \u001b[0m\u001b[2m174\u001b[0m\u001b[2m \u001b[0m│ net.down.13.res.norm1         │ BatchNorm2d       │    512 │\n",
              "│\u001b[2m \u001b[0m\u001b[2m175\u001b[0m\u001b[2m \u001b[0m│ net.down.13.res.norm2         │ BatchNorm2d       │    512 │\n",
              "│\u001b[2m \u001b[0m\u001b[2m176\u001b[0m\u001b[2m \u001b[0m│ net.down.13.res.drop          │ Dropout           │      0 │\n",
              "│\u001b[2m \u001b[0m\u001b[2m177\u001b[0m\u001b[2m \u001b[0m│ net.down.13.attn              │ Identity          │      0 │\n",
              "│\u001b[2m \u001b[0m\u001b[2m178\u001b[0m\u001b[2m \u001b[0m│ net.down.14                   │ Downsample        │  590 K │\n",
              "│\u001b[2m \u001b[0m\u001b[2m179\u001b[0m\u001b[2m \u001b[0m│ net.down.14.conv              │ Conv2d            │  590 K │\n",
              "│\u001b[2m \u001b[0m\u001b[2m180\u001b[0m\u001b[2m \u001b[0m│ net.down.15                   │ DownBlock         │ 12.1 M │\n",
              "│\u001b[2m \u001b[0m\u001b[2m181\u001b[0m\u001b[2m \u001b[0m│ net.down.15.res               │ ResidualBlock     │ 12.1 M │\n",
              "│\u001b[2m \u001b[0m\u001b[2m182\u001b[0m\u001b[2m \u001b[0m│ net.down.15.res.activation    │ LeakyReLU         │      0 │\n",
              "│\u001b[2m \u001b[0m\u001b[2m183\u001b[0m\u001b[2m \u001b[0m│ net.down.15.res.conv1         │ PeriodicConv2D    │  2.4 M │\n",
              "│\u001b[2m \u001b[0m\u001b[2m184\u001b[0m\u001b[2m \u001b[0m│ net.down.15.res.conv1.padding │ PeriodicPadding2D │      0 │\n",
              "│\u001b[2m \u001b[0m\u001b[2m185\u001b[0m\u001b[2m \u001b[0m│ net.down.15.res.conv1.conv    │ Conv2d            │  2.4 M │\n",
              "│\u001b[2m \u001b[0m\u001b[2m186\u001b[0m\u001b[2m \u001b[0m│ net.down.15.res.conv2         │ PeriodicConv2D    │  9.4 M │\n",
              "│\u001b[2m \u001b[0m\u001b[2m187\u001b[0m\u001b[2m \u001b[0m│ net.down.15.res.conv2.padding │ PeriodicPadding2D │      0 │\n",
              "│\u001b[2m \u001b[0m\u001b[2m188\u001b[0m\u001b[2m \u001b[0m│ net.down.15.res.conv2.conv    │ Conv2d            │  9.4 M │\n",
              "│\u001b[2m \u001b[0m\u001b[2m189\u001b[0m\u001b[2m \u001b[0m│ net.down.15.res.shortcut      │ Conv2d            │  263 K │\n",
              "│\u001b[2m \u001b[0m\u001b[2m190\u001b[0m\u001b[2m \u001b[0m│ net.down.15.res.norm1         │ BatchNorm2d       │  2.0 K │\n",
              "│\u001b[2m \u001b[0m\u001b[2m191\u001b[0m\u001b[2m \u001b[0m│ net.down.15.res.norm2         │ BatchNorm2d       │  2.0 K │\n",
              "│\u001b[2m \u001b[0m\u001b[2m192\u001b[0m\u001b[2m \u001b[0m│ net.down.15.res.drop          │ Dropout           │      0 │\n",
              "│\u001b[2m \u001b[0m\u001b[2m193\u001b[0m\u001b[2m \u001b[0m│ net.down.15.attn              │ Identity          │      0 │\n",
              "│\u001b[2m \u001b[0m\u001b[2m194\u001b[0m\u001b[2m \u001b[0m│ net.down.16                   │ DownBlock         │ 18.9 M │\n",
              "│\u001b[2m \u001b[0m\u001b[2m195\u001b[0m\u001b[2m \u001b[0m│ net.down.16.res               │ ResidualBlock     │ 18.9 M │\n",
              "│\u001b[2m \u001b[0m\u001b[2m196\u001b[0m\u001b[2m \u001b[0m│ net.down.16.res.activation    │ LeakyReLU         │      0 │\n",
              "│\u001b[2m \u001b[0m\u001b[2m197\u001b[0m\u001b[2m \u001b[0m│ net.down.16.res.conv1         │ PeriodicConv2D    │  9.4 M │\n",
              "│\u001b[2m \u001b[0m\u001b[2m198\u001b[0m\u001b[2m \u001b[0m│ net.down.16.res.conv1.padding │ PeriodicPadding2D │      0 │\n",
              "│\u001b[2m \u001b[0m\u001b[2m199\u001b[0m\u001b[2m \u001b[0m│ net.down.16.res.conv1.conv    │ Conv2d            │  9.4 M │\n",
              "│\u001b[2m \u001b[0m\u001b[2m200\u001b[0m\u001b[2m \u001b[0m│ net.down.16.res.conv2         │ PeriodicConv2D    │  9.4 M │\n",
              "│\u001b[2m \u001b[0m\u001b[2m201\u001b[0m\u001b[2m \u001b[0m│ net.down.16.res.conv2.padding │ PeriodicPadding2D │      0 │\n",
              "│\u001b[2m \u001b[0m\u001b[2m202\u001b[0m\u001b[2m \u001b[0m│ net.down.16.res.conv2.conv    │ Conv2d            │  9.4 M │\n",
              "│\u001b[2m \u001b[0m\u001b[2m203\u001b[0m\u001b[2m \u001b[0m│ net.down.16.res.shortcut      │ Identity          │      0 │\n",
              "│\u001b[2m \u001b[0m\u001b[2m204\u001b[0m\u001b[2m \u001b[0m│ net.down.16.res.norm1         │ BatchNorm2d       │  2.0 K │\n",
              "│\u001b[2m \u001b[0m\u001b[2m205\u001b[0m\u001b[2m \u001b[0m│ net.down.16.res.norm2         │ BatchNorm2d       │  2.0 K │\n",
              "│\u001b[2m \u001b[0m\u001b[2m206\u001b[0m\u001b[2m \u001b[0m│ net.down.16.res.drop          │ Dropout           │      0 │\n",
              "│\u001b[2m \u001b[0m\u001b[2m207\u001b[0m\u001b[2m \u001b[0m│ net.down.16.attn              │ Identity          │      0 │\n",
              "│\u001b[2m \u001b[0m\u001b[2m208\u001b[0m\u001b[2m \u001b[0m│ net.down.17                   │ DownBlock         │ 18.9 M │\n",
              "│\u001b[2m \u001b[0m\u001b[2m209\u001b[0m\u001b[2m \u001b[0m│ net.down.17.res               │ ResidualBlock     │ 18.9 M │\n",
              "│\u001b[2m \u001b[0m\u001b[2m210\u001b[0m\u001b[2m \u001b[0m│ net.down.17.res.activation    │ LeakyReLU         │      0 │\n",
              "│\u001b[2m \u001b[0m\u001b[2m211\u001b[0m\u001b[2m \u001b[0m│ net.down.17.res.conv1         │ PeriodicConv2D    │  9.4 M │\n",
              "│\u001b[2m \u001b[0m\u001b[2m212\u001b[0m\u001b[2m \u001b[0m│ net.down.17.res.conv1.padding │ PeriodicPadding2D │      0 │\n",
              "│\u001b[2m \u001b[0m\u001b[2m213\u001b[0m\u001b[2m \u001b[0m│ net.down.17.res.conv1.conv    │ Conv2d            │  9.4 M │\n",
              "│\u001b[2m \u001b[0m\u001b[2m214\u001b[0m\u001b[2m \u001b[0m│ net.down.17.res.conv2         │ PeriodicConv2D    │  9.4 M │\n",
              "│\u001b[2m \u001b[0m\u001b[2m215\u001b[0m\u001b[2m \u001b[0m│ net.down.17.res.conv2.padding │ PeriodicPadding2D │      0 │\n",
              "│\u001b[2m \u001b[0m\u001b[2m216\u001b[0m\u001b[2m \u001b[0m│ net.down.17.res.conv2.conv    │ Conv2d            │  9.4 M │\n",
              "│\u001b[2m \u001b[0m\u001b[2m217\u001b[0m\u001b[2m \u001b[0m│ net.down.17.res.shortcut      │ Identity          │      0 │\n",
              "│\u001b[2m \u001b[0m\u001b[2m218\u001b[0m\u001b[2m \u001b[0m│ net.down.17.res.norm1         │ BatchNorm2d       │  2.0 K │\n",
              "│\u001b[2m \u001b[0m\u001b[2m219\u001b[0m\u001b[2m \u001b[0m│ net.down.17.res.norm2         │ BatchNorm2d       │  2.0 K │\n",
              "│\u001b[2m \u001b[0m\u001b[2m220\u001b[0m\u001b[2m \u001b[0m│ net.down.17.res.drop          │ Dropout           │      0 │\n",
              "│\u001b[2m \u001b[0m\u001b[2m221\u001b[0m\u001b[2m \u001b[0m│ net.down.17.attn              │ Identity          │      0 │\n",
              "│\u001b[2m \u001b[0m\u001b[2m222\u001b[0m\u001b[2m \u001b[0m│ net.down.18                   │ DownBlock         │ 18.9 M │\n",
              "│\u001b[2m \u001b[0m\u001b[2m223\u001b[0m\u001b[2m \u001b[0m│ net.down.18.res               │ ResidualBlock     │ 18.9 M │\n",
              "│\u001b[2m \u001b[0m\u001b[2m224\u001b[0m\u001b[2m \u001b[0m│ net.down.18.res.activation    │ LeakyReLU         │      0 │\n",
              "│\u001b[2m \u001b[0m\u001b[2m225\u001b[0m\u001b[2m \u001b[0m│ net.down.18.res.conv1         │ PeriodicConv2D    │  9.4 M │\n",
              "│\u001b[2m \u001b[0m\u001b[2m226\u001b[0m\u001b[2m \u001b[0m│ net.down.18.res.conv1.padding │ PeriodicPadding2D │      0 │\n",
              "│\u001b[2m \u001b[0m\u001b[2m227\u001b[0m\u001b[2m \u001b[0m│ net.down.18.res.conv1.conv    │ Conv2d            │  9.4 M │\n",
              "│\u001b[2m \u001b[0m\u001b[2m228\u001b[0m\u001b[2m \u001b[0m│ net.down.18.res.conv2         │ PeriodicConv2D    │  9.4 M │\n",
              "│\u001b[2m \u001b[0m\u001b[2m229\u001b[0m\u001b[2m \u001b[0m│ net.down.18.res.conv2.padding │ PeriodicPadding2D │      0 │\n",
              "│\u001b[2m \u001b[0m\u001b[2m230\u001b[0m\u001b[2m \u001b[0m│ net.down.18.res.conv2.conv    │ Conv2d            │  9.4 M │\n",
              "│\u001b[2m \u001b[0m\u001b[2m231\u001b[0m\u001b[2m \u001b[0m│ net.down.18.res.shortcut      │ Identity          │      0 │\n",
              "│\u001b[2m \u001b[0m\u001b[2m232\u001b[0m\u001b[2m \u001b[0m│ net.down.18.res.norm1         │ BatchNorm2d       │  2.0 K │\n",
              "│\u001b[2m \u001b[0m\u001b[2m233\u001b[0m\u001b[2m \u001b[0m│ net.down.18.res.norm2         │ BatchNorm2d       │  2.0 K │\n",
              "│\u001b[2m \u001b[0m\u001b[2m234\u001b[0m\u001b[2m \u001b[0m│ net.down.18.res.drop          │ Dropout           │      0 │\n",
              "│\u001b[2m \u001b[0m\u001b[2m235\u001b[0m\u001b[2m \u001b[0m│ net.down.18.attn              │ Identity          │      0 │\n",
              "│\u001b[2m \u001b[0m\u001b[2m236\u001b[0m\u001b[2m \u001b[0m│ net.middle                    │ MiddleBlock       │ 37.8 M │\n",
              "│\u001b[2m \u001b[0m\u001b[2m237\u001b[0m\u001b[2m \u001b[0m│ net.middle.res1               │ ResidualBlock     │ 18.9 M │\n",
              "│\u001b[2m \u001b[0m\u001b[2m238\u001b[0m\u001b[2m \u001b[0m│ net.middle.res1.activation    │ LeakyReLU         │      0 │\n",
              "│\u001b[2m \u001b[0m\u001b[2m239\u001b[0m\u001b[2m \u001b[0m│ net.middle.res1.conv1         │ PeriodicConv2D    │  9.4 M │\n",
              "│\u001b[2m \u001b[0m\u001b[2m240\u001b[0m\u001b[2m \u001b[0m│ net.middle.res1.conv1.padding │ PeriodicPadding2D │      0 │\n",
              "│\u001b[2m \u001b[0m\u001b[2m241\u001b[0m\u001b[2m \u001b[0m│ net.middle.res1.conv1.conv    │ Conv2d            │  9.4 M │\n",
              "│\u001b[2m \u001b[0m\u001b[2m242\u001b[0m\u001b[2m \u001b[0m│ net.middle.res1.conv2         │ PeriodicConv2D    │  9.4 M │\n",
              "│\u001b[2m \u001b[0m\u001b[2m243\u001b[0m\u001b[2m \u001b[0m│ net.middle.res1.conv2.padding │ PeriodicPadding2D │      0 │\n",
              "│\u001b[2m \u001b[0m\u001b[2m244\u001b[0m\u001b[2m \u001b[0m│ net.middle.res1.conv2.conv    │ Conv2d            │  9.4 M │\n",
              "│\u001b[2m \u001b[0m\u001b[2m245\u001b[0m\u001b[2m \u001b[0m│ net.middle.res1.shortcut      │ Identity          │      0 │\n",
              "│\u001b[2m \u001b[0m\u001b[2m246\u001b[0m\u001b[2m \u001b[0m│ net.middle.res1.norm1         │ BatchNorm2d       │  2.0 K │\n",
              "│\u001b[2m \u001b[0m\u001b[2m247\u001b[0m\u001b[2m \u001b[0m│ net.middle.res1.norm2         │ BatchNorm2d       │  2.0 K │\n",
              "│\u001b[2m \u001b[0m\u001b[2m248\u001b[0m\u001b[2m \u001b[0m│ net.middle.res1.drop          │ Dropout           │      0 │\n",
              "│\u001b[2m \u001b[0m\u001b[2m249\u001b[0m\u001b[2m \u001b[0m│ net.middle.attn               │ Identity          │      0 │\n",
              "│\u001b[2m \u001b[0m\u001b[2m250\u001b[0m\u001b[2m \u001b[0m│ net.middle.res2               │ ResidualBlock     │ 18.9 M │\n",
              "│\u001b[2m \u001b[0m\u001b[2m251\u001b[0m\u001b[2m \u001b[0m│ net.middle.res2.activation    │ LeakyReLU         │      0 │\n",
              "│\u001b[2m \u001b[0m\u001b[2m252\u001b[0m\u001b[2m \u001b[0m│ net.middle.res2.conv1         │ PeriodicConv2D    │  9.4 M │\n",
              "│\u001b[2m \u001b[0m\u001b[2m253\u001b[0m\u001b[2m \u001b[0m│ net.middle.res2.conv1.padding │ PeriodicPadding2D │      0 │\n",
              "│\u001b[2m \u001b[0m\u001b[2m254\u001b[0m\u001b[2m \u001b[0m│ net.middle.res2.conv1.conv    │ Conv2d            │  9.4 M │\n",
              "│\u001b[2m \u001b[0m\u001b[2m255\u001b[0m\u001b[2m \u001b[0m│ net.middle.res2.conv2         │ PeriodicConv2D    │  9.4 M │\n",
              "│\u001b[2m \u001b[0m\u001b[2m256\u001b[0m\u001b[2m \u001b[0m│ net.middle.res2.conv2.padding │ PeriodicPadding2D │      0 │\n",
              "│\u001b[2m \u001b[0m\u001b[2m257\u001b[0m\u001b[2m \u001b[0m│ net.middle.res2.conv2.conv    │ Conv2d            │  9.4 M │\n",
              "│\u001b[2m \u001b[0m\u001b[2m258\u001b[0m\u001b[2m \u001b[0m│ net.middle.res2.shortcut      │ Identity          │      0 │\n",
              "│\u001b[2m \u001b[0m\u001b[2m259\u001b[0m\u001b[2m \u001b[0m│ net.middle.res2.norm1         │ BatchNorm2d       │  2.0 K │\n",
              "│\u001b[2m \u001b[0m\u001b[2m260\u001b[0m\u001b[2m \u001b[0m│ net.middle.res2.norm2         │ BatchNorm2d       │  2.0 K │\n",
              "│\u001b[2m \u001b[0m\u001b[2m261\u001b[0m\u001b[2m \u001b[0m│ net.middle.res2.drop          │ Dropout           │      0 │\n",
              "│\u001b[2m \u001b[0m\u001b[2m262\u001b[0m\u001b[2m \u001b[0m│ net.up                        │ ModuleList        │  137 M │\n",
              "│\u001b[2m \u001b[0m\u001b[2m263\u001b[0m\u001b[2m \u001b[0m│ net.up.0                      │ UpBlock           │ 30.4 M │\n",
              "│\u001b[2m \u001b[0m\u001b[2m264\u001b[0m\u001b[2m \u001b[0m│ net.up.0.res                  │ ResidualBlock     │ 30.4 M │\n",
              "│\u001b[2m \u001b[0m\u001b[2m265\u001b[0m\u001b[2m \u001b[0m│ net.up.0.res.activation       │ LeakyReLU         │      0 │\n",
              "│\u001b[2m \u001b[0m\u001b[2m266\u001b[0m\u001b[2m \u001b[0m│ net.up.0.res.conv1            │ PeriodicConv2D    │ 18.9 M │\n",
              "│\u001b[2m \u001b[0m\u001b[2m267\u001b[0m\u001b[2m \u001b[0m│ net.up.0.res.conv1.padding    │ PeriodicPadding2D │      0 │\n",
              "│\u001b[2m \u001b[0m\u001b[2m268\u001b[0m\u001b[2m \u001b[0m│ net.up.0.res.conv1.conv       │ Conv2d            │ 18.9 M │\n",
              "│\u001b[2m \u001b[0m\u001b[2m269\u001b[0m\u001b[2m \u001b[0m│ net.up.0.res.conv2            │ PeriodicConv2D    │  9.4 M │\n",
              "│\u001b[2m \u001b[0m\u001b[2m270\u001b[0m\u001b[2m \u001b[0m│ net.up.0.res.conv2.padding    │ PeriodicPadding2D │      0 │\n",
              "│\u001b[2m \u001b[0m\u001b[2m271\u001b[0m\u001b[2m \u001b[0m│ net.up.0.res.conv2.conv       │ Conv2d            │  9.4 M │\n",
              "│\u001b[2m \u001b[0m\u001b[2m272\u001b[0m\u001b[2m \u001b[0m│ net.up.0.res.shortcut         │ Conv2d            │  2.1 M │\n",
              "│\u001b[2m \u001b[0m\u001b[2m273\u001b[0m\u001b[2m \u001b[0m│ net.up.0.res.norm1            │ BatchNorm2d       │  2.0 K │\n",
              "│\u001b[2m \u001b[0m\u001b[2m274\u001b[0m\u001b[2m \u001b[0m│ net.up.0.res.norm2            │ BatchNorm2d       │  2.0 K │\n",
              "│\u001b[2m \u001b[0m\u001b[2m275\u001b[0m\u001b[2m \u001b[0m│ net.up.0.res.drop             │ Dropout           │      0 │\n",
              "│\u001b[2m \u001b[0m\u001b[2m276\u001b[0m\u001b[2m \u001b[0m│ net.up.0.attn                 │ Identity          │      0 │\n",
              "│\u001b[2m \u001b[0m\u001b[2m277\u001b[0m\u001b[2m \u001b[0m│ net.up.1                      │ UpBlock           │ 30.4 M │\n",
              "│\u001b[2m \u001b[0m\u001b[2m278\u001b[0m\u001b[2m \u001b[0m│ net.up.1.res                  │ ResidualBlock     │ 30.4 M │\n",
              "│\u001b[2m \u001b[0m\u001b[2m279\u001b[0m\u001b[2m \u001b[0m│ net.up.1.res.activation       │ LeakyReLU         │      0 │\n",
              "│\u001b[2m \u001b[0m\u001b[2m280\u001b[0m\u001b[2m \u001b[0m│ net.up.1.res.conv1            │ PeriodicConv2D    │ 18.9 M │\n",
              "│\u001b[2m \u001b[0m\u001b[2m281\u001b[0m\u001b[2m \u001b[0m│ net.up.1.res.conv1.padding    │ PeriodicPadding2D │      0 │\n",
              "│\u001b[2m \u001b[0m\u001b[2m282\u001b[0m\u001b[2m \u001b[0m│ net.up.1.res.conv1.conv       │ Conv2d            │ 18.9 M │\n",
              "│\u001b[2m \u001b[0m\u001b[2m283\u001b[0m\u001b[2m \u001b[0m│ net.up.1.res.conv2            │ PeriodicConv2D    │  9.4 M │\n",
              "│\u001b[2m \u001b[0m\u001b[2m284\u001b[0m\u001b[2m \u001b[0m│ net.up.1.res.conv2.padding    │ PeriodicPadding2D │      0 │\n",
              "│\u001b[2m \u001b[0m\u001b[2m285\u001b[0m\u001b[2m \u001b[0m│ net.up.1.res.conv2.conv       │ Conv2d            │  9.4 M │\n",
              "│\u001b[2m \u001b[0m\u001b[2m286\u001b[0m\u001b[2m \u001b[0m│ net.up.1.res.shortcut         │ Conv2d            │  2.1 M │\n",
              "│\u001b[2m \u001b[0m\u001b[2m287\u001b[0m\u001b[2m \u001b[0m│ net.up.1.res.norm1            │ BatchNorm2d       │  2.0 K │\n",
              "│\u001b[2m \u001b[0m\u001b[2m288\u001b[0m\u001b[2m \u001b[0m│ net.up.1.res.norm2            │ BatchNorm2d       │  2.0 K │\n",
              "│\u001b[2m \u001b[0m\u001b[2m289\u001b[0m\u001b[2m \u001b[0m│ net.up.1.res.drop             │ Dropout           │      0 │\n",
              "│\u001b[2m \u001b[0m\u001b[2m290\u001b[0m\u001b[2m \u001b[0m│ net.up.1.attn                 │ Identity          │      0 │\n",
              "│\u001b[2m \u001b[0m\u001b[2m291\u001b[0m\u001b[2m \u001b[0m│ net.up.2                      │ UpBlock           │ 30.4 M │\n",
              "│\u001b[2m \u001b[0m\u001b[2m292\u001b[0m\u001b[2m \u001b[0m│ net.up.2.res                  │ ResidualBlock     │ 30.4 M │\n",
              "│\u001b[2m \u001b[0m\u001b[2m293\u001b[0m\u001b[2m \u001b[0m│ net.up.2.res.activation       │ LeakyReLU         │      0 │\n",
              "│\u001b[2m \u001b[0m\u001b[2m294\u001b[0m\u001b[2m \u001b[0m│ net.up.2.res.conv1            │ PeriodicConv2D    │ 18.9 M │\n",
              "│\u001b[2m \u001b[0m\u001b[2m295\u001b[0m\u001b[2m \u001b[0m│ net.up.2.res.conv1.padding    │ PeriodicPadding2D │      0 │\n",
              "│\u001b[2m \u001b[0m\u001b[2m296\u001b[0m\u001b[2m \u001b[0m│ net.up.2.res.conv1.conv       │ Conv2d            │ 18.9 M │\n",
              "│\u001b[2m \u001b[0m\u001b[2m297\u001b[0m\u001b[2m \u001b[0m│ net.up.2.res.conv2            │ PeriodicConv2D    │  9.4 M │\n",
              "│\u001b[2m \u001b[0m\u001b[2m298\u001b[0m\u001b[2m \u001b[0m│ net.up.2.res.conv2.padding    │ PeriodicPadding2D │      0 │\n",
              "│\u001b[2m \u001b[0m\u001b[2m299\u001b[0m\u001b[2m \u001b[0m│ net.up.2.res.conv2.conv       │ Conv2d            │  9.4 M │\n",
              "│\u001b[2m \u001b[0m\u001b[2m300\u001b[0m\u001b[2m \u001b[0m│ net.up.2.res.shortcut         │ Conv2d            │  2.1 M │\n",
              "│\u001b[2m \u001b[0m\u001b[2m301\u001b[0m\u001b[2m \u001b[0m│ net.up.2.res.norm1            │ BatchNorm2d       │  2.0 K │\n",
              "│\u001b[2m \u001b[0m\u001b[2m302\u001b[0m\u001b[2m \u001b[0m│ net.up.2.res.norm2            │ BatchNorm2d       │  2.0 K │\n",
              "│\u001b[2m \u001b[0m\u001b[2m303\u001b[0m\u001b[2m \u001b[0m│ net.up.2.res.drop             │ Dropout           │      0 │\n",
              "│\u001b[2m \u001b[0m\u001b[2m304\u001b[0m\u001b[2m \u001b[0m│ net.up.2.attn                 │ Identity          │      0 │\n",
              "│\u001b[2m \u001b[0m\u001b[2m305\u001b[0m\u001b[2m \u001b[0m│ net.up.3                      │ UpBlock           │ 30.4 M │\n",
              "│\u001b[2m \u001b[0m\u001b[2m306\u001b[0m\u001b[2m \u001b[0m│ net.up.3.res                  │ ResidualBlock     │ 30.4 M │\n",
              "│\u001b[2m \u001b[0m\u001b[2m307\u001b[0m\u001b[2m \u001b[0m│ net.up.3.res.activation       │ LeakyReLU         │      0 │\n",
              "│\u001b[2m \u001b[0m\u001b[2m308\u001b[0m\u001b[2m \u001b[0m│ net.up.3.res.conv1            │ PeriodicConv2D    │ 18.9 M │\n",
              "│\u001b[2m \u001b[0m\u001b[2m309\u001b[0m\u001b[2m \u001b[0m│ net.up.3.res.conv1.padding    │ PeriodicPadding2D │      0 │\n",
              "│\u001b[2m \u001b[0m\u001b[2m310\u001b[0m\u001b[2m \u001b[0m│ net.up.3.res.conv1.conv       │ Conv2d            │ 18.9 M │\n",
              "│\u001b[2m \u001b[0m\u001b[2m311\u001b[0m\u001b[2m \u001b[0m│ net.up.3.res.conv2            │ PeriodicConv2D    │  9.4 M │\n",
              "│\u001b[2m \u001b[0m\u001b[2m312\u001b[0m\u001b[2m \u001b[0m│ net.up.3.res.conv2.padding    │ PeriodicPadding2D │      0 │\n",
              "│\u001b[2m \u001b[0m\u001b[2m313\u001b[0m\u001b[2m \u001b[0m│ net.up.3.res.conv2.conv       │ Conv2d            │  9.4 M │\n",
              "│\u001b[2m \u001b[0m\u001b[2m314\u001b[0m\u001b[2m \u001b[0m│ net.up.3.res.shortcut         │ Conv2d            │  2.1 M │\n",
              "│\u001b[2m \u001b[0m\u001b[2m315\u001b[0m\u001b[2m \u001b[0m│ net.up.3.res.norm1            │ BatchNorm2d       │  2.0 K │\n",
              "│\u001b[2m \u001b[0m\u001b[2m316\u001b[0m\u001b[2m \u001b[0m│ net.up.3.res.norm2            │ BatchNorm2d       │  2.0 K │\n",
              "│\u001b[2m \u001b[0m\u001b[2m317\u001b[0m\u001b[2m \u001b[0m│ net.up.3.res.drop             │ Dropout           │      0 │\n",
              "│\u001b[2m \u001b[0m\u001b[2m318\u001b[0m\u001b[2m \u001b[0m│ net.up.3.attn                 │ Identity          │      0 │\n",
              "│\u001b[2m \u001b[0m\u001b[2m319\u001b[0m\u001b[2m \u001b[0m│ net.up.4                      │ UpBlock           │  3.9 M │\n",
              "│\u001b[2m \u001b[0m\u001b[2m320\u001b[0m\u001b[2m \u001b[0m│ net.up.4.res                  │ ResidualBlock     │  3.9 M │\n",
              "│\u001b[2m \u001b[0m\u001b[2m321\u001b[0m\u001b[2m \u001b[0m│ net.up.4.res.activation       │ LeakyReLU         │      0 │\n",
              "│\u001b[2m \u001b[0m\u001b[2m322\u001b[0m\u001b[2m \u001b[0m│ net.up.4.res.conv1            │ PeriodicConv2D    │  2.9 M │\n",
              "│\u001b[2m \u001b[0m\u001b[2m323\u001b[0m\u001b[2m \u001b[0m│ net.up.4.res.conv1.padding    │ PeriodicPadding2D │      0 │\n",
              "│\u001b[2m \u001b[0m\u001b[2m324\u001b[0m\u001b[2m \u001b[0m│ net.up.4.res.conv1.conv       │ Conv2d            │  2.9 M │\n",
              "│\u001b[2m \u001b[0m\u001b[2m325\u001b[0m\u001b[2m \u001b[0m│ net.up.4.res.conv2            │ PeriodicConv2D    │  590 K │\n",
              "│\u001b[2m \u001b[0m\u001b[2m326\u001b[0m\u001b[2m \u001b[0m│ net.up.4.res.conv2.padding    │ PeriodicPadding2D │      0 │\n",
              "│\u001b[2m \u001b[0m\u001b[2m327\u001b[0m\u001b[2m \u001b[0m│ net.up.4.res.conv2.conv       │ Conv2d            │  590 K │\n",
              "│\u001b[2m \u001b[0m\u001b[2m328\u001b[0m\u001b[2m \u001b[0m│ net.up.4.res.shortcut         │ Conv2d            │  327 K │\n",
              "│\u001b[2m \u001b[0m\u001b[2m329\u001b[0m\u001b[2m \u001b[0m│ net.up.4.res.norm1            │ BatchNorm2d       │    512 │\n",
              "│\u001b[2m \u001b[0m\u001b[2m330\u001b[0m\u001b[2m \u001b[0m│ net.up.4.res.norm2            │ BatchNorm2d       │    512 │\n",
              "│\u001b[2m \u001b[0m\u001b[2m331\u001b[0m\u001b[2m \u001b[0m│ net.up.4.res.drop             │ Dropout           │      0 │\n",
              "│\u001b[2m \u001b[0m\u001b[2m332\u001b[0m\u001b[2m \u001b[0m│ net.up.4.attn                 │ Identity          │      0 │\n",
              "│\u001b[2m \u001b[0m\u001b[2m333\u001b[0m\u001b[2m \u001b[0m│ net.up.5                      │ Upsample          │  1.0 M │\n",
              "│\u001b[2m \u001b[0m\u001b[2m334\u001b[0m\u001b[2m \u001b[0m│ net.up.5.conv                 │ ConvTranspose2d   │  1.0 M │\n",
              "│\u001b[2m \u001b[0m\u001b[2m335\u001b[0m\u001b[2m \u001b[0m│ net.up.6                      │ UpBlock           │  1.9 M │\n",
              "│\u001b[2m \u001b[0m\u001b[2m336\u001b[0m\u001b[2m \u001b[0m│ net.up.6.res                  │ ResidualBlock     │  1.9 M │\n",
              "│\u001b[2m \u001b[0m\u001b[2m337\u001b[0m\u001b[2m \u001b[0m│ net.up.6.res.activation       │ LeakyReLU         │      0 │\n",
              "│\u001b[2m \u001b[0m\u001b[2m338\u001b[0m\u001b[2m \u001b[0m│ net.up.6.res.conv1            │ PeriodicConv2D    │  1.2 M │\n",
              "│\u001b[2m \u001b[0m\u001b[2m339\u001b[0m\u001b[2m \u001b[0m│ net.up.6.res.conv1.padding    │ PeriodicPadding2D │      0 │\n",
              "│\u001b[2m \u001b[0m\u001b[2m340\u001b[0m\u001b[2m \u001b[0m│ net.up.6.res.conv1.conv       │ Conv2d            │  1.2 M │\n",
              "│\u001b[2m \u001b[0m\u001b[2m341\u001b[0m\u001b[2m \u001b[0m│ net.up.6.res.conv2            │ PeriodicConv2D    │  590 K │\n",
              "│\u001b[2m \u001b[0m\u001b[2m342\u001b[0m\u001b[2m \u001b[0m│ net.up.6.res.conv2.padding    │ PeriodicPadding2D │      0 │\n",
              "│\u001b[2m \u001b[0m\u001b[2m343\u001b[0m\u001b[2m \u001b[0m│ net.up.6.res.conv2.conv       │ Conv2d            │  590 K │\n",
              "│\u001b[2m \u001b[0m\u001b[2m344\u001b[0m\u001b[2m \u001b[0m│ net.up.6.res.shortcut         │ Conv2d            │  131 K │\n",
              "│\u001b[2m \u001b[0m\u001b[2m345\u001b[0m\u001b[2m \u001b[0m│ net.up.6.res.norm1            │ BatchNorm2d       │    512 │\n",
              "│\u001b[2m \u001b[0m\u001b[2m346\u001b[0m\u001b[2m \u001b[0m│ net.up.6.res.norm2            │ BatchNorm2d       │    512 │\n",
              "│\u001b[2m \u001b[0m\u001b[2m347\u001b[0m\u001b[2m \u001b[0m│ net.up.6.res.drop             │ Dropout           │      0 │\n",
              "│\u001b[2m \u001b[0m\u001b[2m348\u001b[0m\u001b[2m \u001b[0m│ net.up.6.attn                 │ Identity          │      0 │\n",
              "│\u001b[2m \u001b[0m\u001b[2m349\u001b[0m\u001b[2m \u001b[0m│ net.up.7                      │ UpBlock           │  1.9 M │\n",
              "│\u001b[2m \u001b[0m\u001b[2m350\u001b[0m\u001b[2m \u001b[0m│ net.up.7.res                  │ ResidualBlock     │  1.9 M │\n",
              "│\u001b[2m \u001b[0m\u001b[2m351\u001b[0m\u001b[2m \u001b[0m│ net.up.7.res.activation       │ LeakyReLU         │      0 │\n",
              "│\u001b[2m \u001b[0m\u001b[2m352\u001b[0m\u001b[2m \u001b[0m│ net.up.7.res.conv1            │ PeriodicConv2D    │  1.2 M │\n",
              "│\u001b[2m \u001b[0m\u001b[2m353\u001b[0m\u001b[2m \u001b[0m│ net.up.7.res.conv1.padding    │ PeriodicPadding2D │      0 │\n",
              "│\u001b[2m \u001b[0m\u001b[2m354\u001b[0m\u001b[2m \u001b[0m│ net.up.7.res.conv1.conv       │ Conv2d            │  1.2 M │\n",
              "│\u001b[2m \u001b[0m\u001b[2m355\u001b[0m\u001b[2m \u001b[0m│ net.up.7.res.conv2            │ PeriodicConv2D    │  590 K │\n",
              "│\u001b[2m \u001b[0m\u001b[2m356\u001b[0m\u001b[2m \u001b[0m│ net.up.7.res.conv2.padding    │ PeriodicPadding2D │      0 │\n",
              "│\u001b[2m \u001b[0m\u001b[2m357\u001b[0m\u001b[2m \u001b[0m│ net.up.7.res.conv2.conv       │ Conv2d            │  590 K │\n",
              "│\u001b[2m \u001b[0m\u001b[2m358\u001b[0m\u001b[2m \u001b[0m│ net.up.7.res.shortcut         │ Conv2d            │  131 K │\n",
              "│\u001b[2m \u001b[0m\u001b[2m359\u001b[0m\u001b[2m \u001b[0m│ net.up.7.res.norm1            │ BatchNorm2d       │    512 │\n",
              "│\u001b[2m \u001b[0m\u001b[2m360\u001b[0m\u001b[2m \u001b[0m│ net.up.7.res.norm2            │ BatchNorm2d       │    512 │\n",
              "│\u001b[2m \u001b[0m\u001b[2m361\u001b[0m\u001b[2m \u001b[0m│ net.up.7.res.drop             │ Dropout           │      0 │\n",
              "│\u001b[2m \u001b[0m\u001b[2m362\u001b[0m\u001b[2m \u001b[0m│ net.up.7.attn                 │ Identity          │      0 │\n",
              "│\u001b[2m \u001b[0m\u001b[2m363\u001b[0m\u001b[2m \u001b[0m│ net.up.8                      │ UpBlock           │  1.9 M │\n",
              "│\u001b[2m \u001b[0m\u001b[2m364\u001b[0m\u001b[2m \u001b[0m│ net.up.8.res                  │ ResidualBlock     │  1.9 M │\n",
              "│\u001b[2m \u001b[0m\u001b[2m365\u001b[0m\u001b[2m \u001b[0m│ net.up.8.res.activation       │ LeakyReLU         │      0 │\n",
              "│\u001b[2m \u001b[0m\u001b[2m366\u001b[0m\u001b[2m \u001b[0m│ net.up.8.res.conv1            │ PeriodicConv2D    │  1.2 M │\n",
              "│\u001b[2m \u001b[0m\u001b[2m367\u001b[0m\u001b[2m \u001b[0m│ net.up.8.res.conv1.padding    │ PeriodicPadding2D │      0 │\n",
              "│\u001b[2m \u001b[0m\u001b[2m368\u001b[0m\u001b[2m \u001b[0m│ net.up.8.res.conv1.conv       │ Conv2d            │  1.2 M │\n",
              "│\u001b[2m \u001b[0m\u001b[2m369\u001b[0m\u001b[2m \u001b[0m│ net.up.8.res.conv2            │ PeriodicConv2D    │  590 K │\n",
              "│\u001b[2m \u001b[0m\u001b[2m370\u001b[0m\u001b[2m \u001b[0m│ net.up.8.res.conv2.padding    │ PeriodicPadding2D │      0 │\n",
              "│\u001b[2m \u001b[0m\u001b[2m371\u001b[0m\u001b[2m \u001b[0m│ net.up.8.res.conv2.conv       │ Conv2d            │  590 K │\n",
              "│\u001b[2m \u001b[0m\u001b[2m372\u001b[0m\u001b[2m \u001b[0m│ net.up.8.res.shortcut         │ Conv2d            │  131 K │\n",
              "│\u001b[2m \u001b[0m\u001b[2m373\u001b[0m\u001b[2m \u001b[0m│ net.up.8.res.norm1            │ BatchNorm2d       │    512 │\n",
              "│\u001b[2m \u001b[0m\u001b[2m374\u001b[0m\u001b[2m \u001b[0m│ net.up.8.res.norm2            │ BatchNorm2d       │    512 │\n",
              "│\u001b[2m \u001b[0m\u001b[2m375\u001b[0m\u001b[2m \u001b[0m│ net.up.8.res.drop             │ Dropout           │      0 │\n",
              "│\u001b[2m \u001b[0m\u001b[2m376\u001b[0m\u001b[2m \u001b[0m│ net.up.8.attn                 │ Identity          │      0 │\n",
              "│\u001b[2m \u001b[0m\u001b[2m377\u001b[0m\u001b[2m \u001b[0m│ net.up.9                      │ UpBlock           │  1.9 M │\n",
              "│\u001b[2m \u001b[0m\u001b[2m378\u001b[0m\u001b[2m \u001b[0m│ net.up.9.res                  │ ResidualBlock     │  1.9 M │\n",
              "│\u001b[2m \u001b[0m\u001b[2m379\u001b[0m\u001b[2m \u001b[0m│ net.up.9.res.activation       │ LeakyReLU         │      0 │\n",
              "│\u001b[2m \u001b[0m\u001b[2m380\u001b[0m\u001b[2m \u001b[0m│ net.up.9.res.conv1            │ PeriodicConv2D    │  1.2 M │\n",
              "│\u001b[2m \u001b[0m\u001b[2m381\u001b[0m\u001b[2m \u001b[0m│ net.up.9.res.conv1.padding    │ PeriodicPadding2D │      0 │\n",
              "│\u001b[2m \u001b[0m\u001b[2m382\u001b[0m\u001b[2m \u001b[0m│ net.up.9.res.conv1.conv       │ Conv2d            │  1.2 M │\n",
              "│\u001b[2m \u001b[0m\u001b[2m383\u001b[0m\u001b[2m \u001b[0m│ net.up.9.res.conv2            │ PeriodicConv2D    │  590 K │\n",
              "│\u001b[2m \u001b[0m\u001b[2m384\u001b[0m\u001b[2m \u001b[0m│ net.up.9.res.conv2.padding    │ PeriodicPadding2D │      0 │\n",
              "│\u001b[2m \u001b[0m\u001b[2m385\u001b[0m\u001b[2m \u001b[0m│ net.up.9.res.conv2.conv       │ Conv2d            │  590 K │\n",
              "│\u001b[2m \u001b[0m\u001b[2m386\u001b[0m\u001b[2m \u001b[0m│ net.up.9.res.shortcut         │ Conv2d            │  131 K │\n",
              "│\u001b[2m \u001b[0m\u001b[2m387\u001b[0m\u001b[2m \u001b[0m│ net.up.9.res.norm1            │ BatchNorm2d       │    512 │\n",
              "│\u001b[2m \u001b[0m\u001b[2m388\u001b[0m\u001b[2m \u001b[0m│ net.up.9.res.norm2            │ BatchNorm2d       │    512 │\n",
              "│\u001b[2m \u001b[0m\u001b[2m389\u001b[0m\u001b[2m \u001b[0m│ net.up.9.res.drop             │ Dropout           │      0 │\n",
              "│\u001b[2m \u001b[0m\u001b[2m390\u001b[0m\u001b[2m \u001b[0m│ net.up.9.attn                 │ Identity          │      0 │\n",
              "│\u001b[2m \u001b[0m\u001b[2m391\u001b[0m\u001b[2m \u001b[0m│ net.up.10                     │ UpBlock           │  639 K │\n",
              "│\u001b[2m \u001b[0m\u001b[2m392\u001b[0m\u001b[2m \u001b[0m│ net.up.10.res                 │ ResidualBlock     │  639 K │\n",
              "│\u001b[2m \u001b[0m\u001b[2m393\u001b[0m\u001b[2m \u001b[0m│ net.up.10.res.activation      │ LeakyReLU         │      0 │\n",
              "│\u001b[2m \u001b[0m\u001b[2m394\u001b[0m\u001b[2m \u001b[0m│ net.up.10.res.conv1           │ PeriodicConv2D    │  442 K │\n",
              "│\u001b[2m \u001b[0m\u001b[2m395\u001b[0m\u001b[2m \u001b[0m│ net.up.10.res.conv1.padding   │ PeriodicPadding2D │      0 │\n",
              "│\u001b[2m \u001b[0m\u001b[2m396\u001b[0m\u001b[2m \u001b[0m│ net.up.10.res.conv1.conv      │ Conv2d            │  442 K │\n",
              "│\u001b[2m \u001b[0m\u001b[2m397\u001b[0m\u001b[2m \u001b[0m│ net.up.10.res.conv2           │ PeriodicConv2D    │  147 K │\n",
              "│\u001b[2m \u001b[0m\u001b[2m398\u001b[0m\u001b[2m \u001b[0m│ net.up.10.res.conv2.padding   │ PeriodicPadding2D │      0 │\n",
              "│\u001b[2m \u001b[0m\u001b[2m399\u001b[0m\u001b[2m \u001b[0m│ net.up.10.res.conv2.conv      │ Conv2d            │  147 K │\n",
              "│\u001b[2m \u001b[0m\u001b[2m400\u001b[0m\u001b[2m \u001b[0m│ net.up.10.res.shortcut        │ Conv2d            │ 49.3 K │\n",
              "│\u001b[2m \u001b[0m\u001b[2m401\u001b[0m\u001b[2m \u001b[0m│ net.up.10.res.norm1           │ BatchNorm2d       │    256 │\n",
              "│\u001b[2m \u001b[0m\u001b[2m402\u001b[0m\u001b[2m \u001b[0m│ net.up.10.res.norm2           │ BatchNorm2d       │    256 │\n",
              "│\u001b[2m \u001b[0m\u001b[2m403\u001b[0m\u001b[2m \u001b[0m│ net.up.10.res.drop            │ Dropout           │      0 │\n",
              "│\u001b[2m \u001b[0m\u001b[2m404\u001b[0m\u001b[2m \u001b[0m│ net.up.10.attn                │ Identity          │      0 │\n",
              "│\u001b[2m \u001b[0m\u001b[2m405\u001b[0m\u001b[2m \u001b[0m│ net.up.11                     │ Upsample          │  262 K │\n",
              "│\u001b[2m \u001b[0m\u001b[2m406\u001b[0m\u001b[2m \u001b[0m│ net.up.11.conv                │ ConvTranspose2d   │  262 K │\n",
              "│\u001b[2m \u001b[0m\u001b[2m407\u001b[0m\u001b[2m \u001b[0m│ net.up.12                     │ UpBlock           │  476 K │\n",
              "│\u001b[2m \u001b[0m\u001b[2m408\u001b[0m\u001b[2m \u001b[0m│ net.up.12.res                 │ ResidualBlock     │  476 K │\n",
              "│\u001b[2m \u001b[0m\u001b[2m409\u001b[0m\u001b[2m \u001b[0m│ net.up.12.res.activation      │ LeakyReLU         │      0 │\n",
              "│\u001b[2m \u001b[0m\u001b[2m410\u001b[0m\u001b[2m \u001b[0m│ net.up.12.res.conv1           │ PeriodicConv2D    │  295 K │\n",
              "│\u001b[2m \u001b[0m\u001b[2m411\u001b[0m\u001b[2m \u001b[0m│ net.up.12.res.conv1.padding   │ PeriodicPadding2D │      0 │\n",
              "│\u001b[2m \u001b[0m\u001b[2m412\u001b[0m\u001b[2m \u001b[0m│ net.up.12.res.conv1.conv      │ Conv2d            │  295 K │\n",
              "│\u001b[2m \u001b[0m\u001b[2m413\u001b[0m\u001b[2m \u001b[0m│ net.up.12.res.conv2           │ PeriodicConv2D    │  147 K │\n",
              "│\u001b[2m \u001b[0m\u001b[2m414\u001b[0m\u001b[2m \u001b[0m│ net.up.12.res.conv2.padding   │ PeriodicPadding2D │      0 │\n",
              "│\u001b[2m \u001b[0m\u001b[2m415\u001b[0m\u001b[2m \u001b[0m│ net.up.12.res.conv2.conv      │ Conv2d            │  147 K │\n",
              "│\u001b[2m \u001b[0m\u001b[2m416\u001b[0m\u001b[2m \u001b[0m│ net.up.12.res.shortcut        │ Conv2d            │ 32.9 K │\n",
              "│\u001b[2m \u001b[0m\u001b[2m417\u001b[0m\u001b[2m \u001b[0m│ net.up.12.res.norm1           │ BatchNorm2d       │    256 │\n",
              "│\u001b[2m \u001b[0m\u001b[2m418\u001b[0m\u001b[2m \u001b[0m│ net.up.12.res.norm2           │ BatchNorm2d       │    256 │\n",
              "│\u001b[2m \u001b[0m\u001b[2m419\u001b[0m\u001b[2m \u001b[0m│ net.up.12.res.drop            │ Dropout           │      0 │\n",
              "│\u001b[2m \u001b[0m\u001b[2m420\u001b[0m\u001b[2m \u001b[0m│ net.up.12.attn                │ Identity          │      0 │\n",
              "│\u001b[2m \u001b[0m\u001b[2m421\u001b[0m\u001b[2m \u001b[0m│ net.up.13                     │ UpBlock           │  476 K │\n",
              "│\u001b[2m \u001b[0m\u001b[2m422\u001b[0m\u001b[2m \u001b[0m│ net.up.13.res                 │ ResidualBlock     │  476 K │\n",
              "│\u001b[2m \u001b[0m\u001b[2m423\u001b[0m\u001b[2m \u001b[0m│ net.up.13.res.activation      │ LeakyReLU         │      0 │\n",
              "│\u001b[2m \u001b[0m\u001b[2m424\u001b[0m\u001b[2m \u001b[0m│ net.up.13.res.conv1           │ PeriodicConv2D    │  295 K │\n",
              "│\u001b[2m \u001b[0m\u001b[2m425\u001b[0m\u001b[2m \u001b[0m│ net.up.13.res.conv1.padding   │ PeriodicPadding2D │      0 │\n",
              "│\u001b[2m \u001b[0m\u001b[2m426\u001b[0m\u001b[2m \u001b[0m│ net.up.13.res.conv1.conv      │ Conv2d            │  295 K │\n",
              "│\u001b[2m \u001b[0m\u001b[2m427\u001b[0m\u001b[2m \u001b[0m│ net.up.13.res.conv2           │ PeriodicConv2D    │  147 K │\n",
              "│\u001b[2m \u001b[0m\u001b[2m428\u001b[0m\u001b[2m \u001b[0m│ net.up.13.res.conv2.padding   │ PeriodicPadding2D │      0 │\n",
              "│\u001b[2m \u001b[0m\u001b[2m429\u001b[0m\u001b[2m \u001b[0m│ net.up.13.res.conv2.conv      │ Conv2d            │  147 K │\n",
              "│\u001b[2m \u001b[0m\u001b[2m430\u001b[0m\u001b[2m \u001b[0m│ net.up.13.res.shortcut        │ Conv2d            │ 32.9 K │\n",
              "│\u001b[2m \u001b[0m\u001b[2m431\u001b[0m\u001b[2m \u001b[0m│ net.up.13.res.norm1           │ BatchNorm2d       │    256 │\n",
              "│\u001b[2m \u001b[0m\u001b[2m432\u001b[0m\u001b[2m \u001b[0m│ net.up.13.res.norm2           │ BatchNorm2d       │    256 │\n",
              "│\u001b[2m \u001b[0m\u001b[2m433\u001b[0m\u001b[2m \u001b[0m│ net.up.13.res.drop            │ Dropout           │      0 │\n",
              "│\u001b[2m \u001b[0m\u001b[2m434\u001b[0m\u001b[2m \u001b[0m│ net.up.13.attn                │ Identity          │      0 │\n",
              "│\u001b[2m \u001b[0m\u001b[2m435\u001b[0m\u001b[2m \u001b[0m│ net.up.14                     │ UpBlock           │  476 K │\n",
              "│\u001b[2m \u001b[0m\u001b[2m436\u001b[0m\u001b[2m \u001b[0m│ net.up.14.res                 │ ResidualBlock     │  476 K │\n",
              "│\u001b[2m \u001b[0m\u001b[2m437\u001b[0m\u001b[2m \u001b[0m│ net.up.14.res.activation      │ LeakyReLU         │      0 │\n",
              "│\u001b[2m \u001b[0m\u001b[2m438\u001b[0m\u001b[2m \u001b[0m│ net.up.14.res.conv1           │ PeriodicConv2D    │  295 K │\n",
              "│\u001b[2m \u001b[0m\u001b[2m439\u001b[0m\u001b[2m \u001b[0m│ net.up.14.res.conv1.padding   │ PeriodicPadding2D │      0 │\n",
              "│\u001b[2m \u001b[0m\u001b[2m440\u001b[0m\u001b[2m \u001b[0m│ net.up.14.res.conv1.conv      │ Conv2d            │  295 K │\n",
              "│\u001b[2m \u001b[0m\u001b[2m441\u001b[0m\u001b[2m \u001b[0m│ net.up.14.res.conv2           │ PeriodicConv2D    │  147 K │\n",
              "│\u001b[2m \u001b[0m\u001b[2m442\u001b[0m\u001b[2m \u001b[0m│ net.up.14.res.conv2.padding   │ PeriodicPadding2D │      0 │\n",
              "│\u001b[2m \u001b[0m\u001b[2m443\u001b[0m\u001b[2m \u001b[0m│ net.up.14.res.conv2.conv      │ Conv2d            │  147 K │\n",
              "│\u001b[2m \u001b[0m\u001b[2m444\u001b[0m\u001b[2m \u001b[0m│ net.up.14.res.shortcut        │ Conv2d            │ 32.9 K │\n",
              "│\u001b[2m \u001b[0m\u001b[2m445\u001b[0m\u001b[2m \u001b[0m│ net.up.14.res.norm1           │ BatchNorm2d       │    256 │\n",
              "│\u001b[2m \u001b[0m\u001b[2m446\u001b[0m\u001b[2m \u001b[0m│ net.up.14.res.norm2           │ BatchNorm2d       │    256 │\n",
              "│\u001b[2m \u001b[0m\u001b[2m447\u001b[0m\u001b[2m \u001b[0m│ net.up.14.res.drop            │ Dropout           │      0 │\n",
              "│\u001b[2m \u001b[0m\u001b[2m448\u001b[0m\u001b[2m \u001b[0m│ net.up.14.attn                │ Identity          │      0 │\n",
              "│\u001b[2m \u001b[0m\u001b[2m449\u001b[0m\u001b[2m \u001b[0m│ net.up.15                     │ UpBlock           │  476 K │\n",
              "│\u001b[2m \u001b[0m\u001b[2m450\u001b[0m\u001b[2m \u001b[0m│ net.up.15.res                 │ ResidualBlock     │  476 K │\n",
              "│\u001b[2m \u001b[0m\u001b[2m451\u001b[0m\u001b[2m \u001b[0m│ net.up.15.res.activation      │ LeakyReLU         │      0 │\n",
              "│\u001b[2m \u001b[0m\u001b[2m452\u001b[0m\u001b[2m \u001b[0m│ net.up.15.res.conv1           │ PeriodicConv2D    │  295 K │\n",
              "│\u001b[2m \u001b[0m\u001b[2m453\u001b[0m\u001b[2m \u001b[0m│ net.up.15.res.conv1.padding   │ PeriodicPadding2D │      0 │\n",
              "│\u001b[2m \u001b[0m\u001b[2m454\u001b[0m\u001b[2m \u001b[0m│ net.up.15.res.conv1.conv      │ Conv2d            │  295 K │\n",
              "│\u001b[2m \u001b[0m\u001b[2m455\u001b[0m\u001b[2m \u001b[0m│ net.up.15.res.conv2           │ PeriodicConv2D    │  147 K │\n",
              "│\u001b[2m \u001b[0m\u001b[2m456\u001b[0m\u001b[2m \u001b[0m│ net.up.15.res.conv2.padding   │ PeriodicPadding2D │      0 │\n",
              "│\u001b[2m \u001b[0m\u001b[2m457\u001b[0m\u001b[2m \u001b[0m│ net.up.15.res.conv2.conv      │ Conv2d            │  147 K │\n",
              "│\u001b[2m \u001b[0m\u001b[2m458\u001b[0m\u001b[2m \u001b[0m│ net.up.15.res.shortcut        │ Conv2d            │ 32.9 K │\n",
              "│\u001b[2m \u001b[0m\u001b[2m459\u001b[0m\u001b[2m \u001b[0m│ net.up.15.res.norm1           │ BatchNorm2d       │    256 │\n",
              "│\u001b[2m \u001b[0m\u001b[2m460\u001b[0m\u001b[2m \u001b[0m│ net.up.15.res.norm2           │ BatchNorm2d       │    256 │\n",
              "│\u001b[2m \u001b[0m\u001b[2m461\u001b[0m\u001b[2m \u001b[0m│ net.up.15.res.drop            │ Dropout           │      0 │\n",
              "│\u001b[2m \u001b[0m\u001b[2m462\u001b[0m\u001b[2m \u001b[0m│ net.up.15.attn                │ Identity          │      0 │\n",
              "│\u001b[2m \u001b[0m\u001b[2m463\u001b[0m\u001b[2m \u001b[0m│ net.up.16                     │ UpBlock           │  160 K │\n",
              "│\u001b[2m \u001b[0m\u001b[2m464\u001b[0m\u001b[2m \u001b[0m│ net.up.16.res                 │ ResidualBlock     │  160 K │\n",
              "│\u001b[2m \u001b[0m\u001b[2m465\u001b[0m\u001b[2m \u001b[0m│ net.up.16.res.activation      │ LeakyReLU         │      0 │\n",
              "│\u001b[2m \u001b[0m\u001b[2m466\u001b[0m\u001b[2m \u001b[0m│ net.up.16.res.conv1           │ PeriodicConv2D    │  110 K │\n",
              "│\u001b[2m \u001b[0m\u001b[2m467\u001b[0m\u001b[2m \u001b[0m│ net.up.16.res.conv1.padding   │ PeriodicPadding2D │      0 │\n",
              "│\u001b[2m \u001b[0m\u001b[2m468\u001b[0m\u001b[2m \u001b[0m│ net.up.16.res.conv1.conv      │ Conv2d            │  110 K │\n",
              "│\u001b[2m \u001b[0m\u001b[2m469\u001b[0m\u001b[2m \u001b[0m│ net.up.16.res.conv2           │ PeriodicConv2D    │ 36.9 K │\n",
              "│\u001b[2m \u001b[0m\u001b[2m470\u001b[0m\u001b[2m \u001b[0m│ net.up.16.res.conv2.padding   │ PeriodicPadding2D │      0 │\n",
              "│\u001b[2m \u001b[0m\u001b[2m471\u001b[0m\u001b[2m \u001b[0m│ net.up.16.res.conv2.conv      │ Conv2d            │ 36.9 K │\n",
              "│\u001b[2m \u001b[0m\u001b[2m472\u001b[0m\u001b[2m \u001b[0m│ net.up.16.res.shortcut        │ Conv2d            │ 12.4 K │\n",
              "│\u001b[2m \u001b[0m\u001b[2m473\u001b[0m\u001b[2m \u001b[0m│ net.up.16.res.norm1           │ BatchNorm2d       │    128 │\n",
              "│\u001b[2m \u001b[0m\u001b[2m474\u001b[0m\u001b[2m \u001b[0m│ net.up.16.res.norm2           │ BatchNorm2d       │    128 │\n",
              "│\u001b[2m \u001b[0m\u001b[2m475\u001b[0m\u001b[2m \u001b[0m│ net.up.16.res.drop            │ Dropout           │      0 │\n",
              "│\u001b[2m \u001b[0m\u001b[2m476\u001b[0m\u001b[2m \u001b[0m│ net.up.16.attn                │ Identity          │      0 │\n",
              "│\u001b[2m \u001b[0m\u001b[2m477\u001b[0m\u001b[2m \u001b[0m│ net.up.17                     │ Upsample          │ 65.6 K │\n",
              "│\u001b[2m \u001b[0m\u001b[2m478\u001b[0m\u001b[2m \u001b[0m│ net.up.17.conv                │ ConvTranspose2d   │ 65.6 K │\n",
              "│\u001b[2m \u001b[0m\u001b[2m479\u001b[0m\u001b[2m \u001b[0m│ net.up.18                     │ UpBlock           │  119 K │\n",
              "│\u001b[2m \u001b[0m\u001b[2m480\u001b[0m\u001b[2m \u001b[0m│ net.up.18.res                 │ ResidualBlock     │  119 K │\n",
              "│\u001b[2m \u001b[0m\u001b[2m481\u001b[0m\u001b[2m \u001b[0m│ net.up.18.res.activation      │ LeakyReLU         │      0 │\n",
              "│\u001b[2m \u001b[0m\u001b[2m482\u001b[0m\u001b[2m \u001b[0m│ net.up.18.res.conv1           │ PeriodicConv2D    │ 73.8 K │\n",
              "│\u001b[2m \u001b[0m\u001b[2m483\u001b[0m\u001b[2m \u001b[0m│ net.up.18.res.conv1.padding   │ PeriodicPadding2D │      0 │\n",
              "│\u001b[2m \u001b[0m\u001b[2m484\u001b[0m\u001b[2m \u001b[0m│ net.up.18.res.conv1.conv      │ Conv2d            │ 73.8 K │\n",
              "│\u001b[2m \u001b[0m\u001b[2m485\u001b[0m\u001b[2m \u001b[0m│ net.up.18.res.conv2           │ PeriodicConv2D    │ 36.9 K │\n",
              "│\u001b[2m \u001b[0m\u001b[2m486\u001b[0m\u001b[2m \u001b[0m│ net.up.18.res.conv2.padding   │ PeriodicPadding2D │      0 │\n",
              "│\u001b[2m \u001b[0m\u001b[2m487\u001b[0m\u001b[2m \u001b[0m│ net.up.18.res.conv2.conv      │ Conv2d            │ 36.9 K │\n",
              "│\u001b[2m \u001b[0m\u001b[2m488\u001b[0m\u001b[2m \u001b[0m│ net.up.18.res.shortcut        │ Conv2d            │  8.3 K │\n",
              "│\u001b[2m \u001b[0m\u001b[2m489\u001b[0m\u001b[2m \u001b[0m│ net.up.18.res.norm1           │ BatchNorm2d       │    128 │\n",
              "│\u001b[2m \u001b[0m\u001b[2m490\u001b[0m\u001b[2m \u001b[0m│ net.up.18.res.norm2           │ BatchNorm2d       │    128 │\n",
              "│\u001b[2m \u001b[0m\u001b[2m491\u001b[0m\u001b[2m \u001b[0m│ net.up.18.res.drop            │ Dropout           │      0 │\n",
              "│\u001b[2m \u001b[0m\u001b[2m492\u001b[0m\u001b[2m \u001b[0m│ net.up.18.attn                │ Identity          │      0 │\n",
              "│\u001b[2m \u001b[0m\u001b[2m493\u001b[0m\u001b[2m \u001b[0m│ net.up.19                     │ UpBlock           │  119 K │\n",
              "│\u001b[2m \u001b[0m\u001b[2m494\u001b[0m\u001b[2m \u001b[0m│ net.up.19.res                 │ ResidualBlock     │  119 K │\n",
              "│\u001b[2m \u001b[0m\u001b[2m495\u001b[0m\u001b[2m \u001b[0m│ net.up.19.res.activation      │ LeakyReLU         │      0 │\n",
              "│\u001b[2m \u001b[0m\u001b[2m496\u001b[0m\u001b[2m \u001b[0m│ net.up.19.res.conv1           │ PeriodicConv2D    │ 73.8 K │\n",
              "│\u001b[2m \u001b[0m\u001b[2m497\u001b[0m\u001b[2m \u001b[0m│ net.up.19.res.conv1.padding   │ PeriodicPadding2D │      0 │\n",
              "│\u001b[2m \u001b[0m\u001b[2m498\u001b[0m\u001b[2m \u001b[0m│ net.up.19.res.conv1.conv      │ Conv2d            │ 73.8 K │\n",
              "│\u001b[2m \u001b[0m\u001b[2m499\u001b[0m\u001b[2m \u001b[0m│ net.up.19.res.conv2           │ PeriodicConv2D    │ 36.9 K │\n",
              "│\u001b[2m \u001b[0m\u001b[2m500\u001b[0m\u001b[2m \u001b[0m│ net.up.19.res.conv2.padding   │ PeriodicPadding2D │      0 │\n",
              "│\u001b[2m \u001b[0m\u001b[2m501\u001b[0m\u001b[2m \u001b[0m│ net.up.19.res.conv2.conv      │ Conv2d            │ 36.9 K │\n",
              "│\u001b[2m \u001b[0m\u001b[2m502\u001b[0m\u001b[2m \u001b[0m│ net.up.19.res.shortcut        │ Conv2d            │  8.3 K │\n",
              "│\u001b[2m \u001b[0m\u001b[2m503\u001b[0m\u001b[2m \u001b[0m│ net.up.19.res.norm1           │ BatchNorm2d       │    128 │\n",
              "│\u001b[2m \u001b[0m\u001b[2m504\u001b[0m\u001b[2m \u001b[0m│ net.up.19.res.norm2           │ BatchNorm2d       │    128 │\n",
              "│\u001b[2m \u001b[0m\u001b[2m505\u001b[0m\u001b[2m \u001b[0m│ net.up.19.res.drop            │ Dropout           │      0 │\n",
              "│\u001b[2m \u001b[0m\u001b[2m506\u001b[0m\u001b[2m \u001b[0m│ net.up.19.attn                │ Identity          │      0 │\n",
              "│\u001b[2m \u001b[0m\u001b[2m507\u001b[0m\u001b[2m \u001b[0m│ net.up.20                     │ UpBlock           │  119 K │\n",
              "│\u001b[2m \u001b[0m\u001b[2m508\u001b[0m\u001b[2m \u001b[0m│ net.up.20.res                 │ ResidualBlock     │  119 K │\n",
              "│\u001b[2m \u001b[0m\u001b[2m509\u001b[0m\u001b[2m \u001b[0m│ net.up.20.res.activation      │ LeakyReLU         │      0 │\n",
              "│\u001b[2m \u001b[0m\u001b[2m510\u001b[0m\u001b[2m \u001b[0m│ net.up.20.res.conv1           │ PeriodicConv2D    │ 73.8 K │\n",
              "│\u001b[2m \u001b[0m\u001b[2m511\u001b[0m\u001b[2m \u001b[0m│ net.up.20.res.conv1.padding   │ PeriodicPadding2D │      0 │\n",
              "│\u001b[2m \u001b[0m\u001b[2m512\u001b[0m\u001b[2m \u001b[0m│ net.up.20.res.conv1.conv      │ Conv2d            │ 73.8 K │\n",
              "│\u001b[2m \u001b[0m\u001b[2m513\u001b[0m\u001b[2m \u001b[0m│ net.up.20.res.conv2           │ PeriodicConv2D    │ 36.9 K │\n",
              "│\u001b[2m \u001b[0m\u001b[2m514\u001b[0m\u001b[2m \u001b[0m│ net.up.20.res.conv2.padding   │ PeriodicPadding2D │      0 │\n",
              "│\u001b[2m \u001b[0m\u001b[2m515\u001b[0m\u001b[2m \u001b[0m│ net.up.20.res.conv2.conv      │ Conv2d            │ 36.9 K │\n",
              "│\u001b[2m \u001b[0m\u001b[2m516\u001b[0m\u001b[2m \u001b[0m│ net.up.20.res.shortcut        │ Conv2d            │  8.3 K │\n",
              "│\u001b[2m \u001b[0m\u001b[2m517\u001b[0m\u001b[2m \u001b[0m│ net.up.20.res.norm1           │ BatchNorm2d       │    128 │\n",
              "│\u001b[2m \u001b[0m\u001b[2m518\u001b[0m\u001b[2m \u001b[0m│ net.up.20.res.norm2           │ BatchNorm2d       │    128 │\n",
              "│\u001b[2m \u001b[0m\u001b[2m519\u001b[0m\u001b[2m \u001b[0m│ net.up.20.res.drop            │ Dropout           │      0 │\n",
              "│\u001b[2m \u001b[0m\u001b[2m520\u001b[0m\u001b[2m \u001b[0m│ net.up.20.attn                │ Identity          │      0 │\n",
              "│\u001b[2m \u001b[0m\u001b[2m521\u001b[0m\u001b[2m \u001b[0m│ net.up.21                     │ UpBlock           │  119 K │\n",
              "│\u001b[2m \u001b[0m\u001b[2m522\u001b[0m\u001b[2m \u001b[0m│ net.up.21.res                 │ ResidualBlock     │  119 K │\n",
              "│\u001b[2m \u001b[0m\u001b[2m523\u001b[0m\u001b[2m \u001b[0m│ net.up.21.res.activation      │ LeakyReLU         │      0 │\n",
              "│\u001b[2m \u001b[0m\u001b[2m524\u001b[0m\u001b[2m \u001b[0m│ net.up.21.res.conv1           │ PeriodicConv2D    │ 73.8 K │\n",
              "│\u001b[2m \u001b[0m\u001b[2m525\u001b[0m\u001b[2m \u001b[0m│ net.up.21.res.conv1.padding   │ PeriodicPadding2D │      0 │\n",
              "│\u001b[2m \u001b[0m\u001b[2m526\u001b[0m\u001b[2m \u001b[0m│ net.up.21.res.conv1.conv      │ Conv2d            │ 73.8 K │\n",
              "│\u001b[2m \u001b[0m\u001b[2m527\u001b[0m\u001b[2m \u001b[0m│ net.up.21.res.conv2           │ PeriodicConv2D    │ 36.9 K │\n",
              "│\u001b[2m \u001b[0m\u001b[2m528\u001b[0m\u001b[2m \u001b[0m│ net.up.21.res.conv2.padding   │ PeriodicPadding2D │      0 │\n",
              "│\u001b[2m \u001b[0m\u001b[2m529\u001b[0m\u001b[2m \u001b[0m│ net.up.21.res.conv2.conv      │ Conv2d            │ 36.9 K │\n",
              "│\u001b[2m \u001b[0m\u001b[2m530\u001b[0m\u001b[2m \u001b[0m│ net.up.21.res.shortcut        │ Conv2d            │  8.3 K │\n",
              "│\u001b[2m \u001b[0m\u001b[2m531\u001b[0m\u001b[2m \u001b[0m│ net.up.21.res.norm1           │ BatchNorm2d       │    128 │\n",
              "│\u001b[2m \u001b[0m\u001b[2m532\u001b[0m\u001b[2m \u001b[0m│ net.up.21.res.norm2           │ BatchNorm2d       │    128 │\n",
              "│\u001b[2m \u001b[0m\u001b[2m533\u001b[0m\u001b[2m \u001b[0m│ net.up.21.res.drop            │ Dropout           │      0 │\n",
              "│\u001b[2m \u001b[0m\u001b[2m534\u001b[0m\u001b[2m \u001b[0m│ net.up.21.attn                │ Identity          │      0 │\n",
              "│\u001b[2m \u001b[0m\u001b[2m535\u001b[0m\u001b[2m \u001b[0m│ net.up.22                     │ UpBlock           │  119 K │\n",
              "│\u001b[2m \u001b[0m\u001b[2m536\u001b[0m\u001b[2m \u001b[0m│ net.up.22.res                 │ ResidualBlock     │  119 K │\n",
              "│\u001b[2m \u001b[0m\u001b[2m537\u001b[0m\u001b[2m \u001b[0m│ net.up.22.res.activation      │ LeakyReLU         │      0 │\n",
              "│\u001b[2m \u001b[0m\u001b[2m538\u001b[0m\u001b[2m \u001b[0m│ net.up.22.res.conv1           │ PeriodicConv2D    │ 73.8 K │\n",
              "│\u001b[2m \u001b[0m\u001b[2m539\u001b[0m\u001b[2m \u001b[0m│ net.up.22.res.conv1.padding   │ PeriodicPadding2D │      0 │\n",
              "│\u001b[2m \u001b[0m\u001b[2m540\u001b[0m\u001b[2m \u001b[0m│ net.up.22.res.conv1.conv      │ Conv2d            │ 73.8 K │\n",
              "│\u001b[2m \u001b[0m\u001b[2m541\u001b[0m\u001b[2m \u001b[0m│ net.up.22.res.conv2           │ PeriodicConv2D    │ 36.9 K │\n",
              "│\u001b[2m \u001b[0m\u001b[2m542\u001b[0m\u001b[2m \u001b[0m│ net.up.22.res.conv2.padding   │ PeriodicPadding2D │      0 │\n",
              "│\u001b[2m \u001b[0m\u001b[2m543\u001b[0m\u001b[2m \u001b[0m│ net.up.22.res.conv2.conv      │ Conv2d            │ 36.9 K │\n",
              "│\u001b[2m \u001b[0m\u001b[2m544\u001b[0m\u001b[2m \u001b[0m│ net.up.22.res.shortcut        │ Conv2d            │  8.3 K │\n",
              "│\u001b[2m \u001b[0m\u001b[2m545\u001b[0m\u001b[2m \u001b[0m│ net.up.22.res.norm1           │ BatchNorm2d       │    128 │\n",
              "│\u001b[2m \u001b[0m\u001b[2m546\u001b[0m\u001b[2m \u001b[0m│ net.up.22.res.norm2           │ BatchNorm2d       │    128 │\n",
              "│\u001b[2m \u001b[0m\u001b[2m547\u001b[0m\u001b[2m \u001b[0m│ net.up.22.res.drop            │ Dropout           │      0 │\n",
              "│\u001b[2m \u001b[0m\u001b[2m548\u001b[0m\u001b[2m \u001b[0m│ net.up.22.attn                │ Identity          │      0 │\n",
              "│\u001b[2m \u001b[0m\u001b[2m549\u001b[0m\u001b[2m \u001b[0m│ net.norm                      │ BatchNorm2d       │    128 │\n",
              "│\u001b[2m \u001b[0m\u001b[2m550\u001b[0m\u001b[2m \u001b[0m│ net.final                     │ PeriodicConv2D    │  3.1 K │\n",
              "│\u001b[2m \u001b[0m\u001b[2m551\u001b[0m\u001b[2m \u001b[0m│ net.final.padding             │ PeriodicPadding2D │      0 │\n",
              "│\u001b[2m \u001b[0m\u001b[2m552\u001b[0m\u001b[2m \u001b[0m│ net.final.conv                │ Conv2d            │  3.1 K │\n",
              "│\u001b[2m \u001b[0m\u001b[2m553\u001b[0m\u001b[2m \u001b[0m│ denormalization               │ Normalize         │      0 │\n",
              "└─────┴───────────────────────────────┴───────────────────┴────────┘\n"
            ]
          },
          "metadata": {},
          "output_type": "display_data"
        },
        {
          "data": {
            "text/html": [
              "<pre style=\"white-space:pre;overflow-x:auto;line-height:normal;font-family:Menlo,'DejaVu Sans Mono',consolas,'Courier New',monospace\"><span style=\"font-weight: bold\">Trainable params</span>: 250 M                                                                                            \n",
              "<span style=\"font-weight: bold\">Non-trainable params</span>: 0                                                                                            \n",
              "<span style=\"font-weight: bold\">Total params</span>: 250 M                                                                                                \n",
              "<span style=\"font-weight: bold\">Total estimated model params size (MB)</span>: 501                                                                        \n",
              "</pre>\n"
            ],
            "text/plain": [
              "\u001b[1mTrainable params\u001b[0m: 250 M                                                                                            \n",
              "\u001b[1mNon-trainable params\u001b[0m: 0                                                                                            \n",
              "\u001b[1mTotal params\u001b[0m: 250 M                                                                                                \n",
              "\u001b[1mTotal estimated model params size (MB)\u001b[0m: 501                                                                        \n"
            ]
          },
          "metadata": {},
          "output_type": "display_data"
        },
        {
          "data": {
            "application/vnd.jupyter.widget-view+json": {
              "model_id": "9f83dd7662e64ba3a6ba27a387caa6bf",
              "version_major": 2,
              "version_minor": 0
            },
            "text/plain": [
              "Output()"
            ]
          },
          "metadata": {},
          "output_type": "display_data"
        },
        {
          "data": {
            "text/html": [
              "<pre style=\"white-space:pre;overflow-x:auto;line-height:normal;font-family:Menlo,'DejaVu Sans Mono',consolas,'Courier New',monospace\">/usr/local/lib/python3.9/dist-packages/pytorch_lightning/trainer/connectors/data_connector.py:224: \n",
              "PossibleUserWarning: The dataloader, val_dataloader 0, does not have many workers which may be a bottleneck. \n",
              "Consider increasing the value of the `num_workers` argument` (try 4 which is the number of cpus on this machine) in\n",
              "the `DataLoader` init to improve performance.\n",
              "  rank_zero_warn(\n",
              "</pre>\n"
            ],
            "text/plain": [
              "/usr/local/lib/python3.9/dist-packages/pytorch_lightning/trainer/connectors/data_connector.py:224: \n",
              "PossibleUserWarning: The dataloader, val_dataloader 0, does not have many workers which may be a bottleneck. \n",
              "Consider increasing the value of the `num_workers` argument` (try 4 which is the number of cpus on this machine) in\n",
              "the `DataLoader` init to improve performance.\n",
              "  rank_zero_warn(\n"
            ]
          },
          "metadata": {},
          "output_type": "display_data"
        },
        {
          "data": {
            "text/html": [
              "<pre style=\"white-space:pre;overflow-x:auto;line-height:normal;font-family:Menlo,'DejaVu Sans Mono',consolas,'Courier New',monospace\">/usr/local/lib/python3.9/dist-packages/pytorch_lightning/trainer/connectors/data_connector.py:224: \n",
              "PossibleUserWarning: The dataloader, train_dataloader, does not have many workers which may be a bottleneck. \n",
              "Consider increasing the value of the `num_workers` argument` (try 4 which is the number of cpus on this machine) in\n",
              "the `DataLoader` init to improve performance.\n",
              "  rank_zero_warn(\n",
              "</pre>\n"
            ],
            "text/plain": [
              "/usr/local/lib/python3.9/dist-packages/pytorch_lightning/trainer/connectors/data_connector.py:224: \n",
              "PossibleUserWarning: The dataloader, train_dataloader, does not have many workers which may be a bottleneck. \n",
              "Consider increasing the value of the `num_workers` argument` (try 4 which is the number of cpus on this machine) in\n",
              "the `DataLoader` init to improve performance.\n",
              "  rank_zero_warn(\n"
            ]
          },
          "metadata": {},
          "output_type": "display_data"
        },
        {
          "data": {
            "text/html": [
              "<pre style=\"white-space:pre;overflow-x:auto;line-height:normal;font-family:Menlo,'DejaVu Sans Mono',consolas,'Courier New',monospace\"></pre>\n"
            ],
            "text/plain": []
          },
          "metadata": {},
          "output_type": "display_data"
        },
        {
          "data": {
            "text/html": [
              "<pre style=\"white-space:pre;overflow-x:auto;line-height:normal;font-family:Menlo,'DejaVu Sans Mono',consolas,'Courier New',monospace\">\n",
              "</pre>\n"
            ],
            "text/plain": [
              "\n"
            ]
          },
          "metadata": {},
          "output_type": "display_data"
        }
      ],
      "source": [
        "trainer.fit(model_module, data_module)"
      ]
    },
    {
      "cell_type": "markdown",
      "metadata": {
        "id": "fCR5yoIAUBTa"
      },
      "source": [
        "## Evaluation \n"
      ]
    },
    {
      "cell_type": "code",
      "execution_count": null,
      "metadata": {
        "colab": {
          "base_uri": "https://localhost:8080/",
          "height": 394,
          "referenced_widgets": [
            "81b5ba022bcd4ae29d1b7cf1a16c09d0",
            "8cbf1c840c9e407a919ec371e558cea0"
          ]
        },
        "id": "HvdXm85fa9KD",
        "outputId": "08148c82-ea22-46a7-dddc-bd20a4ffaf05"
      },
      "outputs": [],
      "source": [
        "trainer.test(model_module, data_module)"
      ]
    },
    {
      "cell_type": "markdown",
      "metadata": {
        "id": "PROj0EHeeRbl"
      },
      "source": [
        "This visualization displays the results of a random test for the Resnet model. It shows the weather forecast for the temperature of the selected region (area = [58, -100, 42.5, -68.5]) in a short time period (3 days). The initial condition is the temperature of the date we selected to test, the ground truth is the actual temperature after 3 days, and the prediction is the outcome of the trained model. \n",
        "\n",
        "The mean square error of the Resnet model is relatively high, but its small size of less than 5MB makes it easy to deploy. This is a major advantage of the Resnet model, as it can be used in a variety of applications without taking up too much space."
      ]
    },
    {
      "cell_type": "code",
      "execution_count": null,
      "metadata": {
        "id": "gU79rbX3iouZ"
      },
      "outputs": [],
      "source": []
    },
    {
      "cell_type": "code",
      "execution_count": 14,
      "metadata": {
        "colab": {
          "base_uri": "https://localhost:8080/",
          "height": 249
        },
        "id": "EOtdiPKsrMP2",
        "outputId": "407bed5f-6337-4691-b11b-3ed29e45d6d1"
      },
      "outputs": [
        {
          "data": {
            "image/png": "[encoded data removed]",
            "text/plain": [
              "<Figure size 2160x432 with 16 Axes>"
            ]
          },
          "metadata": {
            "needs_background": "light"
          },
          "output_type": "display_data"
        }
      ],
      "source": [
        "from climate_learn.utils import visualize\n",
        "\n",
        "# if samples = 2, we randomly pick 2 initial conditions in the test set\n",
        "visualize(model_module, data_module, samples = [\"1982-06-01:12\", \"1982-08-01:18\"])"
      ]
    },
    {
      "attachments": {},
      "cell_type": "markdown",
      "metadata": {
        "id": "3LT2bT7jgVkG"
      },
      "source": [
        "The visualization below shows the results of a random test for the trained Unet model. Although the model has a slightly lower mean square error, its size is quite large, almost 1GB, which makes it unlikely to be deployed for our course project."
      ]
    },
    {
      "cell_type": "code",
      "execution_count": 12,
      "metadata": {
        "colab": {
          "base_uri": "https://localhost:8080/",
          "height": 248
        },
        "id": "T1z9bganc17l",
        "outputId": "cc958e97-0781-4e29-d333-058e44cf55ca"
      },
      "outputs": [
        {
          "data": {
            "image/png": "[encoded data removed]",
            "text/plain": [
              "<Figure size 2160x432 with 16 Axes>"
            ]
          },
          "metadata": {
            "needs_background": "light"
          },
          "output_type": "display_data"
        }
      ],
      "source": [
        "from climate_learn.utils import visualize\n",
        "\n",
        "# if samples = 2, we randomly pick 2 initial conditions in the test set\n",
        "visualize(model_module, data_module, samples = [\"1992-06-01:12\", \"1992-08-01:18\"])"
      ]
    },
    {
      "cell_type": "code",
      "execution_count": 13,
      "metadata": {
        "id": "Jyy8M1uztOgc"
      },
      "outputs": [],
      "source": [
        "import torch\n",
        "\n",
        "#torch.save(model.state_dict(), PATH)\n",
        "\n",
        "# save the state dict of the model\n",
        "torch.save(model_module.state_dict(), \"/content/model_unet_03-12.pth\")"
      ]
    },
    {
      "cell_type": "code",
      "execution_count": null,
      "metadata": {
        "id": "gM7hBQyI0x7I"
      },
      "outputs": [],
      "source": [
        "\"\"\"import torch\n",
        "from my_model_module import MyModel\n",
        "\n",
        "#Restore a model:\n",
        "\n",
        "model_1975_1983_0_5deg = TheModelClass(*args, **kwargs)\n",
        "\n",
        "model_1975_1983_0_5deg.load_state_dict(torch.load(\"/content/model_1975-1983_0_5deg.pth\"))\n",
        "model_1975_1983_0_5deg.eval()\"\"\""
      ]
    },
    {
      "attachments": {},
      "cell_type": "markdown",
      "metadata": {
        "id": "srfsF01OLV-C"
      },
      "source": [
        "<a name=\"spatial-downscaling\"></a>\n",
        "# Spatial Downscaling(Unfinished)"
      ]
    },
    {
      "cell_type": "markdown",
      "metadata": {
        "id": "0zAegEGoV9zy"
      },
      "source": [
        "## Data Preparation"
      ]
    },
    {
      "cell_type": "code",
      "execution_count": null,
      "metadata": {
        "colab": {
          "base_uri": "https://localhost:8080/"
        },
        "id": "u3tRve6-h0sI",
        "outputId": "ec76d28b-aedf-4aea-e7b8-763b481532ac"
      },
      "outputs": [
        {
          "name": "stdout",
          "output_type": "stream",
          "text": [
            "Downloading era5 2m_temperature data for 2.8125 resolution from weatherbench to /content/drive/MyDrive/Climate/.climate_tutorial/data/weatherbench/era5/2.8125/2m_temperature\n",
            "Creating train dataset\n"
          ]
        },
        {
          "name": "stderr",
          "output_type": "stream",
          "text": [
            "100%|██████████| 1/1 [00:00<00:00, 43.18it/s]\n",
            "100%|██████████| 1/1 [00:00<00:00, 30.77it/s]\n"
          ]
        },
        {
          "name": "stdout",
          "output_type": "stream",
          "text": [
            "Creating val dataset\n"
          ]
        },
        {
          "name": "stderr",
          "output_type": "stream",
          "text": [
            "100%|██████████| 1/1 [00:00<00:00, 47.43it/s]\n",
            "100%|██████████| 1/1 [00:00<00:00, 26.84it/s]\n"
          ]
        },
        {
          "name": "stdout",
          "output_type": "stream",
          "text": [
            "Creating test dataset\n"
          ]
        },
        {
          "name": "stderr",
          "output_type": "stream",
          "text": [
            "100%|██████████| 3/3 [00:00<00:00, 35.66it/s]\n",
            "100%|██████████| 3/3 [00:03<00:00,  1.24s/it]\n"
          ]
        }
      ],
      "source": [
        "from climate_learn.utils.datetime import Year, Days, Hours\n",
        "from climate_learn.data.climate_dataset.args import ERA5Args\n",
        "from climate_learn.data.tasks.args import DownscalingArgs\n",
        "from climate_learn.data import download, DataModuleArgs, DataModule\n",
        "\n",
        "# Download data from weatherbench (~4-6 minutes)\n",
        "download(root = \"/content/drive/MyDrive/Climate/.climate_tutorial\", source = \"weatherbench\", variable = \"2m_temperature\", dataset = \"era5\", resolution = \"2.8125\")\n",
        "\n",
        "lowres_data_args = ERA5Args(\n",
        "    root_dir = \"/content/drive/MyDrive/Climate/.climate_tutorial/data/weatherbench/era5/5.625/\",\n",
        "    variables = [\"2m_temperature\"],\n",
        "    years = range(1979, 2015),\n",
        ")\n",
        "\n",
        "highres_data_args = ERA5Args(\n",
        "    root_dir = \"/content/drive/MyDrive/Climate/.climate_tutorial/data/weatherbench/era5/2.8125\",\n",
        "    variables = [\"2m_temperature\"],\n",
        "    years = range(1979, 2015),\n",
        ")\n",
        "\n",
        "downscaling_args = DownscalingArgs(\n",
        "    dataset_args = data_args,\n",
        "    highres_dataset_args = highres_data_args,\n",
        "    in_vars = [\"2m_temperature\"],\n",
        "    out_vars = [\"2m_temperature\"],\n",
        "    subsample = 6,\n",
        ")\n",
        "\n",
        "data_module_args = DataModuleArgs(\n",
        "    task_args = downscaling_args,\n",
        "    train_start_year = 1979,\n",
        "    val_start_year = 2015,\n",
        "    test_start_year = 2017,\n",
        "    end_year = 2018,\n",
        ")\n",
        "\n",
        "data_module = DataModule(\n",
        "    data_module_args = data_module_args,\n",
        "    batch_size = 128,\n",
        "    num_workers = 1\n",
        ")"
      ]
    },
    {
      "cell_type": "markdown",
      "metadata": {
        "id": "Sunkptw4g_Rc"
      },
      "source": [
        "## Model initialization"
      ]
    },
    {
      "cell_type": "code",
      "execution_count": null,
      "metadata": {
        "id": "lqxpa1znpX5n"
      },
      "outputs": [],
      "source": [
        "from climate_learn.models import load_model\n",
        "from torch.optim import AdamW\n",
        "\n",
        "model_kwargs = {\n",
        "    \"in_channels\": len(data_module.hparams.data_module_args.train_task_args.in_vars),\n",
        "    \"out_channels\": len(data_module.hparams.data_module_args.train_task_args.out_vars),\n",
        "    \"n_blocks\": 4,\n",
        "}\n",
        "\n",
        "optim_kwargs = {\n",
        "    \"optimizer\": AdamW,\n",
        "    \"lr\": 1e-4,\n",
        "    \"weight_decay\": 1e-5,\n",
        "    \"warmup_epochs\": 1,\n",
        "    \"max_epochs\": 5,\n",
        "}\n",
        "\n",
        "model_module = load_model(name = \"resnet\", task = \"downscaling\", model_kwargs = model_kwargs, optim_kwargs = optim_kwargs)"
      ]
    },
    {
      "cell_type": "code",
      "execution_count": null,
      "metadata": {
        "id": "CHytyooUpc9-"
      },
      "outputs": [],
      "source": [
        "# latitude long info, \n",
        "from climate_learn.models import set_climatology\n",
        "set_climatology(model_module, data_module)"
      ]
    },
    {
      "cell_type": "markdown",
      "metadata": {
        "id": "e1XU1EIvXhvb"
      },
      "source": [
        "## Training"
      ]
    },
    {
      "cell_type": "code",
      "execution_count": null,
      "metadata": {
        "colab": {
          "base_uri": "https://localhost:8080/"
        },
        "id": "ioW1bg4QpZ30",
        "outputId": "9c1b8baa-c63a-4612-fae9-c40e92ac3b4a"
      },
      "outputs": [
        {
          "name": "stderr",
          "output_type": "stream",
          "text": [
            "INFO:lightning_fabric.utilities.seed:Global seed set to 0\n"
          ]
        }
      ],
      "source": [
        "from climate_learn.training import Trainer\n",
        "\n",
        "trainer = Trainer(\n",
        "    seed = 0,\n",
        "    accelerator = \"gpu\",\n",
        "    precision = 16,\n",
        "    max_epochs = 5,\n",
        ")"
      ]
    },
    {
      "cell_type": "code",
      "execution_count": null,
      "metadata": {
        "colab": {
          "base_uri": "https://localhost:8080/",
          "height": 1000,
          "referenced_widgets": [
            "f1b2b711e84a4e469d28ce506c5fbcc8",
            "859e5ae0abf849e4b3210ac64ac5b65a"
          ]
        },
        "id": "a6K0-H3ppiRY",
        "outputId": "6f94912e-e1da-460f-c53b-cf43d28a40e6"
      },
      "outputs": [
        {
          "name": "stderr",
          "output_type": "stream",
          "text": [
            "/usr/local/lib/python3.8/dist-packages/lightning/callbacks/model_checkpoint.py:612: UserWarning: Checkpoint directory /content/checkpoints exists and is not empty.\n",
            "  rank_zero_warn(f\"Checkpoint directory {dirpath} exists and is not empty.\")\n"
          ]
        },
        {
          "data": {
            "text/html": [
              "<pre style=\"white-space:pre;overflow-x:auto;line-height:normal;font-family:Menlo,'DejaVu Sans Mono',consolas,'Courier New',monospace\">┏━━━━┳━━━━━━━━━━━━━━━━━━━━━━━━━━━━┳━━━━━━━━━━━━━━━━━━━┳━━━━━━━━┓\n",
              "┃<span style=\"color: #800080; text-decoration-color: #800080; font-weight: bold\">    </span>┃<span style=\"color: #800080; text-decoration-color: #800080; font-weight: bold\"> Name                       </span>┃<span style=\"color: #800080; text-decoration-color: #800080; font-weight: bold\"> Type              </span>┃<span style=\"color: #800080; text-decoration-color: #800080; font-weight: bold\"> Params </span>┃\n",
              "┡━━━━╇━━━━━━━━━━━━━━━━━━━━━━━━━━━━╇━━━━━━━━━━━━━━━━━━━╇━━━━━━━━┩\n",
              "│<span style=\"color: #7f7f7f; text-decoration-color: #7f7f7f\"> 0  </span>│ net                        │ ResNet            │  1.2 M │\n",
              "│<span style=\"color: #7f7f7f; text-decoration-color: #7f7f7f\"> 1  </span>│ net.activation             │ LeakyReLU         │      0 │\n",
              "│<span style=\"color: #7f7f7f; text-decoration-color: #7f7f7f\"> 2  </span>│ net.image_proj             │ PeriodicConv2D    │  6.4 K │\n",
              "│<span style=\"color: #7f7f7f; text-decoration-color: #7f7f7f\"> 3  </span>│ net.image_proj.padding     │ PeriodicPadding2D │      0 │\n",
              "│<span style=\"color: #7f7f7f; text-decoration-color: #7f7f7f\"> 4  </span>│ net.image_proj.conv        │ Conv2d            │  6.4 K │\n",
              "│<span style=\"color: #7f7f7f; text-decoration-color: #7f7f7f\"> 5  </span>│ net.blocks                 │ ModuleList        │  1.2 M │\n",
              "│<span style=\"color: #7f7f7f; text-decoration-color: #7f7f7f\"> 6  </span>│ net.blocks.0               │ ResidualBlock     │  295 K │\n",
              "│<span style=\"color: #7f7f7f; text-decoration-color: #7f7f7f\"> 7  </span>│ net.blocks.0.activation    │ LeakyReLU         │      0 │\n",
              "│<span style=\"color: #7f7f7f; text-decoration-color: #7f7f7f\"> 8  </span>│ net.blocks.0.conv1         │ PeriodicConv2D    │  147 K │\n",
              "│<span style=\"color: #7f7f7f; text-decoration-color: #7f7f7f\"> 9  </span>│ net.blocks.0.conv1.padding │ PeriodicPadding2D │      0 │\n",
              "│<span style=\"color: #7f7f7f; text-decoration-color: #7f7f7f\"> 10 </span>│ net.blocks.0.conv1.conv    │ Conv2d            │  147 K │\n",
              "│<span style=\"color: #7f7f7f; text-decoration-color: #7f7f7f\"> 11 </span>│ net.blocks.0.conv2         │ PeriodicConv2D    │  147 K │\n",
              "│<span style=\"color: #7f7f7f; text-decoration-color: #7f7f7f\"> 12 </span>│ net.blocks.0.conv2.padding │ PeriodicPadding2D │      0 │\n",
              "│<span style=\"color: #7f7f7f; text-decoration-color: #7f7f7f\"> 13 </span>│ net.blocks.0.conv2.conv    │ Conv2d            │  147 K │\n",
              "│<span style=\"color: #7f7f7f; text-decoration-color: #7f7f7f\"> 14 </span>│ net.blocks.0.shortcut      │ Identity          │      0 │\n",
              "│<span style=\"color: #7f7f7f; text-decoration-color: #7f7f7f\"> 15 </span>│ net.blocks.0.norm1         │ BatchNorm2d       │    256 │\n",
              "│<span style=\"color: #7f7f7f; text-decoration-color: #7f7f7f\"> 16 </span>│ net.blocks.0.norm2         │ BatchNorm2d       │    256 │\n",
              "│<span style=\"color: #7f7f7f; text-decoration-color: #7f7f7f\"> 17 </span>│ net.blocks.0.drop          │ Dropout           │      0 │\n",
              "│<span style=\"color: #7f7f7f; text-decoration-color: #7f7f7f\"> 18 </span>│ net.blocks.1               │ ResidualBlock     │  295 K │\n",
              "│<span style=\"color: #7f7f7f; text-decoration-color: #7f7f7f\"> 19 </span>│ net.blocks.1.activation    │ LeakyReLU         │      0 │\n",
              "│<span style=\"color: #7f7f7f; text-decoration-color: #7f7f7f\"> 20 </span>│ net.blocks.1.conv1         │ PeriodicConv2D    │  147 K │\n",
              "│<span style=\"color: #7f7f7f; text-decoration-color: #7f7f7f\"> 21 </span>│ net.blocks.1.conv1.padding │ PeriodicPadding2D │      0 │\n",
              "│<span style=\"color: #7f7f7f; text-decoration-color: #7f7f7f\"> 22 </span>│ net.blocks.1.conv1.conv    │ Conv2d            │  147 K │\n",
              "│<span style=\"color: #7f7f7f; text-decoration-color: #7f7f7f\"> 23 </span>│ net.blocks.1.conv2         │ PeriodicConv2D    │  147 K │\n",
              "│<span style=\"color: #7f7f7f; text-decoration-color: #7f7f7f\"> 24 </span>│ net.blocks.1.conv2.padding │ PeriodicPadding2D │      0 │\n",
              "│<span style=\"color: #7f7f7f; text-decoration-color: #7f7f7f\"> 25 </span>│ net.blocks.1.conv2.conv    │ Conv2d            │  147 K │\n",
              "│<span style=\"color: #7f7f7f; text-decoration-color: #7f7f7f\"> 26 </span>│ net.blocks.1.shortcut      │ Identity          │      0 │\n",
              "│<span style=\"color: #7f7f7f; text-decoration-color: #7f7f7f\"> 27 </span>│ net.blocks.1.norm1         │ BatchNorm2d       │    256 │\n",
              "│<span style=\"color: #7f7f7f; text-decoration-color: #7f7f7f\"> 28 </span>│ net.blocks.1.norm2         │ BatchNorm2d       │    256 │\n",
              "│<span style=\"color: #7f7f7f; text-decoration-color: #7f7f7f\"> 29 </span>│ net.blocks.1.drop          │ Dropout           │      0 │\n",
              "│<span style=\"color: #7f7f7f; text-decoration-color: #7f7f7f\"> 30 </span>│ net.blocks.2               │ ResidualBlock     │  295 K │\n",
              "│<span style=\"color: #7f7f7f; text-decoration-color: #7f7f7f\"> 31 </span>│ net.blocks.2.activation    │ LeakyReLU         │      0 │\n",
              "│<span style=\"color: #7f7f7f; text-decoration-color: #7f7f7f\"> 32 </span>│ net.blocks.2.conv1         │ PeriodicConv2D    │  147 K │\n",
              "│<span style=\"color: #7f7f7f; text-decoration-color: #7f7f7f\"> 33 </span>│ net.blocks.2.conv1.padding │ PeriodicPadding2D │      0 │\n",
              "│<span style=\"color: #7f7f7f; text-decoration-color: #7f7f7f\"> 34 </span>│ net.blocks.2.conv1.conv    │ Conv2d            │  147 K │\n",
              "│<span style=\"color: #7f7f7f; text-decoration-color: #7f7f7f\"> 35 </span>│ net.blocks.2.conv2         │ PeriodicConv2D    │  147 K │\n",
              "│<span style=\"color: #7f7f7f; text-decoration-color: #7f7f7f\"> 36 </span>│ net.blocks.2.conv2.padding │ PeriodicPadding2D │      0 │\n",
              "│<span style=\"color: #7f7f7f; text-decoration-color: #7f7f7f\"> 37 </span>│ net.blocks.2.conv2.conv    │ Conv2d            │  147 K │\n",
              "│<span style=\"color: #7f7f7f; text-decoration-color: #7f7f7f\"> 38 </span>│ net.blocks.2.shortcut      │ Identity          │      0 │\n",
              "│<span style=\"color: #7f7f7f; text-decoration-color: #7f7f7f\"> 39 </span>│ net.blocks.2.norm1         │ BatchNorm2d       │    256 │\n",
              "│<span style=\"color: #7f7f7f; text-decoration-color: #7f7f7f\"> 40 </span>│ net.blocks.2.norm2         │ BatchNorm2d       │    256 │\n",
              "│<span style=\"color: #7f7f7f; text-decoration-color: #7f7f7f\"> 41 </span>│ net.blocks.2.drop          │ Dropout           │      0 │\n",
              "│<span style=\"color: #7f7f7f; text-decoration-color: #7f7f7f\"> 42 </span>│ net.blocks.3               │ ResidualBlock     │  295 K │\n",
              "│<span style=\"color: #7f7f7f; text-decoration-color: #7f7f7f\"> 43 </span>│ net.blocks.3.activation    │ LeakyReLU         │      0 │\n",
              "│<span style=\"color: #7f7f7f; text-decoration-color: #7f7f7f\"> 44 </span>│ net.blocks.3.conv1         │ PeriodicConv2D    │  147 K │\n",
              "│<span style=\"color: #7f7f7f; text-decoration-color: #7f7f7f\"> 45 </span>│ net.blocks.3.conv1.padding │ PeriodicPadding2D │      0 │\n",
              "│<span style=\"color: #7f7f7f; text-decoration-color: #7f7f7f\"> 46 </span>│ net.blocks.3.conv1.conv    │ Conv2d            │  147 K │\n",
              "│<span style=\"color: #7f7f7f; text-decoration-color: #7f7f7f\"> 47 </span>│ net.blocks.3.conv2         │ PeriodicConv2D    │  147 K │\n",
              "│<span style=\"color: #7f7f7f; text-decoration-color: #7f7f7f\"> 48 </span>│ net.blocks.3.conv2.padding │ PeriodicPadding2D │      0 │\n",
              "│<span style=\"color: #7f7f7f; text-decoration-color: #7f7f7f\"> 49 </span>│ net.blocks.3.conv2.conv    │ Conv2d            │  147 K │\n",
              "│<span style=\"color: #7f7f7f; text-decoration-color: #7f7f7f\"> 50 </span>│ net.blocks.3.shortcut      │ Identity          │      0 │\n",
              "│<span style=\"color: #7f7f7f; text-decoration-color: #7f7f7f\"> 51 </span>│ net.blocks.3.norm1         │ BatchNorm2d       │    256 │\n",
              "│<span style=\"color: #7f7f7f; text-decoration-color: #7f7f7f\"> 52 </span>│ net.blocks.3.norm2         │ BatchNorm2d       │    256 │\n",
              "│<span style=\"color: #7f7f7f; text-decoration-color: #7f7f7f\"> 53 </span>│ net.blocks.3.drop          │ Dropout           │      0 │\n",
              "│<span style=\"color: #7f7f7f; text-decoration-color: #7f7f7f\"> 54 </span>│ net.norm                   │ BatchNorm2d       │    256 │\n",
              "│<span style=\"color: #7f7f7f; text-decoration-color: #7f7f7f\"> 55 </span>│ net.final                  │ PeriodicConv2D    │  6.3 K │\n",
              "│<span style=\"color: #7f7f7f; text-decoration-color: #7f7f7f\"> 56 </span>│ net.final.padding          │ PeriodicPadding2D │      0 │\n",
              "│<span style=\"color: #7f7f7f; text-decoration-color: #7f7f7f\"> 57 </span>│ net.final.conv             │ Conv2d            │  6.3 K │\n",
              "│<span style=\"color: #7f7f7f; text-decoration-color: #7f7f7f\"> 58 </span>│ denormalization            │ Normalize         │      0 │\n",
              "└────┴────────────────────────────┴───────────────────┴────────┘\n",
              "</pre>\n"
            ],
            "text/plain": [
              "┏━━━━┳━━━━━━━━━━━━━━━━━━━━━━━━━━━━┳━━━━━━━━━━━━━━━━━━━┳━━━━━━━━┓\n",
              "┃\u001b[1;35m \u001b[0m\u001b[1;35m  \u001b[0m\u001b[1;35m \u001b[0m┃\u001b[1;35m \u001b[0m\u001b[1;35mName                      \u001b[0m\u001b[1;35m \u001b[0m┃\u001b[1;35m \u001b[0m\u001b[1;35mType             \u001b[0m\u001b[1;35m \u001b[0m┃\u001b[1;35m \u001b[0m\u001b[1;35mParams\u001b[0m\u001b[1;35m \u001b[0m┃\n",
              "┡━━━━╇━━━━━━━━━━━━━━━━━━━━━━━━━━━━╇━━━━━━━━━━━━━━━━━━━╇━━━━━━━━┩\n",
              "│\u001b[2m \u001b[0m\u001b[2m0 \u001b[0m\u001b[2m \u001b[0m│ net                        │ ResNet            │  1.2 M │\n",
              "│\u001b[2m \u001b[0m\u001b[2m1 \u001b[0m\u001b[2m \u001b[0m│ net.activation             │ LeakyReLU         │      0 │\n",
              "│\u001b[2m \u001b[0m\u001b[2m2 \u001b[0m\u001b[2m \u001b[0m│ net.image_proj             │ PeriodicConv2D    │  6.4 K │\n",
              "│\u001b[2m \u001b[0m\u001b[2m3 \u001b[0m\u001b[2m \u001b[0m│ net.image_proj.padding     │ PeriodicPadding2D │      0 │\n",
              "│\u001b[2m \u001b[0m\u001b[2m4 \u001b[0m\u001b[2m \u001b[0m│ net.image_proj.conv        │ Conv2d            │  6.4 K │\n",
              "│\u001b[2m \u001b[0m\u001b[2m5 \u001b[0m\u001b[2m \u001b[0m│ net.blocks                 │ ModuleList        │  1.2 M │\n",
              "│\u001b[2m \u001b[0m\u001b[2m6 \u001b[0m\u001b[2m \u001b[0m│ net.blocks.0               │ ResidualBlock     │  295 K │\n",
              "│\u001b[2m \u001b[0m\u001b[2m7 \u001b[0m\u001b[2m \u001b[0m│ net.blocks.0.activation    │ LeakyReLU         │      0 │\n",
              "│\u001b[2m \u001b[0m\u001b[2m8 \u001b[0m\u001b[2m \u001b[0m│ net.blocks.0.conv1         │ PeriodicConv2D    │  147 K │\n",
              "│\u001b[2m \u001b[0m\u001b[2m9 \u001b[0m\u001b[2m \u001b[0m│ net.blocks.0.conv1.padding │ PeriodicPadding2D │      0 │\n",
              "│\u001b[2m \u001b[0m\u001b[2m10\u001b[0m\u001b[2m \u001b[0m│ net.blocks.0.conv1.conv    │ Conv2d            │  147 K │\n",
              "│\u001b[2m \u001b[0m\u001b[2m11\u001b[0m\u001b[2m \u001b[0m│ net.blocks.0.conv2         │ PeriodicConv2D    │  147 K │\n",
              "│\u001b[2m \u001b[0m\u001b[2m12\u001b[0m\u001b[2m \u001b[0m│ net.blocks.0.conv2.padding │ PeriodicPadding2D │      0 │\n",
              "│\u001b[2m \u001b[0m\u001b[2m13\u001b[0m\u001b[2m \u001b[0m│ net.blocks.0.conv2.conv    │ Conv2d            │  147 K │\n",
              "│\u001b[2m \u001b[0m\u001b[2m14\u001b[0m\u001b[2m \u001b[0m│ net.blocks.0.shortcut      │ Identity          │      0 │\n",
              "│\u001b[2m \u001b[0m\u001b[2m15\u001b[0m\u001b[2m \u001b[0m│ net.blocks.0.norm1         │ BatchNorm2d       │    256 │\n",
              "│\u001b[2m \u001b[0m\u001b[2m16\u001b[0m\u001b[2m \u001b[0m│ net.blocks.0.norm2         │ BatchNorm2d       │    256 │\n",
              "│\u001b[2m \u001b[0m\u001b[2m17\u001b[0m\u001b[2m \u001b[0m│ net.blocks.0.drop          │ Dropout           │      0 │\n",
              "│\u001b[2m \u001b[0m\u001b[2m18\u001b[0m\u001b[2m \u001b[0m│ net.blocks.1               │ ResidualBlock     │  295 K │\n",
              "│\u001b[2m \u001b[0m\u001b[2m19\u001b[0m\u001b[2m \u001b[0m│ net.blocks.1.activation    │ LeakyReLU         │      0 │\n",
              "│\u001b[2m \u001b[0m\u001b[2m20\u001b[0m\u001b[2m \u001b[0m│ net.blocks.1.conv1         │ PeriodicConv2D    │  147 K │\n",
              "│\u001b[2m \u001b[0m\u001b[2m21\u001b[0m\u001b[2m \u001b[0m│ net.blocks.1.conv1.padding │ PeriodicPadding2D │      0 │\n",
              "│\u001b[2m \u001b[0m\u001b[2m22\u001b[0m\u001b[2m \u001b[0m│ net.blocks.1.conv1.conv    │ Conv2d            │  147 K │\n",
              "│\u001b[2m \u001b[0m\u001b[2m23\u001b[0m\u001b[2m \u001b[0m│ net.blocks.1.conv2         │ PeriodicConv2D    │  147 K │\n",
              "│\u001b[2m \u001b[0m\u001b[2m24\u001b[0m\u001b[2m \u001b[0m│ net.blocks.1.conv2.padding │ PeriodicPadding2D │      0 │\n",
              "│\u001b[2m \u001b[0m\u001b[2m25\u001b[0m\u001b[2m \u001b[0m│ net.blocks.1.conv2.conv    │ Conv2d            │  147 K │\n",
              "│\u001b[2m \u001b[0m\u001b[2m26\u001b[0m\u001b[2m \u001b[0m│ net.blocks.1.shortcut      │ Identity          │      0 │\n",
              "│\u001b[2m \u001b[0m\u001b[2m27\u001b[0m\u001b[2m \u001b[0m│ net.blocks.1.norm1         │ BatchNorm2d       │    256 │\n",
              "│\u001b[2m \u001b[0m\u001b[2m28\u001b[0m\u001b[2m \u001b[0m│ net.blocks.1.norm2         │ BatchNorm2d       │    256 │\n",
              "│\u001b[2m \u001b[0m\u001b[2m29\u001b[0m\u001b[2m \u001b[0m│ net.blocks.1.drop          │ Dropout           │      0 │\n",
              "│\u001b[2m \u001b[0m\u001b[2m30\u001b[0m\u001b[2m \u001b[0m│ net.blocks.2               │ ResidualBlock     │  295 K │\n",
              "│\u001b[2m \u001b[0m\u001b[2m31\u001b[0m\u001b[2m \u001b[0m│ net.blocks.2.activation    │ LeakyReLU         │      0 │\n",
              "│\u001b[2m \u001b[0m\u001b[2m32\u001b[0m\u001b[2m \u001b[0m│ net.blocks.2.conv1         │ PeriodicConv2D    │  147 K │\n",
              "│\u001b[2m \u001b[0m\u001b[2m33\u001b[0m\u001b[2m \u001b[0m│ net.blocks.2.conv1.padding │ PeriodicPadding2D │      0 │\n",
              "│\u001b[2m \u001b[0m\u001b[2m34\u001b[0m\u001b[2m \u001b[0m│ net.blocks.2.conv1.conv    │ Conv2d            │  147 K │\n",
              "│\u001b[2m \u001b[0m\u001b[2m35\u001b[0m\u001b[2m \u001b[0m│ net.blocks.2.conv2         │ PeriodicConv2D    │  147 K │\n",
              "│\u001b[2m \u001b[0m\u001b[2m36\u001b[0m\u001b[2m \u001b[0m│ net.blocks.2.conv2.padding │ PeriodicPadding2D │      0 │\n",
              "│\u001b[2m \u001b[0m\u001b[2m37\u001b[0m\u001b[2m \u001b[0m│ net.blocks.2.conv2.conv    │ Conv2d            │  147 K │\n",
              "│\u001b[2m \u001b[0m\u001b[2m38\u001b[0m\u001b[2m \u001b[0m│ net.blocks.2.shortcut      │ Identity          │      0 │\n",
              "│\u001b[2m \u001b[0m\u001b[2m39\u001b[0m\u001b[2m \u001b[0m│ net.blocks.2.norm1         │ BatchNorm2d       │    256 │\n",
              "│\u001b[2m \u001b[0m\u001b[2m40\u001b[0m\u001b[2m \u001b[0m│ net.blocks.2.norm2         │ BatchNorm2d       │    256 │\n",
              "│\u001b[2m \u001b[0m\u001b[2m41\u001b[0m\u001b[2m \u001b[0m│ net.blocks.2.drop          │ Dropout           │      0 │\n",
              "│\u001b[2m \u001b[0m\u001b[2m42\u001b[0m\u001b[2m \u001b[0m│ net.blocks.3               │ ResidualBlock     │  295 K │\n",
              "│\u001b[2m \u001b[0m\u001b[2m43\u001b[0m\u001b[2m \u001b[0m│ net.blocks.3.activation    │ LeakyReLU         │      0 │\n",
              "│\u001b[2m \u001b[0m\u001b[2m44\u001b[0m\u001b[2m \u001b[0m│ net.blocks.3.conv1         │ PeriodicConv2D    │  147 K │\n",
              "│\u001b[2m \u001b[0m\u001b[2m45\u001b[0m\u001b[2m \u001b[0m│ net.blocks.3.conv1.padding │ PeriodicPadding2D │      0 │\n",
              "│\u001b[2m \u001b[0m\u001b[2m46\u001b[0m\u001b[2m \u001b[0m│ net.blocks.3.conv1.conv    │ Conv2d            │  147 K │\n",
              "│\u001b[2m \u001b[0m\u001b[2m47\u001b[0m\u001b[2m \u001b[0m│ net.blocks.3.conv2         │ PeriodicConv2D    │  147 K │\n",
              "│\u001b[2m \u001b[0m\u001b[2m48\u001b[0m\u001b[2m \u001b[0m│ net.blocks.3.conv2.padding │ PeriodicPadding2D │      0 │\n",
              "│\u001b[2m \u001b[0m\u001b[2m49\u001b[0m\u001b[2m \u001b[0m│ net.blocks.3.conv2.conv    │ Conv2d            │  147 K │\n",
              "│\u001b[2m \u001b[0m\u001b[2m50\u001b[0m\u001b[2m \u001b[0m│ net.blocks.3.shortcut      │ Identity          │      0 │\n",
              "│\u001b[2m \u001b[0m\u001b[2m51\u001b[0m\u001b[2m \u001b[0m│ net.blocks.3.norm1         │ BatchNorm2d       │    256 │\n",
              "│\u001b[2m \u001b[0m\u001b[2m52\u001b[0m\u001b[2m \u001b[0m│ net.blocks.3.norm2         │ BatchNorm2d       │    256 │\n",
              "│\u001b[2m \u001b[0m\u001b[2m53\u001b[0m\u001b[2m \u001b[0m│ net.blocks.3.drop          │ Dropout           │      0 │\n",
              "│\u001b[2m \u001b[0m\u001b[2m54\u001b[0m\u001b[2m \u001b[0m│ net.norm                   │ BatchNorm2d       │    256 │\n",
              "│\u001b[2m \u001b[0m\u001b[2m55\u001b[0m\u001b[2m \u001b[0m│ net.final                  │ PeriodicConv2D    │  6.3 K │\n",
              "│\u001b[2m \u001b[0m\u001b[2m56\u001b[0m\u001b[2m \u001b[0m│ net.final.padding          │ PeriodicPadding2D │      0 │\n",
              "│\u001b[2m \u001b[0m\u001b[2m57\u001b[0m\u001b[2m \u001b[0m│ net.final.conv             │ Conv2d            │  6.3 K │\n",
              "│\u001b[2m \u001b[0m\u001b[2m58\u001b[0m\u001b[2m \u001b[0m│ denormalization            │ Normalize         │      0 │\n",
              "└────┴────────────────────────────┴───────────────────┴────────┘\n"
            ]
          },
          "metadata": {},
          "output_type": "display_data"
        },
        {
          "data": {
            "text/html": [
              "<pre style=\"white-space:pre;overflow-x:auto;line-height:normal;font-family:Menlo,'DejaVu Sans Mono',consolas,'Courier New',monospace\"><span style=\"font-weight: bold\">Trainable params</span>: 1.2 M                                                                                            \n",
              "<span style=\"font-weight: bold\">Non-trainable params</span>: 0                                                                                            \n",
              "<span style=\"font-weight: bold\">Total params</span>: 1.2 M                                                                                                \n",
              "<span style=\"font-weight: bold\">Total estimated model params size (MB)</span>: 2                                                                          \n",
              "</pre>\n"
            ],
            "text/plain": [
              "\u001b[1mTrainable params\u001b[0m: 1.2 M                                                                                            \n",
              "\u001b[1mNon-trainable params\u001b[0m: 0                                                                                            \n",
              "\u001b[1mTotal params\u001b[0m: 1.2 M                                                                                                \n",
              "\u001b[1mTotal estimated model params size (MB)\u001b[0m: 2                                                                          \n"
            ]
          },
          "metadata": {},
          "output_type": "display_data"
        },
        {
          "data": {
            "application/vnd.jupyter.widget-view+json": {
              "model_id": "f1b2b711e84a4e469d28ce506c5fbcc8",
              "version_major": 2,
              "version_minor": 0
            },
            "text/plain": [
              "Output()"
            ]
          },
          "metadata": {},
          "output_type": "display_data"
        },
        {
          "data": {
            "text/html": [
              "<pre style=\"white-space:pre;overflow-x:auto;line-height:normal;font-family:Menlo,'DejaVu Sans Mono',consolas,'Courier New',monospace\"></pre>\n"
            ],
            "text/plain": []
          },
          "metadata": {},
          "output_type": "display_data"
        },
        {
          "data": {
            "text/html": [
              "<pre style=\"white-space:pre;overflow-x:auto;line-height:normal;font-family:Menlo,'DejaVu Sans Mono',consolas,'Courier New',monospace\">\n",
              "</pre>\n"
            ],
            "text/plain": [
              "\n"
            ]
          },
          "metadata": {},
          "output_type": "display_data"
        }
      ],
      "source": [
        "trainer.fit(model_module, data_module)"
      ]
    },
    {
      "cell_type": "markdown",
      "metadata": {
        "id": "k7JdGELMXpIw"
      },
      "source": [
        "## Evaluation"
      ]
    },
    {
      "cell_type": "code",
      "execution_count": null,
      "metadata": {
        "colab": {
          "base_uri": "https://localhost:8080/",
          "height": 149,
          "referenced_widgets": [
            "9f6338e3a9fb4a4fa4a3b5da14e6b471",
            "d124da129802411086077527493bf39b"
          ]
        },
        "id": "kELMwe8lpm1e",
        "outputId": "d58628cc-04be-4575-febc-a4812ef471f7"
      },
      "outputs": [
        {
          "data": {
            "application/vnd.jupyter.widget-view+json": {
              "model_id": "9f6338e3a9fb4a4fa4a3b5da14e6b471",
              "version_major": 2,
              "version_minor": 0
            },
            "text/plain": [
              "Output()"
            ]
          },
          "metadata": {},
          "output_type": "display_data"
        },
        {
          "data": {
            "text/html": [
              "<pre style=\"white-space:pre;overflow-x:auto;line-height:normal;font-family:Menlo,'DejaVu Sans Mono',consolas,'Courier New',monospace\">┏━━━━━━━━━━━━━━━━━━━━━━━━━━━━━━━┳━━━━━━━━━━━━━━━━━━━━━━━━━━━━━━━┓\n",
              "┃<span style=\"font-weight: bold\">          Test metric          </span>┃<span style=\"font-weight: bold\">         DataLoader 0          </span>┃\n",
              "┡━━━━━━━━━━━━━━━━━━━━━━━━━━━━━━━╇━━━━━━━━━━━━━━━━━━━━━━━━━━━━━━━┩\n",
              "│<span style=\"color: #008080; text-decoration-color: #008080\"> test/mean_bias_2m_temperature </span>│<span style=\"color: #800080; text-decoration-color: #800080\">      -0.6033839583396912      </span>│\n",
              "│<span style=\"color: #008080; text-decoration-color: #008080\"> test/pearsonr_2m_temperature  </span>│<span style=\"color: #800080; text-decoration-color: #800080\">      0.9910030555527313       </span>│\n",
              "│<span style=\"color: #008080; text-decoration-color: #008080\">   test/rmse_2m_temperature    </span>│<span style=\"color: #800080; text-decoration-color: #800080\">       2.859203577041626       </span>│\n",
              "└───────────────────────────────┴───────────────────────────────┘\n",
              "</pre>\n"
            ],
            "text/plain": [
              "┏━━━━━━━━━━━━━━━━━━━━━━━━━━━━━━━┳━━━━━━━━━━━━━━━━━━━━━━━━━━━━━━━┓\n",
              "┃\u001b[1m \u001b[0m\u001b[1m         Test metric         \u001b[0m\u001b[1m \u001b[0m┃\u001b[1m \u001b[0m\u001b[1m        DataLoader 0         \u001b[0m\u001b[1m \u001b[0m┃\n",
              "┡━━━━━━━━━━━━━━━━━━━━━━━━━━━━━━━╇━━━━━━━━━━━━━━━━━━━━━━━━━━━━━━━┩\n",
              "│\u001b[36m \u001b[0m\u001b[36mtest/mean_bias_2m_temperature\u001b[0m\u001b[36m \u001b[0m│\u001b[35m \u001b[0m\u001b[35m     -0.6033839583396912     \u001b[0m\u001b[35m \u001b[0m│\n",
              "│\u001b[36m \u001b[0m\u001b[36mtest/pearsonr_2m_temperature \u001b[0m\u001b[36m \u001b[0m│\u001b[35m \u001b[0m\u001b[35m     0.9910030555527313      \u001b[0m\u001b[35m \u001b[0m│\n",
              "│\u001b[36m \u001b[0m\u001b[36m  test/rmse_2m_temperature   \u001b[0m\u001b[36m \u001b[0m│\u001b[35m \u001b[0m\u001b[35m      2.859203577041626      \u001b[0m\u001b[35m \u001b[0m│\n",
              "└───────────────────────────────┴───────────────────────────────┘\n"
            ]
          },
          "metadata": {},
          "output_type": "display_data"
        },
        {
          "data": {
            "text/html": [
              "<pre style=\"white-space:pre;overflow-x:auto;line-height:normal;font-family:Menlo,'DejaVu Sans Mono',consolas,'Courier New',monospace\"></pre>\n"
            ],
            "text/plain": []
          },
          "metadata": {},
          "output_type": "display_data"
        },
        {
          "data": {
            "text/html": [
              "<pre style=\"white-space:pre;overflow-x:auto;line-height:normal;font-family:Menlo,'DejaVu Sans Mono',consolas,'Courier New',monospace\">\n",
              "</pre>\n"
            ],
            "text/plain": [
              "\n"
            ]
          },
          "metadata": {},
          "output_type": "display_data"
        }
      ],
      "source": [
        "trainer.test(model_module, data_module)"
      ]
    }
  ],
  "metadata": {
    "colab": {
      "machine_shape": "hm",
      "provenance": []
    },
    "gpuClass": "standard",
    "kernelspec": {
      "display_name": "cl_env",
      "language": "python",
      "name": "python3"
    },
    "language_info": {
      "codemirror_mode": {
        "name": "ipython",
        "version": 3
      },
      "file_extension": ".py",
      "mimetype": "text/x-python",
      "name": "python",
      "nbconvert_exporter": "python",
      "pygments_lexer": "ipython3",
      "version": "3.9.7"
    },
    "vscode": {
      "interpreter": {
        "hash": "5b35d5811d64db97cad819926e9e0ba09b354a75e2ee95b259c11201fc783944"
      }
    },
    "widgets": {
      "application/vnd.jupyter.widget-state+json": {
        "15ba4f7ba8c4464ab91aa8e39440837b": {
          "model_module": "@jupyter-widgets/base",
          "model_module_version": "1.2.0",
          "model_name": "LayoutModel",
          "state": {
            "_model_module": "@jupyter-widgets/base",
            "_model_module_version": "1.2.0",
            "_model_name": "LayoutModel",
            "_view_count": null,
            "_view_module": "@jupyter-widgets/base",
            "_view_module_version": "1.2.0",
            "_view_name": "LayoutView",
            "align_content": null,
            "align_items": null,
            "align_self": null,
            "border": null,
            "bottom": null,
            "display": null,
            "flex": null,
            "flex_flow": null,
            "grid_area": null,
            "grid_auto_columns": null,
            "grid_auto_flow": null,
            "grid_auto_rows": null,
            "grid_column": null,
            "grid_gap": null,
            "grid_row": null,
            "grid_template_areas": null,
            "grid_template_columns": null,
            "grid_template_rows": null,
            "height": null,
            "justify_content": null,
            "justify_items": null,
            "left": null,
            "margin": null,
            "max_height": null,
            "max_width": null,
            "min_height": null,
            "min_width": null,
            "object_fit": null,
            "object_position": null,
            "order": null,
            "overflow": null,
            "overflow_x": null,
            "overflow_y": null,
            "padding": null,
            "right": null,
            "top": null,
            "visibility": null,
            "width": null
          }
        },
        "81b5ba022bcd4ae29d1b7cf1a16c09d0": {
          "model_module": "@jupyter-widgets/output",
          "model_module_version": "1.0.0",
          "model_name": "OutputModel",
          "state": {
            "_dom_classes": [],
            "_model_module": "@jupyter-widgets/output",
            "_model_module_version": "1.0.0",
            "_model_name": "OutputModel",
            "_view_count": null,
            "_view_module": "@jupyter-widgets/output",
            "_view_module_version": "1.0.0",
            "_view_name": "OutputView",
            "layout": "IPY_MODEL_8cbf1c840c9e407a919ec371e558cea0",
            "msg_id": "",
            "outputs": [
              {
                "data": {
                  "text/html": "<pre style=\"white-space:pre;overflow-x:auto;line-height:normal;font-family:Menlo,'DejaVu Sans Mono',consolas,'Courier New',monospace\"></pre>\n",
                  "text/plain": ""
                },
                "metadata": {},
                "output_type": "display_data"
              }
            ]
          }
        },
        "859e5ae0abf849e4b3210ac64ac5b65a": {
          "model_module": "@jupyter-widgets/base",
          "model_module_version": "1.2.0",
          "model_name": "LayoutModel",
          "state": {
            "_model_module": "@jupyter-widgets/base",
            "_model_module_version": "1.2.0",
            "_model_name": "LayoutModel",
            "_view_count": null,
            "_view_module": "@jupyter-widgets/base",
            "_view_module_version": "1.2.0",
            "_view_name": "LayoutView",
            "align_content": null,
            "align_items": null,
            "align_self": null,
            "border": null,
            "bottom": null,
            "display": null,
            "flex": null,
            "flex_flow": null,
            "grid_area": null,
            "grid_auto_columns": null,
            "grid_auto_flow": null,
            "grid_auto_rows": null,
            "grid_column": null,
            "grid_gap": null,
            "grid_row": null,
            "grid_template_areas": null,
            "grid_template_columns": null,
            "grid_template_rows": null,
            "height": null,
            "justify_content": null,
            "justify_items": null,
            "left": null,
            "margin": null,
            "max_height": null,
            "max_width": null,
            "min_height": null,
            "min_width": null,
            "object_fit": null,
            "object_position": null,
            "order": null,
            "overflow": null,
            "overflow_x": null,
            "overflow_y": null,
            "padding": null,
            "right": null,
            "top": null,
            "visibility": null,
            "width": null
          }
        },
        "8cbf1c840c9e407a919ec371e558cea0": {
          "model_module": "@jupyter-widgets/base",
          "model_module_version": "1.2.0",
          "model_name": "LayoutModel",
          "state": {
            "_model_module": "@jupyter-widgets/base",
            "_model_module_version": "1.2.0",
            "_model_name": "LayoutModel",
            "_view_count": null,
            "_view_module": "@jupyter-widgets/base",
            "_view_module_version": "1.2.0",
            "_view_name": "LayoutView",
            "align_content": null,
            "align_items": null,
            "align_self": null,
            "border": null,
            "bottom": null,
            "display": null,
            "flex": null,
            "flex_flow": null,
            "grid_area": null,
            "grid_auto_columns": null,
            "grid_auto_flow": null,
            "grid_auto_rows": null,
            "grid_column": null,
            "grid_gap": null,
            "grid_row": null,
            "grid_template_areas": null,
            "grid_template_columns": null,
            "grid_template_rows": null,
            "height": null,
            "justify_content": null,
            "justify_items": null,
            "left": null,
            "margin": null,
            "max_height": null,
            "max_width": null,
            "min_height": null,
            "min_width": null,
            "object_fit": null,
            "object_position": null,
            "order": null,
            "overflow": null,
            "overflow_x": null,
            "overflow_y": null,
            "padding": null,
            "right": null,
            "top": null,
            "visibility": null,
            "width": null
          }
        },
        "9f6338e3a9fb4a4fa4a3b5da14e6b471": {
          "model_module": "@jupyter-widgets/output",
          "model_module_version": "1.0.0",
          "model_name": "OutputModel",
          "state": {
            "_dom_classes": [],
            "_model_module": "@jupyter-widgets/output",
            "_model_module_version": "1.0.0",
            "_model_name": "OutputModel",
            "_view_count": null,
            "_view_module": "@jupyter-widgets/output",
            "_view_module_version": "1.0.0",
            "_view_name": "OutputView",
            "layout": "IPY_MODEL_d124da129802411086077527493bf39b",
            "msg_id": "",
            "outputs": [
              {
                "data": {
                  "text/html": "<pre style=\"white-space:pre;overflow-x:auto;line-height:normal;font-family:Menlo,'DejaVu Sans Mono',consolas,'Courier New',monospace\"><span style=\"color: #c0c0c0; text-decoration-color: #c0c0c0\">Testing</span> <span style=\"color: #6206e0; text-decoration-color: #6206e0\">━━━━━━━━━━━━━━━━━━━━━━━━━━━━━━━━━━━━━━━━</span> <span style=\"color: #c0c0c0; text-decoration-color: #c0c0c0\">35/35</span> <span style=\"color: #8a8a8a; text-decoration-color: #8a8a8a\">0:00:15 • 0:00:00</span> <span style=\"color: #b2b2b2; text-decoration-color: #b2b2b2\">2.23it/s</span>  \n</pre>\n",
                  "text/plain": "\u001b[37mTesting\u001b[0m \u001b[38;2;98;6;224m━━━━━━━━━━━━━━━━━━━━━━━━━━━━━━━━━━━━━━━━\u001b[0m \u001b[37m35/35\u001b[0m \u001b[38;5;245m0:00:15 • 0:00:00\u001b[0m \u001b[38;5;249m2.23it/s\u001b[0m  \n"
                },
                "metadata": {},
                "output_type": "display_data"
              }
            ]
          }
        },
        "9f83dd7662e64ba3a6ba27a387caa6bf": {
          "model_module": "@jupyter-widgets/output",
          "model_module_version": "1.0.0",
          "model_name": "OutputModel",
          "state": {
            "_dom_classes": [],
            "_model_module": "@jupyter-widgets/output",
            "_model_module_version": "1.0.0",
            "_model_name": "OutputModel",
            "_view_count": null,
            "_view_module": "@jupyter-widgets/output",
            "_view_module_version": "1.0.0",
            "_view_name": "OutputView",
            "layout": "IPY_MODEL_15ba4f7ba8c4464ab91aa8e39440837b",
            "msg_id": "",
            "outputs": [
              {
                "data": {
                  "text/html": "<pre style=\"white-space:pre;overflow-x:auto;line-height:normal;font-family:Menlo,'DejaVu Sans Mono',consolas,'Courier New',monospace\">Epoch 3/3  <span style=\"color: #6206e0; text-decoration-color: #6206e0\">━━━━━━━━━━━━━━━━━━━━━━━━━━━━━━━━</span> <span style=\"color: #c0c0c0; text-decoration-color: #c0c0c0\">1164/1164</span> <span style=\"color: #8a8a8a; text-decoration-color: #8a8a8a\">0:24:13 • 0:00:00</span> <span style=\"color: #b2b2b2; text-decoration-color: #b2b2b2\">2.50it/s</span> <span style=\"color: #c0c0c0; text-decoration-color: #c0c0c0\">loss: 0.129                       </span>\n                                                                                 <span style=\"color: #c0c0c0; text-decoration-color: #c0c0c0\">train/w_mse_2m_temperature_3.0_da…</span>\n                                                                                 <span style=\"color: #c0c0c0; text-decoration-color: #c0c0c0\">0.123 train/loss: 0.123           </span>\n</pre>\n",
                  "text/plain": "Epoch 3/3  \u001b[38;2;98;6;224m━━━━━━━━━━━━━━━━━━━━━━━━━━━━━━━━\u001b[0m \u001b[37m1164/1164\u001b[0m \u001b[38;5;245m0:24:13 • 0:00:00\u001b[0m \u001b[38;5;249m2.50it/s\u001b[0m \u001b[37mloss: 0.129                       \u001b[0m\n                                                                                 \u001b[37mtrain/w_mse_2m_temperature_3.0_da…\u001b[0m\n                                                                                 \u001b[37m0.123 train/loss: 0.123           \u001b[0m\n"
                },
                "metadata": {},
                "output_type": "display_data"
              }
            ]
          }
        },
        "d124da129802411086077527493bf39b": {
          "model_module": "@jupyter-widgets/base",
          "model_module_version": "1.2.0",
          "model_name": "LayoutModel",
          "state": {
            "_model_module": "@jupyter-widgets/base",
            "_model_module_version": "1.2.0",
            "_model_name": "LayoutModel",
            "_view_count": null,
            "_view_module": "@jupyter-widgets/base",
            "_view_module_version": "1.2.0",
            "_view_name": "LayoutView",
            "align_content": null,
            "align_items": null,
            "align_self": null,
            "border": null,
            "bottom": null,
            "display": null,
            "flex": null,
            "flex_flow": null,
            "grid_area": null,
            "grid_auto_columns": null,
            "grid_auto_flow": null,
            "grid_auto_rows": null,
            "grid_column": null,
            "grid_gap": null,
            "grid_row": null,
            "grid_template_areas": null,
            "grid_template_columns": null,
            "grid_template_rows": null,
            "height": null,
            "justify_content": null,
            "justify_items": null,
            "left": null,
            "margin": null,
            "max_height": null,
            "max_width": null,
            "min_height": null,
            "min_width": null,
            "object_fit": null,
            "object_position": null,
            "order": null,
            "overflow": null,
            "overflow_x": null,
            "overflow_y": null,
            "padding": null,
            "right": null,
            "top": null,
            "visibility": null,
            "width": null
          }
        },
        "f1b2b711e84a4e469d28ce506c5fbcc8": {
          "model_module": "@jupyter-widgets/output",
          "model_module_version": "1.0.0",
          "model_name": "OutputModel",
          "state": {
            "_dom_classes": [],
            "_model_module": "@jupyter-widgets/output",
            "_model_module_version": "1.0.0",
            "_model_name": "OutputModel",
            "_view_count": null,
            "_view_module": "@jupyter-widgets/output",
            "_view_module_version": "1.0.0",
            "_view_name": "OutputView",
            "layout": "IPY_MODEL_859e5ae0abf849e4b3210ac64ac5b65a",
            "msg_id": "",
            "outputs": [
              {
                "data": {
                  "text/html": "<pre style=\"white-space:pre;overflow-x:auto;line-height:normal;font-family:Menlo,'DejaVu Sans Mono',consolas,'Courier New',monospace\">Epoch 4/4  <span style=\"color: #6206e0; text-decoration-color: #6206e0\">━━━━━━━━━━━━━━━━━━━━━━━━━━━━━━━━━━</span> <span style=\"color: #c0c0c0; text-decoration-color: #c0c0c0\">24/24</span> <span style=\"color: #8a8a8a; text-decoration-color: #8a8a8a\">0:00:19 • 0:00:00</span> <span style=\"color: #b2b2b2; text-decoration-color: #b2b2b2\">1.24it/s</span> <span style=\"color: #c0c0c0; text-decoration-color: #c0c0c0\">loss: 0.0597 train/2m_temperature:  </span>\n                                                                               <span style=\"color: #c0c0c0; text-decoration-color: #c0c0c0\">0.056 train/loss: 0.056             </span>\n</pre>\n",
                  "text/plain": "Epoch 4/4  \u001b[38;2;98;6;224m━━━━━━━━━━━━━━━━━━━━━━━━━━━━━━━━━━\u001b[0m \u001b[37m24/24\u001b[0m \u001b[38;5;245m0:00:19 • 0:00:00\u001b[0m \u001b[38;5;249m1.24it/s\u001b[0m \u001b[37mloss: 0.0597 train/2m_temperature:  \u001b[0m\n                                                                               \u001b[37m0.056 train/loss: 0.056             \u001b[0m\n"
                },
                "metadata": {},
                "output_type": "display_data"
              }
            ]
          }
        }
      }
    }
  },
  "nbformat": 4,
  "nbformat_minor": 0
}
